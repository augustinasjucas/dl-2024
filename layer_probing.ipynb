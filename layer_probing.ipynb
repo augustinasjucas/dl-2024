{
  "cells": [
    {
      "cell_type": "code",
      "execution_count": 30,
      "metadata": {
        "colab": {
          "base_uri": "https://localhost:8080/"
        },
        "id": "NHODuAEfMMXA",
        "outputId": "bc678781-09a9-4a83-b824-622086b7c683"
      },
      "outputs": [
        {
          "output_type": "stream",
          "name": "stdout",
          "text": [
            "Requirement already satisfied: torch in /usr/local/lib/python3.10/dist-packages (2.5.1+cu121)\n",
            "Requirement already satisfied: torchvision in /usr/local/lib/python3.10/dist-packages (0.20.1+cu121)\n",
            "Requirement already satisfied: filelock in /usr/local/lib/python3.10/dist-packages (from torch) (3.16.1)\n",
            "Requirement already satisfied: typing-extensions>=4.8.0 in /usr/local/lib/python3.10/dist-packages (from torch) (4.12.2)\n",
            "Requirement already satisfied: networkx in /usr/local/lib/python3.10/dist-packages (from torch) (3.4.2)\n",
            "Requirement already satisfied: jinja2 in /usr/local/lib/python3.10/dist-packages (from torch) (3.1.4)\n",
            "Requirement already satisfied: fsspec in /usr/local/lib/python3.10/dist-packages (from torch) (2024.10.0)\n",
            "Requirement already satisfied: sympy==1.13.1 in /usr/local/lib/python3.10/dist-packages (from torch) (1.13.1)\n",
            "Requirement already satisfied: mpmath<1.4,>=1.1.0 in /usr/local/lib/python3.10/dist-packages (from sympy==1.13.1->torch) (1.3.0)\n",
            "Requirement already satisfied: numpy in /usr/local/lib/python3.10/dist-packages (from torchvision) (1.26.4)\n",
            "Requirement already satisfied: pillow!=8.3.*,>=5.3.0 in /usr/local/lib/python3.10/dist-packages (from torchvision) (11.0.0)\n",
            "Requirement already satisfied: MarkupSafe>=2.0 in /usr/local/lib/python3.10/dist-packages (from jinja2->torch) (3.0.2)\n"
          ]
        }
      ],
      "source": [
        "!pip install torch torchvision\n"
      ]
    },
    {
      "cell_type": "code",
      "execution_count": 31,
      "metadata": {
        "id": "t9cHkFVJNQPU"
      },
      "outputs": [],
      "source": [
        "import torch\n",
        "import torch.nn as nn\n",
        "import torch.optim as optim\n",
        "import torch.nn.functional as F\n",
        "from torch.utils.data import DataLoader, Subset\n",
        "import torchvision\n",
        "import torchvision.transforms as transforms\n",
        "\n",
        "import numpy as np\n",
        "import matplotlib.pyplot as plt\n",
        "from tqdm import tqdm\n"
      ]
    },
    {
      "cell_type": "code",
      "execution_count": 32,
      "metadata": {
        "colab": {
          "base_uri": "https://localhost:8080/"
        },
        "id": "i9xi42BMNVx6",
        "outputId": "cfe585af-bfbb-4ada-9e3a-ac66f61c9887"
      },
      "outputs": [
        {
          "output_type": "stream",
          "name": "stdout",
          "text": [
            "Using device: cuda\n"
          ]
        }
      ],
      "source": [
        "device = torch.device(\"cuda\" if torch.cuda.is_available() else \"cpu\")\n",
        "print(\"Using device:\", device)\n",
        "\n",
        "# Set some parameters\n",
        "batch_size = 128\n",
        "epochs_per_task = 7\n",
        "num_seeds = 1\n",
        "\n"
      ]
    },
    {
      "cell_type": "code",
      "execution_count": 33,
      "metadata": {
        "colab": {
          "base_uri": "https://localhost:8080/"
        },
        "id": "WKQrpF-MNYSg",
        "outputId": "19f27a1e-996a-4a6b-fd7a-3c1cf6089aee"
      },
      "outputs": [
        {
          "output_type": "stream",
          "name": "stdout",
          "text": [
            "Loading dataset: cifar100\n",
            "Files already downloaded and verified\n",
            "Files already downloaded and verified\n",
            "Splitting dataset into Task A and Task B...\n",
            "Data loaders are ready.\n"
          ]
        }
      ],
      "source": [
        "# Choose one of: \"mnist\", \"cifar10\", \"cifar100\"\n",
        "dataset_name = \"cifar100\"  # change this to \"cifar10\" or \"cifar100\" as needed\n",
        "\n",
        "print(f\"Loading dataset: {dataset_name}\")\n",
        "\n",
        "if dataset_name == \"mnist\":\n",
        "    # MNIST: Single-channel, classes 0-9\n",
        "    transform = transforms.Compose([\n",
        "        transforms.ToTensor(),\n",
        "        transforms.Normalize((0.1307,), (0.3081,))\n",
        "    ])\n",
        "\n",
        "    train_dataset = torchvision.datasets.MNIST(root=\"./data\", train=True, download=True, transform=transform)\n",
        "    test_dataset = torchvision.datasets.MNIST(root=\"./data\", train=False, download=True, transform=transform)\n",
        "\n",
        "    task_A_classes = [0,1,2,3,4]\n",
        "    task_B_classes = [5,6,7,8,9]\n",
        "\n",
        "elif dataset_name == \"cifar10\":\n",
        "    # CIFAR-10: 3-channel, classes 0-9\n",
        "    cifar10_mean = (0.4914, 0.4822, 0.4465)\n",
        "    cifar10_std = (0.2023, 0.1994, 0.2010)\n",
        "    transform = transforms.Compose([\n",
        "        transforms.ToTensor(),\n",
        "        transforms.Normalize(cifar10_mean, cifar10_std)\n",
        "    ])\n",
        "    train_dataset = torchvision.datasets.CIFAR10(root=\"./data\", train=True, download=True, transform=transform)\n",
        "    test_dataset = torchvision.datasets.CIFAR10(root=\"./data\", train=False, download=True, transform=transform)\n",
        "\n",
        "    task_A_classes = [0,1,2,3,4]\n",
        "    task_B_classes = [5,6,7,8,9]\n",
        "\n",
        "elif dataset_name == \"cifar100\":\n",
        "    # CIFAR-100: 3-channel, classes 0-99\n",
        "    cifar100_mean = (0.5071, 0.4865, 0.4409)\n",
        "    cifar100_std = (0.2673, 0.2564, 0.2762)\n",
        "    transform = transforms.Compose([\n",
        "        transforms.ToTensor(),\n",
        "        transforms.Normalize(cifar100_mean, cifar100_std)\n",
        "    ])\n",
        "    train_dataset = torchvision.datasets.CIFAR100(root=\"./data\", train=True, download=True, transform=transform)\n",
        "    test_dataset = torchvision.datasets.CIFAR100(root=\"./data\", train=False, download=True, transform=transform)\n",
        "\n",
        "    # Example split for CIFAR-100: first 50 classes for Task A, next 50 for Task B\n",
        "    task_A_classes = list(range(50))\n",
        "    task_B_classes = list(range(50, 100))\n",
        "\n",
        "elif dataset_name == \"cifar100_1\":\n",
        "    # CIFAR-100 is arranged into 20 supercategories (coarse labels), each containing 5 classes (fine labels).\n",
        "    # Each supercategory groups classes that share a high-level semantic theme.\n",
        "    #\n",
        "    # We choose 5 distinct supercategories and assign classes to Task A and Task B as per your requested pattern:\n",
        "    # 1) One supercategory with a (2,2) split\n",
        "    # 2) One supercategory with a (1,0) split\n",
        "    # 3) One supercategory with a (0,1) split\n",
        "    # 4) One supercategory with a (1,4) split\n",
        "    # 5) One supercategory with a (4,1) split\n",
        "    #\n",
        "    # Chosen supercategories and their classes (taken from CIFAR-100’s known 100 classes, alphabetically sorted):\n",
        "    #\n",
        "    # Supercategory: aquatic_mammals (2,2 split)\n",
        "    # Classes: beaver(4), dolphin(30), otter(55), seal(72), whale(95)\n",
        "    # A=[4,30], B=[55,72] (We leave out 95)\n",
        "    #\n",
        "    # Supercategory: fish (1,0 split)\n",
        "    # Classes: aquarium_fish(1), flatfish(32), ray(67), shark(73), trout(91)\n",
        "    # A=[1], B=[]\n",
        "    #\n",
        "    # Supercategory: flowers (0,1 split)\n",
        "    # Classes: orchid(54), poppy(62), rose(70), sunflower(82), tulip(92)\n",
        "    # A=[], B=[54] (We ignore the others)\n",
        "    #\n",
        "    # Supercategory: household_furniture (1,4 split)\n",
        "    # Classes: bed(5), chair(20), couch(25), table(84), wardrobe(94)\n",
        "    # A=[20], B=[5,25,84,94]\n",
        "    #\n",
        "    # Supercategory: large_man-made_outdoor_things (4,1 split)\n",
        "    # Classes: bridge(12), castle(17), house(37), road(68), skyscraper(76)\n",
        "    # A=[12,17,37,68], B=[76]\n",
        "\n",
        "    # Combine all chosen classes for Task A:\n",
        "    # A from aquatic_mammals: [4,30]\n",
        "    # A from fish: [1]\n",
        "    # A from flowers: []\n",
        "    # A from household_furniture: [20]\n",
        "    # A from large_man-made_outdoor_things: [12,17,37,68]\n",
        "    # Total A = [1,4,12,17,20,30,37,68]\n",
        "\n",
        "    # Combine all chosen classes for Task B:\n",
        "    # B from aquatic_mammals: [55,72]\n",
        "    # B from fish: []\n",
        "    # B from flowers: [54]\n",
        "    # B from household_furniture: [5,25,84,94]\n",
        "    # B from large_man-made_outdoor_things: [76]\n",
        "    # Total B = [5,25,54,55,72,76,84,94]\n",
        "\n",
        "    task_A_classes = [1,4,12,17,20,30,37,68]\n",
        "    task_B_classes = [5,25,54,55,72,76,84,94]\n",
        "\n",
        "    # Normalization for CIFAR-100\n",
        "    cifar100_mean = (0.5071, 0.4865, 0.4409)\n",
        "    cifar100_std = (0.2673, 0.2564, 0.2762)\n",
        "    transform = transforms.Compose([\n",
        "        transforms.ToTensor(),\n",
        "        transforms.Normalize(cifar100_mean, cifar100_std)\n",
        "    ])\n",
        "    train_dataset = torchvision.datasets.CIFAR100(root=\"./data\", train=True, download=True, transform=transform)\n",
        "    test_dataset = torchvision.datasets.CIFAR100(root=\"./data\", train=False, download=True, transform=transform)\n",
        "\n",
        "else:\n",
        "    raise ValueError(\"Unknown dataset name\")\n",
        "\n",
        "def get_class_indices(dataset, classes):\n",
        "    return [i for i, (x,y) in enumerate(dataset) if y in classes]\n",
        "\n",
        "print(\"Splitting dataset into Task A and Task B...\")\n",
        "\n",
        "train_indices_A = get_class_indices(train_dataset, task_A_classes)\n",
        "train_indices_B = get_class_indices(train_dataset, task_B_classes)\n",
        "\n",
        "test_indices_A = get_class_indices(test_dataset, task_A_classes)\n",
        "test_indices_B = get_class_indices(test_dataset, task_B_classes)\n",
        "\n",
        "train_loader_A = DataLoader(Subset(train_dataset, train_indices_A), batch_size=batch_size, shuffle=True)\n",
        "train_loader_B = DataLoader(Subset(train_dataset, train_indices_B), batch_size=batch_size, shuffle=True)\n",
        "\n",
        "test_loader_A = DataLoader(Subset(test_dataset, test_indices_A), batch_size=batch_size, shuffle=False)\n",
        "test_loader_B = DataLoader(Subset(test_dataset, test_indices_B), batch_size=batch_size, shuffle=False)\n",
        "\n",
        "print(\"Data loaders are ready.\")\n"
      ]
    },
    {
      "cell_type": "code",
      "execution_count": 34,
      "metadata": {
        "id": "9ZHRzsF1NapY",
        "colab": {
          "base_uri": "https://localhost:8080/"
        },
        "outputId": "da56b05d-55e8-4964-aaa1-0be937520be0"
      },
      "outputs": [
        {
          "output_type": "stream",
          "name": "stdout",
          "text": [
            "Model class defined for: cifar100\n"
          ]
        }
      ],
      "source": [
        "# Define model depending on the dataset\n",
        "# For MNIST: single-channel input (1x28x28)\n",
        "# For CIFAR: 3-channel input (3x32x32)\n",
        "# Adjust architecture as needed.\n",
        "\n",
        "if dataset_name == \"mnist\":\n",
        "    # Simple model for MNIST\n",
        "    class SimpleCNN(nn.Module):\n",
        "        def __init__(self, num_classes=10):\n",
        "            super(SimpleCNN, self).__init__()\n",
        "            self.conv1 = nn.Conv2d(1, 16, 3, 1)  # 1 channel in\n",
        "            self.conv2 = nn.Conv2d(16, 32, 3, 1)\n",
        "            self.fc1 = nn.Linear(32*24*24, 100)\n",
        "            self.fc2 = nn.Linear(100, num_classes)\n",
        "        def forward(self, x, return_intermediate=False):\n",
        "            x = F.relu(self.conv1(x))\n",
        "            x = F.relu(self.conv2(x))\n",
        "            x = x.view(x.size(0), -1)\n",
        "            embedding = F.relu(self.fc1(x))\n",
        "            out = self.fc2(embedding)\n",
        "            if return_intermediate:\n",
        "                return out, embedding\n",
        "            return out\n",
        "\n",
        "elif dataset_name == \"cifar10\":\n",
        "    # Simple model for CIFAR-10\n",
        "    class SimpleCNN(nn.Module):\n",
        "        def __init__(self, num_classes=10):\n",
        "            super(SimpleCNN, self).__init__()\n",
        "            self.conv1 = nn.Conv2d(3, 32, 3, 1) # 3 channels for CIFAR\n",
        "            self.conv2 = nn.Conv2d(32, 64, 3, 1)\n",
        "            self.pool = nn.MaxPool2d(2,2)\n",
        "            self.conv3 = nn.Conv2d(64, 128, 3, 1)\n",
        "            self.pool2 = nn.MaxPool2d(2,2)\n",
        "            self.fc1 = nn.Linear(128*6*6, 256)  # 32x32 -> after two pools -> 8x8, minus padding from conv\n",
        "            self.fc2 = nn.Linear(256, num_classes)\n",
        "        def forward(self, x, return_intermediate=False):\n",
        "            x = F.relu(self.conv1(x))\n",
        "            x = F.relu(self.conv2(x))\n",
        "            x = self.pool(x)\n",
        "            x = F.relu(self.conv3(x))\n",
        "            x = self.pool2(x)\n",
        "            x = x.view(x.size(0), -1)\n",
        "            embedding = F.relu(self.fc1(x))\n",
        "            out = self.fc2(embedding)\n",
        "            if return_intermediate:\n",
        "                return out, embedding\n",
        "            return out\n",
        "\n",
        "elif dataset_name == \"cifar100\":\n",
        "    # Simple model for CIFAR-100\n",
        "    # Same architecture as CIFAR-10, but num_classes = 100\n",
        "  class SimpleCNN(nn.Module):\n",
        "    def __init__(self, num_classes=100):\n",
        "        super(SimpleCNN, self).__init__()\n",
        "        self.conv1 = nn.Conv2d(3, 32, 3, 1)\n",
        "        self.conv2 = nn.Conv2d(32, 64, 3, 1)\n",
        "        self.pool = nn.MaxPool2d(2,2)\n",
        "        self.conv3 = nn.Conv2d(64, 128, 3, 1)\n",
        "        self.pool2 = nn.MaxPool2d(2,2)\n",
        "        self.fc1 = nn.Linear(128*6*6, 256)\n",
        "        self.fc2 = nn.Linear(256, 128)\n",
        "        self.fc3 = nn.Linear(128, 64)\n",
        "        self.fc4 = nn.Linear(64, num_classes)  # final output layer\n",
        "\n",
        "    def forward(self, x, return_intermediate=False):\n",
        "        x = F.relu(self.conv1(x))\n",
        "        x = F.relu(self.conv2(x))\n",
        "        x = self.pool(x)\n",
        "        x = F.relu(self.conv3(x))\n",
        "        x = self.pool2(x)\n",
        "        x = x.view(x.size(0), -1)\n",
        "        x = F.relu(self.fc1(x))\n",
        "        x = F.relu(self.fc2(x))\n",
        "        embedding = F.relu(self.fc3(x))\n",
        "        out = self.fc4(embedding)\n",
        "\n",
        "        if return_intermediate:\n",
        "            return out, embedding\n",
        "        return out\n",
        "else:\n",
        "  # Simple model for CIFAR-100\n",
        "    # Same architecture as CIFAR-10, but num_classes = 100\n",
        "\n",
        "  class SimpleCNN(nn.Module):\n",
        "    def __init__(self, num_classes=100):\n",
        "        super(SimpleCNN, self).__init__()\n",
        "        self.conv1 = nn.Conv2d(3, 32, 3, 1)\n",
        "        self.conv2 = nn.Conv2d(32, 64, 3, 1)\n",
        "        self.pool = nn.MaxPool2d(2,2)\n",
        "        self.conv3 = nn.Conv2d(64, 128, 3, 1)\n",
        "        self.pool2 = nn.MaxPool2d(2,2)\n",
        "        self.fc1 = nn.Linear(128*6*6, 256)\n",
        "        self.fc2 = nn.Linear(256, 128)\n",
        "        self.fc3 = nn.Linear(128, 64)\n",
        "        self.fc4 = nn.Linear(64, num_classes)  # final output layer\n",
        "\n",
        "    def forward(self, x, return_intermediate=False):\n",
        "        x = F.relu(self.conv1(x))\n",
        "        x = F.relu(self.conv2(x))\n",
        "        x = self.pool(x)\n",
        "        x = F.relu(self.conv3(x))\n",
        "        x = self.pool2(x)\n",
        "        x = x.view(x.size(0), -1)\n",
        "        x = F.relu(self.fc1(x))\n",
        "        x = F.relu(self.fc2(x))\n",
        "        embedding = F.relu(self.fc3(x))\n",
        "        out = self.fc4(embedding)\n",
        "\n",
        "        if return_intermediate:\n",
        "            return out, embedding\n",
        "        return out\n",
        "\n",
        "\n",
        "print(\"Model class defined for:\", dataset_name)\n"
      ]
    },
    {
      "cell_type": "code",
      "execution_count": 35,
      "metadata": {
        "id": "fAwUjwQzNek2"
      },
      "outputs": [],
      "source": [
        "def train_model(model, loader, optimizer, criterion, epochs=1, verbose=True):\n",
        "    model.train()\n",
        "    for epoch in range(epochs):\n",
        "        total_loss = 0.0\n",
        "        total_correct = 0\n",
        "        total_samples = 0\n",
        "\n",
        "        pbar = tqdm(loader, desc=f\"Training Epoch {epoch+1}/{epochs}\", leave=False)\n",
        "\n",
        "        for x, y in pbar:\n",
        "            x, y = x.to(device), y.to(device)\n",
        "            optimizer.zero_grad()\n",
        "            out = model(x)\n",
        "            loss = criterion(out, y)\n",
        "            loss.backward()\n",
        "            optimizer.step()\n",
        "\n",
        "            total_loss += loss.item() * x.size(0)\n",
        "            preds = out.argmax(dim=1)\n",
        "            total_correct += (preds == y).sum().item()\n",
        "            total_samples += y.size(0)\n",
        "\n",
        "            if verbose:\n",
        "                pbar.set_postfix({\n",
        "                    \"Loss\": f\"{loss.item():.4f}\",\n",
        "                    \"Acc\": f\"{100 * total_correct/total_samples:.2f}%\"\n",
        "                })\n",
        "\n",
        "        epoch_loss = total_loss / total_samples\n",
        "        epoch_acc = total_correct / total_samples\n",
        "        print(f\"  -> Epoch {epoch+1}/{epochs} done. Loss: {epoch_loss:.4f}, Acc: {epoch_acc*100:.2f}%\")\n",
        "\n",
        "def evaluate_model(model, loader, verbose=True):\n",
        "    model.eval()\n",
        "    correct = 0\n",
        "    total = 0\n",
        "    with torch.no_grad():\n",
        "        for x, y in loader:\n",
        "            x, y = x.to(device), y.to(device)\n",
        "            out = model(x)\n",
        "            preds = out.argmax(dim=1)\n",
        "            correct += (preds == y).sum().item()\n",
        "            total += y.size(0)\n",
        "    acc = correct / total\n",
        "    if verbose:\n",
        "        print(f\"Evaluation: Accuracy = {acc*100:.2f}%\")\n",
        "    return acc\n"
      ]
    },
    {
      "cell_type": "code",
      "execution_count": 36,
      "metadata": {
        "id": "Dbd0r3KHfHOD",
        "colab": {
          "base_uri": "https://localhost:8080/"
        },
        "outputId": "9da1fdef-0cf4-4e90-ed12-bcc6006b76a1"
      },
      "outputs": [
        {
          "output_type": "stream",
          "name": "stdout",
          "text": [
            "\n",
            "Starting Probing Experiment (Multi-Seed with per-class breakdown and summary statistics)...\n"
          ]
        }
      ],
      "source": [
        "print(\"\\nStarting Probing Experiment (Multi-Seed with per-class breakdown and summary statistics)...\")\n",
        "\n",
        "# Define class names based on the dataset\n",
        "if dataset_name == \"mnist\":\n",
        "    class_names_full = [str(i) for i in range(10)]\n",
        "elif dataset_name == \"cifar10\":\n",
        "    class_names_full = ['airplane','automobile','bird','cat','deer',\n",
        "                        'dog','frog','horse','ship','truck']\n",
        "elif dataset_name == \"cifar100\" or dataset_name == \"cifar100_1\":\n",
        "    # CIFAR-100 classes are alphabetically ordered in train_dataset.classes\n",
        "    class_names_full = train_dataset.classes\n",
        "else:\n",
        "    # Fallback in case of an unknown dataset\n",
        "    class_names_full = [f\"Class_{i}\" for i in range(max(task_A_classes+task_B_classes)+1)]\n",
        "\n",
        "def evaluate_model_per_class(model, loader, classes=[0,1,2,3,4], verbose=True):\n",
        "    model.eval()\n",
        "    class_correct = {c: 0 for c in classes}\n",
        "    class_total = {c: 0 for c in classes}\n",
        "\n",
        "    with torch.no_grad():\n",
        "        for x, y in loader:\n",
        "            x, y = x.to(device), y.to(device)\n",
        "            out = model(x)\n",
        "            preds = out.argmax(dim=1)\n",
        "            for c in classes:\n",
        "                class_mask = (y == c)\n",
        "                class_correct[c] += (preds[class_mask] == c).sum().item()\n",
        "                class_total[c] += class_mask.sum().item()\n",
        "\n",
        "    total_correct = sum(class_correct.values())\n",
        "    total_samples = sum(class_total.values())\n",
        "    total_accuracy = total_correct / total_samples if total_samples > 0 else 0.0\n",
        "\n",
        "    class_accuracies = {}\n",
        "    if verbose:\n",
        "        print(f\"Overall Accuracy: {total_accuracy*100:.2f}%\")\n",
        "    for c in classes:\n",
        "        if class_total[c] > 0:\n",
        "            class_accuracies[c] = class_correct[c] / class_total[c]\n",
        "        else:\n",
        "            class_accuracies[c] = 0.0\n",
        "        if verbose:\n",
        "            class_name = class_names_full[c] if c < len(class_names_full) else f\"Class_{c}\"\n",
        "            print(f\"  Class {c} ({class_name}): {class_accuracies[c]*100:.2f}%\")\n",
        "\n",
        "    return total_accuracy, class_accuracies\n",
        "\n",
        "def probe_model(freeze_up_to_layer=\"conv1\", model_state=None, randomize=False, sequential=False):\n",
        "    \"\"\"\n",
        "    Probe model for both sequential and non-sequential cases\n",
        "    Args:\n",
        "        freeze_up_to_layer: Which layer to freeze up to\n",
        "        model_state: Model state dict to load\n",
        "        randomize: Whether to use random initialization\n",
        "        sequential: Whether we're in sequential mode (using tasks) or non-sequential (using task_A_classes)\n",
        "    \"\"\"\n",
        "    num_classes = len(class_names_full)\n",
        "    probed_model = SimpleCNN(num_classes=num_classes).to(device)\n",
        "\n",
        "    if not randomize:\n",
        "        missing = probed_model.load_state_dict(model_state, strict=False)\n",
        "\n",
        "    def reinit(module):\n",
        "        if hasattr(module, 'reset_parameters'):\n",
        "            module.reset_parameters()\n",
        "\n",
        "    # Freeze layers and re-init subsequent layers\n",
        "    if freeze_up_to_layer == \"conv1\":\n",
        "        for p in probed_model.conv1.parameters():\n",
        "            p.requires_grad = False\n",
        "        probed_model.conv2.apply(reinit)\n",
        "        probed_model.conv3.apply(reinit)\n",
        "        probed_model.fc1.apply(reinit)\n",
        "        probed_model.fc2.apply(reinit)\n",
        "        probed_model.fc3.apply(reinit)\n",
        "        probed_model.fc4.apply(reinit)\n",
        "\n",
        "    elif freeze_up_to_layer == \"conv2\":\n",
        "        for p in probed_model.conv1.parameters():\n",
        "            p.requires_grad = False\n",
        "        for p in probed_model.conv2.parameters():\n",
        "            p.requires_grad = False\n",
        "        probed_model.conv3.apply(reinit)\n",
        "        probed_model.fc1.apply(reinit)\n",
        "        probed_model.fc2.apply(reinit)\n",
        "        probed_model.fc3.apply(reinit)\n",
        "        probed_model.fc4.apply(reinit)\n",
        "\n",
        "    elif freeze_up_to_layer == \"conv3\":\n",
        "        for p in probed_model.conv1.parameters():\n",
        "            p.requires_grad = False\n",
        "        for p in probed_model.conv2.parameters():\n",
        "            p.requires_grad = False\n",
        "        for p in probed_model.conv3.parameters():\n",
        "            p.requires_grad = False\n",
        "        probed_model.fc1.apply(reinit)\n",
        "        probed_model.fc2.apply(reinit)\n",
        "        probed_model.fc3.apply(reinit)\n",
        "        probed_model.fc4.apply(reinit)\n",
        "\n",
        "    elif freeze_up_to_layer == \"fc1\":\n",
        "        for p in probed_model.conv1.parameters():\n",
        "            p.requires_grad = False\n",
        "        for p in probed_model.conv2.parameters():\n",
        "            p.requires_grad = False\n",
        "        for p in probed_model.conv3.parameters():\n",
        "            p.requires_grad = False\n",
        "        for p in probed_model.fc1.parameters():\n",
        "            p.requires_grad = False\n",
        "        probed_model.fc2.apply(reinit)\n",
        "        probed_model.fc3.apply(reinit)\n",
        "        probed_model.fc4.apply(reinit)\n",
        "\n",
        "    elif freeze_up_to_layer == \"fc2\":\n",
        "        for p in probed_model.conv1.parameters():\n",
        "            p.requires_grad = False\n",
        "        for p in probed_model.conv2.parameters():\n",
        "            p.requires_grad = False\n",
        "        for p in probed_model.conv3.parameters():\n",
        "            p.requires_grad = False\n",
        "        for p in probed_model.fc1.parameters():\n",
        "            p.requires_grad = False\n",
        "        for p in probed_model.fc2.parameters():\n",
        "            p.requires_grad = False\n",
        "        probed_model.fc3.apply(reinit)\n",
        "        probed_model.fc4.apply(reinit)\n",
        "\n",
        "    elif freeze_up_to_layer == \"fc3\":\n",
        "        for p in probed_model.conv1.parameters():\n",
        "            p.requires_grad = False\n",
        "        for p in probed_model.conv2.parameters():\n",
        "            p.requires_grad = False\n",
        "        for p in probed_model.conv3.parameters():\n",
        "            p.requires_grad = False\n",
        "        for p in probed_model.fc1.parameters():\n",
        "            p.requires_grad = False\n",
        "        for p in probed_model.fc2.parameters():\n",
        "            p.requires_grad = False\n",
        "        for p in probed_model.fc3.parameters():\n",
        "            p.requires_grad = False\n",
        "        probed_model.fc4.apply(reinit)\n",
        "\n",
        "    else:\n",
        "        raise ValueError(f\"Unknown freeze_up_to_layer: {freeze_up_to_layer}\")\n",
        "\n",
        "    # Create appropriate train and test loaders based on mode\n",
        "    if sequential:\n",
        "        # Sequential mode: use all classes from all tasks\n",
        "        all_classes = [c for task in tasks for c in task]\n",
        "        train_indices = get_class_indices(train_dataset, all_classes)\n",
        "        test_indices = get_class_indices(test_dataset, all_classes)\n",
        "    else:\n",
        "        # Non-sequential mode: use task_A_classes\n",
        "        train_indices = get_class_indices(train_dataset, task_A_classes)\n",
        "        test_indices = get_class_indices(test_dataset, task_A_classes)\n",
        "\n",
        "    train_loader = DataLoader(\n",
        "        Subset(train_dataset, train_indices),\n",
        "        batch_size=batch_size,\n",
        "        shuffle=True\n",
        "    )\n",
        "\n",
        "    test_loader = DataLoader(\n",
        "        Subset(test_dataset, test_indices),\n",
        "        batch_size=batch_size,\n",
        "        shuffle=False\n",
        "    )\n",
        "\n",
        "    # Train\n",
        "    opt = optim.Adam(filter(lambda p: p.requires_grad, probed_model.parameters()), lr=0.001)\n",
        "    train_model(probed_model, train_loader, opt, nn.CrossEntropyLoss(),\n",
        "                epochs=epochs_per_task, verbose=True)\n",
        "\n",
        "    # Evaluate\n",
        "    print(\"Evaluating probed model (Overall + Per-Class):\")\n",
        "    if sequential:\n",
        "        classes_to_evaluate = all_classes\n",
        "    else:\n",
        "        classes_to_evaluate = task_A_classes\n",
        "\n",
        "    overall_acc, class_accs = evaluate_model_per_class(probed_model, test_loader,\n",
        "                                                     classes=classes_to_evaluate)\n",
        "    return overall_acc, class_accs\n"
      ]
    },
    {
      "cell_type": "code",
      "source": [
        "not_sequnetial = True\n",
        "if not_sequnetial:\n",
        "  # Define dictionaries before training\n",
        "  A_before_per_class = {c:[] for c in task_A_classes}\n",
        "  A_after_per_class = {c:[] for c in task_A_classes}\n",
        "  B_per_class = {c:[] for c in task_B_classes}\n",
        "  accuracy_A_before_list = []\n",
        "  accuracy_A_after_list = []\n",
        "  accuracy_B_list = []\n",
        "\n",
        "  # Run cyclical training\n",
        "  do_cyclical = True\n",
        "  num_cycles = 1 if do_cyclical else 1\n",
        "\n",
        "  print(\"Starting Continual Learning Experiments...\")\n",
        "  print(f\"Cyclical mode: {'Enabled' if do_cyclical else 'Disabled'}\")\n",
        "  print(f\"Number of cycles: {num_cycles}\")\n",
        "\n",
        "  final_models_after_B=[]\n",
        "\n",
        "  for seed in range(num_seeds):\n",
        "      print(f\"\\n--- Seed {seed} ---\")\n",
        "      torch.manual_seed(seed)\n",
        "      np.random.seed(seed)\n",
        "\n",
        "      model=SimpleCNN(num_classes=len(class_names_full)).to(device)\n",
        "      optimizer=optim.Adam(model.parameters(), lr=0.001)\n",
        "      criterion=nn.CrossEntropyLoss()\n",
        "\n",
        "      for cycle in range(num_cycles):\n",
        "          # Train A\n",
        "          print(\"Training on Task A (classes:\", task_A_classes, \")...\")\n",
        "          train_model(model, train_loader_A, optimizer, criterion, epochs=epochs_per_task, verbose=True)\n",
        "          acc_A_before, class_accs_A_before = evaluate_model_per_class(model, test_loader_A, classes=task_A_classes, verbose=False)\n",
        "          # Store A-before\n",
        "          if cycle==0:\n",
        "              accuracy_A_before_list.append(acc_A_before)\n",
        "          for c in task_A_classes:\n",
        "              A_before_per_class[c].append(class_accs_A_before[c])\n",
        "\n",
        "          # Train B\n",
        "          print(\"Training on Task B (classes:\", task_B_classes, \")...\")\n",
        "          train_model(model, train_loader_B, optimizer, criterion, epochs=epochs_per_task, verbose=True)\n",
        "          acc_A_after, class_accs_A_after = evaluate_model_per_class(model, test_loader_A, classes=task_A_classes, verbose=False)\n",
        "          acc_B, class_accs_B = evaluate_model_per_class(model, test_loader_B, classes=task_B_classes, verbose=False)\n",
        "          if cycle==num_cycles-1:\n",
        "              accuracy_A_after_list.append(acc_A_after)\n",
        "              accuracy_B_list.append(acc_B)\n",
        "          for c in task_A_classes:\n",
        "              A_after_per_class[c].append(class_accs_A_after[c])\n",
        "          for c in task_B_classes:\n",
        "              B_per_class[c].append(class_accs_B[c])\n",
        "\n",
        "      final_state=model.state_dict()\n",
        "      final_state_copy={k:v.cpu().clone() for k,v in final_state.items()}\n",
        "      final_models_after_B.append(final_state_copy)\n",
        "\n",
        "  print(\"\\n----- Results Over All Seeds -----\")\n",
        "  avg_accuracy_A_before = np.mean(accuracy_A_before_list)\n",
        "  std_accuracy_A_before = np.std(accuracy_A_before_list)\n",
        "  avg_accuracy_A_after = np.mean(accuracy_A_after_list)\n",
        "  std_accuracy_A_after = np.std(accuracy_A_after_list)\n",
        "  avg_accuracy_B = np.mean(accuracy_B_list)\n",
        "  std_accuracy_B = np.std(accuracy_B_list)\n",
        "  forgetting = avg_accuracy_A_before - avg_accuracy_A_after\n",
        "\n",
        "  print(f\"Average Accuracy on Task A before second training: {avg_accuracy_A_before*100:.2f}% ± {std_accuracy_A_before*100:.2f}%\")\n",
        "  print(f\"Average Accuracy on Task A after second training:  {avg_accuracy_A_after*100:.2f}% ± {std_accuracy_A_after*100:.2f}%\")\n",
        "  print(f\"Average Accuracy on Task B after second training:   {avg_accuracy_B*100:.2f}% ± {std_accuracy_B*100:.2f}%\")\n",
        "  print(f\"Forgetting (Task A): {forgetting*100:.2f}%\")\n",
        "\n",
        "  print(\"\\nPer-Class Accuracies for Task A before training on B (Mean ± Std):\")\n",
        "  for c in task_A_classes:\n",
        "      mean_c=np.mean(A_before_per_class[c])*100\n",
        "      std_c=np.std(A_before_per_class[c])*100\n",
        "      class_name=class_names_full[c] if c<len(class_names_full) else f\"Class_{c}\"\n",
        "      print(f\"  Class {c} ({class_name}): {mean_c:.2f}% ± {std_c:.2f}%\")\n",
        "\n",
        "  print(\"\\nPer-Class Accuracies for Task A after training on B (Mean ± Std):\")\n",
        "  for c in task_A_classes:\n",
        "      mean_c=np.mean(A_after_per_class[c])*100\n",
        "      std_c=np.std(A_after_per_class[c])*100\n",
        "      class_name=class_names_full[c] if c<len(class_names_full) else f\"Class_{c}\"\n",
        "      print(f\"  Class {c} ({class_name}): {mean_c:.2f}% ± {std_c:.2f}%\")\n",
        "\n",
        "  print(\"\\nPer-Class Accuracies for Task B after training on B (Mean ± Std):\")\n",
        "  for c in task_B_classes:\n",
        "      mean_c=np.mean(B_per_class[c])*100\n",
        "      std_c=np.std(B_per_class[c])*100\n",
        "      class_name=class_names_full[c] if c<len(class_names_full) else f\"Class_{c}\"\n",
        "      print(f\"  Class {c} ({class_name}): {mean_c:.2f}% ± {std_c:.2f}%\")"
      ],
      "metadata": {
        "id": "23IjxlaA5G2u",
        "colab": {
          "base_uri": "https://localhost:8080/"
        },
        "outputId": "ff6e5236-1f6a-41eb-997d-944bef43f636"
      },
      "execution_count": 44,
      "outputs": [
        {
          "output_type": "stream",
          "name": "stdout",
          "text": [
            "Starting Continual Learning Experiments...\n",
            "Cyclical mode: Enabled\n",
            "Number of cycles: 1\n",
            "\n",
            "--- Seed 0 ---\n",
            "Training on Task A (classes: [0, 1, 2, 3, 4, 5, 6, 7, 8, 9, 10, 11, 12, 13, 14, 15, 16, 17, 18, 19, 20, 21, 22, 23, 24, 25, 26, 27, 28, 29, 30, 31, 32, 33, 34, 35, 36, 37, 38, 39, 40, 41, 42, 43, 44, 45, 46, 47, 48, 49] )...\n"
          ]
        },
        {
          "output_type": "stream",
          "name": "stderr",
          "text": []
        },
        {
          "output_type": "stream",
          "name": "stdout",
          "text": [
            "  -> Epoch 1/7 done. Loss: 3.6932, Acc: 8.16%\n"
          ]
        },
        {
          "output_type": "stream",
          "name": "stderr",
          "text": []
        },
        {
          "output_type": "stream",
          "name": "stdout",
          "text": [
            "  -> Epoch 2/7 done. Loss: 3.1152, Acc: 19.53%\n"
          ]
        },
        {
          "output_type": "stream",
          "name": "stderr",
          "text": []
        },
        {
          "output_type": "stream",
          "name": "stdout",
          "text": [
            "  -> Epoch 3/7 done. Loss: 2.7805, Acc: 26.82%\n"
          ]
        },
        {
          "output_type": "stream",
          "name": "stderr",
          "text": []
        },
        {
          "output_type": "stream",
          "name": "stdout",
          "text": [
            "  -> Epoch 4/7 done. Loss: 2.4714, Acc: 33.90%\n"
          ]
        },
        {
          "output_type": "stream",
          "name": "stderr",
          "text": []
        },
        {
          "output_type": "stream",
          "name": "stdout",
          "text": [
            "  -> Epoch 5/7 done. Loss: 2.2166, Acc: 39.72%\n"
          ]
        },
        {
          "output_type": "stream",
          "name": "stderr",
          "text": []
        },
        {
          "output_type": "stream",
          "name": "stdout",
          "text": [
            "  -> Epoch 6/7 done. Loss: 2.0081, Acc: 44.38%\n"
          ]
        },
        {
          "output_type": "stream",
          "name": "stderr",
          "text": []
        },
        {
          "output_type": "stream",
          "name": "stdout",
          "text": [
            "  -> Epoch 7/7 done. Loss: 1.8302, Acc: 48.73%\n",
            "Training on Task B (classes: [50, 51, 52, 53, 54, 55, 56, 57, 58, 59, 60, 61, 62, 63, 64, 65, 66, 67, 68, 69, 70, 71, 72, 73, 74, 75, 76, 77, 78, 79, 80, 81, 82, 83, 84, 85, 86, 87, 88, 89, 90, 91, 92, 93, 94, 95, 96, 97, 98, 99] )...\n"
          ]
        },
        {
          "output_type": "stream",
          "name": "stderr",
          "text": []
        },
        {
          "output_type": "stream",
          "name": "stdout",
          "text": [
            "  -> Epoch 1/7 done. Loss: 3.7935, Acc: 6.91%\n"
          ]
        },
        {
          "output_type": "stream",
          "name": "stderr",
          "text": []
        },
        {
          "output_type": "stream",
          "name": "stdout",
          "text": [
            "  -> Epoch 2/7 done. Loss: 3.1415, Acc: 15.20%\n"
          ]
        },
        {
          "output_type": "stream",
          "name": "stderr",
          "text": []
        },
        {
          "output_type": "stream",
          "name": "stdout",
          "text": [
            "  -> Epoch 3/7 done. Loss: 2.9686, Acc: 18.24%\n"
          ]
        },
        {
          "output_type": "stream",
          "name": "stderr",
          "text": []
        },
        {
          "output_type": "stream",
          "name": "stdout",
          "text": [
            "  -> Epoch 4/7 done. Loss: 2.8482, Acc: 20.52%\n"
          ]
        },
        {
          "output_type": "stream",
          "name": "stderr",
          "text": []
        },
        {
          "output_type": "stream",
          "name": "stdout",
          "text": [
            "  -> Epoch 5/7 done. Loss: 2.6790, Acc: 24.53%\n"
          ]
        },
        {
          "output_type": "stream",
          "name": "stderr",
          "text": []
        },
        {
          "output_type": "stream",
          "name": "stdout",
          "text": [
            "  -> Epoch 6/7 done. Loss: 2.5214, Acc: 27.64%\n"
          ]
        },
        {
          "output_type": "stream",
          "name": "stderr",
          "text": []
        },
        {
          "output_type": "stream",
          "name": "stdout",
          "text": [
            "  -> Epoch 7/7 done. Loss: 2.4027, Acc: 30.45%\n",
            "\n",
            "----- Results Over All Seeds -----\n",
            "Average Accuracy on Task A before second training: 42.88% ± 0.00%\n",
            "Average Accuracy on Task A after second training:  0.00% ± 0.00%\n",
            "Average Accuracy on Task B after second training:   28.78% ± 0.00%\n",
            "Forgetting (Task A): 42.88%\n",
            "\n",
            "Per-Class Accuracies for Task A before training on B (Mean ± Std):\n",
            "  Class 0 (apple): 70.00% ± 0.00%\n",
            "  Class 1 (aquarium_fish): 67.00% ± 0.00%\n",
            "  Class 2 (baby): 33.00% ± 0.00%\n",
            "  Class 3 (bear): 16.00% ± 0.00%\n",
            "  Class 4 (beaver): 16.00% ± 0.00%\n",
            "  Class 5 (bed): 48.00% ± 0.00%\n",
            "  Class 6 (bee): 42.00% ± 0.00%\n",
            "  Class 7 (beetle): 34.00% ± 0.00%\n",
            "  Class 8 (bicycle): 38.00% ± 0.00%\n",
            "  Class 9 (bottle): 51.00% ± 0.00%\n",
            "  Class 10 (bowl): 24.00% ± 0.00%\n",
            "  Class 11 (boy): 21.00% ± 0.00%\n",
            "  Class 12 (bridge): 42.00% ± 0.00%\n",
            "  Class 13 (bus): 65.00% ± 0.00%\n",
            "  Class 14 (butterfly): 35.00% ± 0.00%\n",
            "  Class 15 (camel): 37.00% ± 0.00%\n",
            "  Class 16 (can): 27.00% ± 0.00%\n",
            "  Class 17 (castle): 77.00% ± 0.00%\n",
            "  Class 18 (caterpillar): 41.00% ± 0.00%\n",
            "  Class 19 (cattle): 22.00% ± 0.00%\n",
            "  Class 20 (chair): 66.00% ± 0.00%\n",
            "  Class 21 (chimpanzee): 46.00% ± 0.00%\n",
            "  Class 22 (clock): 38.00% ± 0.00%\n",
            "  Class 23 (cloud): 79.00% ± 0.00%\n",
            "  Class 24 (cockroach): 73.00% ± 0.00%\n",
            "  Class 25 (couch): 15.00% ± 0.00%\n",
            "  Class 26 (crab): 26.00% ± 0.00%\n",
            "  Class 27 (crocodile): 37.00% ± 0.00%\n",
            "  Class 28 (cup): 51.00% ± 0.00%\n",
            "  Class 29 (dinosaur): 42.00% ± 0.00%\n",
            "  Class 30 (dolphin): 72.00% ± 0.00%\n",
            "  Class 31 (elephant): 38.00% ± 0.00%\n",
            "  Class 32 (flatfish): 37.00% ± 0.00%\n",
            "  Class 33 (forest): 36.00% ± 0.00%\n",
            "  Class 34 (fox): 31.00% ± 0.00%\n",
            "  Class 35 (girl): 31.00% ± 0.00%\n",
            "  Class 36 (hamster): 55.00% ± 0.00%\n",
            "  Class 37 (house): 25.00% ± 0.00%\n",
            "  Class 38 (kangaroo): 33.00% ± 0.00%\n",
            "  Class 39 (keyboard): 51.00% ± 0.00%\n",
            "  Class 40 (lamp): 42.00% ± 0.00%\n",
            "  Class 41 (lawn_mower): 57.00% ± 0.00%\n",
            "  Class 42 (leopard): 36.00% ± 0.00%\n",
            "  Class 43 (lion): 56.00% ± 0.00%\n",
            "  Class 44 (lizard): 18.00% ± 0.00%\n",
            "  Class 45 (lobster): 15.00% ± 0.00%\n",
            "  Class 46 (man): 25.00% ± 0.00%\n",
            "  Class 47 (maple_tree): 75.00% ± 0.00%\n",
            "  Class 48 (motorcycle): 68.00% ± 0.00%\n",
            "  Class 49 (mountain): 64.00% ± 0.00%\n",
            "\n",
            "Per-Class Accuracies for Task A after training on B (Mean ± Std):\n",
            "  Class 0 (apple): 0.00% ± 0.00%\n",
            "  Class 1 (aquarium_fish): 0.00% ± 0.00%\n",
            "  Class 2 (baby): 0.00% ± 0.00%\n",
            "  Class 3 (bear): 0.00% ± 0.00%\n",
            "  Class 4 (beaver): 0.00% ± 0.00%\n",
            "  Class 5 (bed): 0.00% ± 0.00%\n",
            "  Class 6 (bee): 0.00% ± 0.00%\n",
            "  Class 7 (beetle): 0.00% ± 0.00%\n",
            "  Class 8 (bicycle): 0.00% ± 0.00%\n",
            "  Class 9 (bottle): 0.00% ± 0.00%\n",
            "  Class 10 (bowl): 0.00% ± 0.00%\n",
            "  Class 11 (boy): 0.00% ± 0.00%\n",
            "  Class 12 (bridge): 0.00% ± 0.00%\n",
            "  Class 13 (bus): 0.00% ± 0.00%\n",
            "  Class 14 (butterfly): 0.00% ± 0.00%\n",
            "  Class 15 (camel): 0.00% ± 0.00%\n",
            "  Class 16 (can): 0.00% ± 0.00%\n",
            "  Class 17 (castle): 0.00% ± 0.00%\n",
            "  Class 18 (caterpillar): 0.00% ± 0.00%\n",
            "  Class 19 (cattle): 0.00% ± 0.00%\n",
            "  Class 20 (chair): 0.00% ± 0.00%\n",
            "  Class 21 (chimpanzee): 0.00% ± 0.00%\n",
            "  Class 22 (clock): 0.00% ± 0.00%\n",
            "  Class 23 (cloud): 0.00% ± 0.00%\n",
            "  Class 24 (cockroach): 0.00% ± 0.00%\n",
            "  Class 25 (couch): 0.00% ± 0.00%\n",
            "  Class 26 (crab): 0.00% ± 0.00%\n",
            "  Class 27 (crocodile): 0.00% ± 0.00%\n",
            "  Class 28 (cup): 0.00% ± 0.00%\n",
            "  Class 29 (dinosaur): 0.00% ± 0.00%\n",
            "  Class 30 (dolphin): 0.00% ± 0.00%\n",
            "  Class 31 (elephant): 0.00% ± 0.00%\n",
            "  Class 32 (flatfish): 0.00% ± 0.00%\n",
            "  Class 33 (forest): 0.00% ± 0.00%\n",
            "  Class 34 (fox): 0.00% ± 0.00%\n",
            "  Class 35 (girl): 0.00% ± 0.00%\n",
            "  Class 36 (hamster): 0.00% ± 0.00%\n",
            "  Class 37 (house): 0.00% ± 0.00%\n",
            "  Class 38 (kangaroo): 0.00% ± 0.00%\n",
            "  Class 39 (keyboard): 0.00% ± 0.00%\n",
            "  Class 40 (lamp): 0.00% ± 0.00%\n",
            "  Class 41 (lawn_mower): 0.00% ± 0.00%\n",
            "  Class 42 (leopard): 0.00% ± 0.00%\n",
            "  Class 43 (lion): 0.00% ± 0.00%\n",
            "  Class 44 (lizard): 0.00% ± 0.00%\n",
            "  Class 45 (lobster): 0.00% ± 0.00%\n",
            "  Class 46 (man): 0.00% ± 0.00%\n",
            "  Class 47 (maple_tree): 0.00% ± 0.00%\n",
            "  Class 48 (motorcycle): 0.00% ± 0.00%\n",
            "  Class 49 (mountain): 0.00% ± 0.00%\n",
            "\n",
            "Per-Class Accuracies for Task B after training on B (Mean ± Std):\n",
            "  Class 50 (mouse): 5.00% ± 0.00%\n",
            "  Class 51 (mushroom): 40.00% ± 0.00%\n",
            "  Class 52 (oak_tree): 70.00% ± 0.00%\n",
            "  Class 53 (orange): 51.00% ± 0.00%\n",
            "  Class 54 (orchid): 42.00% ± 0.00%\n",
            "  Class 55 (otter): 8.00% ± 0.00%\n",
            "  Class 56 (palm_tree): 20.00% ± 0.00%\n",
            "  Class 57 (pear): 30.00% ± 0.00%\n",
            "  Class 58 (pickup_truck): 27.00% ± 0.00%\n",
            "  Class 59 (pine_tree): 11.00% ± 0.00%\n",
            "  Class 60 (plain): 32.00% ± 0.00%\n",
            "  Class 61 (plate): 38.00% ± 0.00%\n",
            "  Class 62 (poppy): 34.00% ± 0.00%\n",
            "  Class 63 (porcupine): 14.00% ± 0.00%\n",
            "  Class 64 (possum): 1.00% ± 0.00%\n",
            "  Class 65 (rabbit): 2.00% ± 0.00%\n",
            "  Class 66 (raccoon): 27.00% ± 0.00%\n",
            "  Class 67 (ray): 5.00% ± 0.00%\n",
            "  Class 68 (road): 68.00% ± 0.00%\n",
            "  Class 69 (rocket): 49.00% ± 0.00%\n",
            "  Class 70 (rose): 46.00% ± 0.00%\n",
            "  Class 71 (sea): 44.00% ± 0.00%\n",
            "  Class 72 (seal): 2.00% ± 0.00%\n",
            "  Class 73 (shark): 41.00% ± 0.00%\n",
            "  Class 74 (shrew): 6.00% ± 0.00%\n",
            "  Class 75 (skunk): 76.00% ± 0.00%\n",
            "  Class 76 (skyscraper): 67.00% ± 0.00%\n",
            "  Class 77 (snail): 3.00% ± 0.00%\n",
            "  Class 78 (snake): 8.00% ± 0.00%\n",
            "  Class 79 (spider): 26.00% ± 0.00%\n",
            "  Class 80 (squirrel): 0.00% ± 0.00%\n",
            "  Class 81 (streetcar): 44.00% ± 0.00%\n",
            "  Class 82 (sunflower): 69.00% ± 0.00%\n",
            "  Class 83 (sweet_pepper): 15.00% ± 0.00%\n",
            "  Class 84 (table): 3.00% ± 0.00%\n",
            "  Class 85 (tank): 42.00% ± 0.00%\n",
            "  Class 86 (telephone): 30.00% ± 0.00%\n",
            "  Class 87 (television): 28.00% ± 0.00%\n",
            "  Class 88 (tiger): 38.00% ± 0.00%\n",
            "  Class 89 (tractor): 29.00% ± 0.00%\n",
            "  Class 90 (train): 18.00% ± 0.00%\n",
            "  Class 91 (trout): 39.00% ± 0.00%\n",
            "  Class 92 (tulip): 12.00% ± 0.00%\n",
            "  Class 93 (turtle): 0.00% ± 0.00%\n",
            "  Class 94 (wardrobe): 70.00% ± 0.00%\n",
            "  Class 95 (whale): 45.00% ± 0.00%\n",
            "  Class 96 (willow_tree): 21.00% ± 0.00%\n",
            "  Class 97 (wolf): 26.00% ± 0.00%\n",
            "  Class 98 (woman): 9.00% ± 0.00%\n",
            "  Class 99 (worm): 8.00% ± 0.00%\n"
          ]
        }
      ]
    },
    {
      "cell_type": "code",
      "execution_count": 45,
      "metadata": {
        "id": "QPJSAWktNkWF",
        "colab": {
          "base_uri": "https://localhost:8080/",
          "height": 1000
        },
        "outputId": "54469321-c782-4ecb-b437-f51609b9b46b"
      },
      "outputs": [
        {
          "output_type": "stream",
          "name": "stdout",
          "text": [
            "Running probing for each seed...\n",
            "\n",
            "*** Probing for Seed 0 ***\n",
            "Probing with freeze_up_to_layer = conv1 for seed 0\n"
          ]
        },
        {
          "output_type": "stream",
          "name": "stderr",
          "text": []
        },
        {
          "output_type": "stream",
          "name": "stdout",
          "text": [
            "  -> Epoch 1/7 done. Loss: 3.5838, Acc: 10.19%\n"
          ]
        },
        {
          "output_type": "stream",
          "name": "stderr",
          "text": []
        },
        {
          "output_type": "stream",
          "name": "stdout",
          "text": [
            "  -> Epoch 2/7 done. Loss: 2.9202, Acc: 23.30%\n"
          ]
        },
        {
          "output_type": "stream",
          "name": "stderr",
          "text": []
        },
        {
          "output_type": "stream",
          "name": "stdout",
          "text": [
            "  -> Epoch 3/7 done. Loss: 2.5111, Acc: 32.44%\n"
          ]
        },
        {
          "output_type": "stream",
          "name": "stderr",
          "text": []
        },
        {
          "output_type": "stream",
          "name": "stdout",
          "text": [
            "  -> Epoch 4/7 done. Loss: 2.1948, Acc: 39.93%\n"
          ]
        },
        {
          "output_type": "stream",
          "name": "stderr",
          "text": []
        },
        {
          "output_type": "stream",
          "name": "stdout",
          "text": [
            "  -> Epoch 5/7 done. Loss: 1.9520, Acc: 45.95%\n"
          ]
        },
        {
          "output_type": "stream",
          "name": "stderr",
          "text": []
        },
        {
          "output_type": "stream",
          "name": "stdout",
          "text": [
            "  -> Epoch 6/7 done. Loss: 1.7385, Acc: 50.96%\n"
          ]
        },
        {
          "output_type": "stream",
          "name": "stderr",
          "text": []
        },
        {
          "output_type": "stream",
          "name": "stdout",
          "text": [
            "  -> Epoch 7/7 done. Loss: 1.5477, Acc: 55.67%\n",
            "Evaluating probed model (Overall + Per-Class):\n",
            "Overall Accuracy: 46.48%\n",
            "  Class 0 (apple): 80.00%\n",
            "  Class 1 (aquarium_fish): 69.00%\n",
            "  Class 2 (baby): 16.00%\n",
            "  Class 3 (bear): 16.00%\n",
            "  Class 4 (beaver): 24.00%\n",
            "  Class 5 (bed): 28.00%\n",
            "  Class 6 (bee): 49.00%\n",
            "  Class 7 (beetle): 57.00%\n",
            "  Class 8 (bicycle): 62.00%\n",
            "  Class 9 (bottle): 66.00%\n",
            "  Class 10 (bowl): 33.00%\n",
            "  Class 11 (boy): 22.00%\n",
            "  Class 12 (bridge): 42.00%\n",
            "  Class 13 (bus): 59.00%\n",
            "  Class 14 (butterfly): 47.00%\n",
            "  Class 15 (camel): 35.00%\n",
            "  Class 16 (can): 29.00%\n",
            "  Class 17 (castle): 68.00%\n",
            "  Class 18 (caterpillar): 46.00%\n",
            "  Class 19 (cattle): 32.00%\n",
            "  Class 20 (chair): 72.00%\n",
            "  Class 21 (chimpanzee): 66.00%\n",
            "  Class 22 (clock): 44.00%\n",
            "  Class 23 (cloud): 78.00%\n",
            "  Class 24 (cockroach): 53.00%\n",
            "  Class 25 (couch): 27.00%\n",
            "  Class 26 (crab): 23.00%\n",
            "  Class 27 (crocodile): 52.00%\n",
            "  Class 28 (cup): 69.00%\n",
            "  Class 29 (dinosaur): 42.00%\n",
            "  Class 30 (dolphin): 71.00%\n",
            "  Class 31 (elephant): 40.00%\n",
            "  Class 32 (flatfish): 48.00%\n",
            "  Class 33 (forest): 60.00%\n",
            "  Class 34 (fox): 28.00%\n",
            "  Class 35 (girl): 38.00%\n",
            "  Class 36 (hamster): 49.00%\n",
            "  Class 37 (house): 27.00%\n",
            "  Class 38 (kangaroo): 18.00%\n",
            "  Class 39 (keyboard): 63.00%\n",
            "  Class 40 (lamp): 44.00%\n",
            "  Class 41 (lawn_mower): 65.00%\n",
            "  Class 42 (leopard): 45.00%\n",
            "  Class 43 (lion): 33.00%\n",
            "  Class 44 (lizard): 15.00%\n",
            "  Class 45 (lobster): 29.00%\n",
            "  Class 46 (man): 23.00%\n",
            "  Class 47 (maple_tree): 85.00%\n",
            "  Class 48 (motorcycle): 65.00%\n",
            "  Class 49 (mountain): 72.00%\n",
            "Probing with freeze_up_to_layer = conv2 for seed 0\n"
          ]
        },
        {
          "output_type": "stream",
          "name": "stderr",
          "text": []
        },
        {
          "output_type": "stream",
          "name": "stdout",
          "text": [
            "  -> Epoch 1/7 done. Loss: 3.3634, Acc: 15.69%\n"
          ]
        },
        {
          "output_type": "stream",
          "name": "stderr",
          "text": []
        },
        {
          "output_type": "stream",
          "name": "stdout",
          "text": [
            "  -> Epoch 2/7 done. Loss: 2.4333, Acc: 34.23%\n"
          ]
        },
        {
          "output_type": "stream",
          "name": "stderr",
          "text": []
        },
        {
          "output_type": "stream",
          "name": "stdout",
          "text": [
            "  -> Epoch 3/7 done. Loss: 2.0516, Acc: 43.29%\n"
          ]
        },
        {
          "output_type": "stream",
          "name": "stderr",
          "text": []
        },
        {
          "output_type": "stream",
          "name": "stdout",
          "text": [
            "  -> Epoch 4/7 done. Loss: 1.8214, Acc: 48.93%\n"
          ]
        },
        {
          "output_type": "stream",
          "name": "stderr",
          "text": []
        },
        {
          "output_type": "stream",
          "name": "stdout",
          "text": [
            "  -> Epoch 5/7 done. Loss: 1.6114, Acc: 54.25%\n"
          ]
        },
        {
          "output_type": "stream",
          "name": "stderr",
          "text": []
        },
        {
          "output_type": "stream",
          "name": "stdout",
          "text": [
            "  -> Epoch 6/7 done. Loss: 1.4224, Acc: 58.87%\n"
          ]
        },
        {
          "output_type": "stream",
          "name": "stderr",
          "text": []
        },
        {
          "output_type": "stream",
          "name": "stdout",
          "text": [
            "  -> Epoch 7/7 done. Loss: 1.2229, Acc: 64.23%\n",
            "Evaluating probed model (Overall + Per-Class):\n",
            "Overall Accuracy: 50.20%\n",
            "  Class 0 (apple): 80.00%\n",
            "  Class 1 (aquarium_fish): 57.00%\n",
            "  Class 2 (baby): 37.00%\n",
            "  Class 3 (bear): 37.00%\n",
            "  Class 4 (beaver): 28.00%\n",
            "  Class 5 (bed): 51.00%\n",
            "  Class 6 (bee): 56.00%\n",
            "  Class 7 (beetle): 46.00%\n",
            "  Class 8 (bicycle): 71.00%\n",
            "  Class 9 (bottle): 74.00%\n",
            "  Class 10 (bowl): 27.00%\n",
            "  Class 11 (boy): 24.00%\n",
            "  Class 12 (bridge): 50.00%\n",
            "  Class 13 (bus): 63.00%\n",
            "  Class 14 (butterfly): 29.00%\n",
            "  Class 15 (camel): 32.00%\n",
            "  Class 16 (can): 60.00%\n",
            "  Class 17 (castle): 74.00%\n",
            "  Class 18 (caterpillar): 47.00%\n",
            "  Class 19 (cattle): 37.00%\n",
            "  Class 20 (chair): 74.00%\n",
            "  Class 21 (chimpanzee): 42.00%\n",
            "  Class 22 (clock): 49.00%\n",
            "  Class 23 (cloud): 80.00%\n",
            "  Class 24 (cockroach): 81.00%\n",
            "  Class 25 (couch): 26.00%\n",
            "  Class 26 (crab): 43.00%\n",
            "  Class 27 (crocodile): 39.00%\n",
            "  Class 28 (cup): 76.00%\n",
            "  Class 29 (dinosaur): 43.00%\n",
            "  Class 30 (dolphin): 69.00%\n",
            "  Class 31 (elephant): 33.00%\n",
            "  Class 32 (flatfish): 44.00%\n",
            "  Class 33 (forest): 63.00%\n",
            "  Class 34 (fox): 42.00%\n",
            "  Class 35 (girl): 36.00%\n",
            "  Class 36 (hamster): 49.00%\n",
            "  Class 37 (house): 47.00%\n",
            "  Class 38 (kangaroo): 40.00%\n",
            "  Class 39 (keyboard): 53.00%\n",
            "  Class 40 (lamp): 38.00%\n",
            "  Class 41 (lawn_mower): 67.00%\n",
            "  Class 42 (leopard): 35.00%\n",
            "  Class 43 (lion): 44.00%\n",
            "  Class 44 (lizard): 31.00%\n",
            "  Class 45 (lobster): 27.00%\n",
            "  Class 46 (man): 32.00%\n",
            "  Class 47 (maple_tree): 84.00%\n",
            "  Class 48 (motorcycle): 78.00%\n",
            "  Class 49 (mountain): 65.00%\n",
            "Probing with freeze_up_to_layer = conv3 for seed 0\n"
          ]
        },
        {
          "output_type": "stream",
          "name": "stderr",
          "text": []
        },
        {
          "output_type": "stream",
          "name": "stdout",
          "text": [
            "  -> Epoch 1/7 done. Loss: 3.2097, Acc: 18.79%\n"
          ]
        },
        {
          "output_type": "stream",
          "name": "stderr",
          "text": []
        },
        {
          "output_type": "stream",
          "name": "stdout",
          "text": [
            "  -> Epoch 2/7 done. Loss: 2.4071, Acc: 35.40%\n"
          ]
        },
        {
          "output_type": "stream",
          "name": "stderr",
          "text": []
        },
        {
          "output_type": "stream",
          "name": "stdout",
          "text": [
            "  -> Epoch 3/7 done. Loss: 2.1296, Acc: 41.14%\n"
          ]
        },
        {
          "output_type": "stream",
          "name": "stderr",
          "text": []
        },
        {
          "output_type": "stream",
          "name": "stdout",
          "text": [
            "  -> Epoch 4/7 done. Loss: 1.9467, Acc: 45.86%\n"
          ]
        },
        {
          "output_type": "stream",
          "name": "stderr",
          "text": []
        },
        {
          "output_type": "stream",
          "name": "stdout",
          "text": [
            "  -> Epoch 5/7 done. Loss: 1.8037, Acc: 49.42%\n"
          ]
        },
        {
          "output_type": "stream",
          "name": "stderr",
          "text": []
        },
        {
          "output_type": "stream",
          "name": "stdout",
          "text": [
            "  -> Epoch 6/7 done. Loss: 1.6710, Acc: 52.65%\n"
          ]
        },
        {
          "output_type": "stream",
          "name": "stderr",
          "text": []
        },
        {
          "output_type": "stream",
          "name": "stdout",
          "text": [
            "  -> Epoch 7/7 done. Loss: 1.5575, Acc: 55.73%\n",
            "Evaluating probed model (Overall + Per-Class):\n",
            "Overall Accuracy: 44.52%\n",
            "  Class 0 (apple): 63.00%\n",
            "  Class 1 (aquarium_fish): 76.00%\n",
            "  Class 2 (baby): 15.00%\n",
            "  Class 3 (bear): 25.00%\n",
            "  Class 4 (beaver): 27.00%\n",
            "  Class 5 (bed): 46.00%\n",
            "  Class 6 (bee): 38.00%\n",
            "  Class 7 (beetle): 39.00%\n",
            "  Class 8 (bicycle): 43.00%\n",
            "  Class 9 (bottle): 55.00%\n",
            "  Class 10 (bowl): 39.00%\n",
            "  Class 11 (boy): 22.00%\n",
            "  Class 12 (bridge): 62.00%\n",
            "  Class 13 (bus): 61.00%\n",
            "  Class 14 (butterfly): 45.00%\n",
            "  Class 15 (camel): 19.00%\n",
            "  Class 16 (can): 53.00%\n",
            "  Class 17 (castle): 52.00%\n",
            "  Class 18 (caterpillar): 48.00%\n",
            "  Class 19 (cattle): 33.00%\n",
            "  Class 20 (chair): 65.00%\n",
            "  Class 21 (chimpanzee): 69.00%\n",
            "  Class 22 (clock): 35.00%\n",
            "  Class 23 (cloud): 82.00%\n",
            "  Class 24 (cockroach): 72.00%\n",
            "  Class 25 (couch): 34.00%\n",
            "  Class 26 (crab): 52.00%\n",
            "  Class 27 (crocodile): 56.00%\n",
            "  Class 28 (cup): 55.00%\n",
            "  Class 29 (dinosaur): 17.00%\n",
            "  Class 30 (dolphin): 74.00%\n",
            "  Class 31 (elephant): 20.00%\n",
            "  Class 32 (flatfish): 46.00%\n",
            "  Class 33 (forest): 61.00%\n",
            "  Class 34 (fox): 16.00%\n",
            "  Class 35 (girl): 16.00%\n",
            "  Class 36 (hamster): 41.00%\n",
            "  Class 37 (house): 31.00%\n",
            "  Class 38 (kangaroo): 15.00%\n",
            "  Class 39 (keyboard): 52.00%\n",
            "  Class 40 (lamp): 37.00%\n",
            "  Class 41 (lawn_mower): 63.00%\n",
            "  Class 42 (leopard): 38.00%\n",
            "  Class 43 (lion): 31.00%\n",
            "  Class 44 (lizard): 18.00%\n",
            "  Class 45 (lobster): 18.00%\n",
            "  Class 46 (man): 33.00%\n",
            "  Class 47 (maple_tree): 82.00%\n",
            "  Class 48 (motorcycle): 81.00%\n",
            "  Class 49 (mountain): 55.00%\n",
            "Probing with freeze_up_to_layer = fc1 for seed 0\n"
          ]
        },
        {
          "output_type": "stream",
          "name": "stderr",
          "text": []
        },
        {
          "output_type": "stream",
          "name": "stdout",
          "text": [
            "  -> Epoch 1/7 done. Loss: 3.4208, Acc: 13.39%\n"
          ]
        },
        {
          "output_type": "stream",
          "name": "stderr",
          "text": []
        },
        {
          "output_type": "stream",
          "name": "stdout",
          "text": [
            "  -> Epoch 2/7 done. Loss: 3.0848, Acc: 18.71%\n"
          ]
        },
        {
          "output_type": "stream",
          "name": "stderr",
          "text": []
        },
        {
          "output_type": "stream",
          "name": "stdout",
          "text": [
            "  -> Epoch 3/7 done. Loss: 3.0370, Acc: 19.90%\n"
          ]
        },
        {
          "output_type": "stream",
          "name": "stderr",
          "text": []
        },
        {
          "output_type": "stream",
          "name": "stdout",
          "text": [
            "  -> Epoch 4/7 done. Loss: 3.0149, Acc: 20.25%\n"
          ]
        },
        {
          "output_type": "stream",
          "name": "stderr",
          "text": []
        },
        {
          "output_type": "stream",
          "name": "stdout",
          "text": [
            "  -> Epoch 5/7 done. Loss: 2.9845, Acc: 21.11%\n"
          ]
        },
        {
          "output_type": "stream",
          "name": "stderr",
          "text": []
        },
        {
          "output_type": "stream",
          "name": "stdout",
          "text": [
            "  -> Epoch 6/7 done. Loss: 2.9720, Acc: 21.18%\n"
          ]
        },
        {
          "output_type": "stream",
          "name": "stderr",
          "text": []
        },
        {
          "output_type": "stream",
          "name": "stdout",
          "text": [
            "  -> Epoch 7/7 done. Loss: 2.9615, Acc: 21.31%\n",
            "Evaluating probed model (Overall + Per-Class):\n",
            "Overall Accuracy: 21.80%\n",
            "  Class 0 (apple): 67.00%\n",
            "  Class 1 (aquarium_fish): 27.00%\n",
            "  Class 2 (baby): 8.00%\n",
            "  Class 3 (bear): 7.00%\n",
            "  Class 4 (beaver): 0.00%\n",
            "  Class 5 (bed): 18.00%\n",
            "  Class 6 (bee): 20.00%\n",
            "  Class 7 (beetle): 3.00%\n",
            "  Class 8 (bicycle): 3.00%\n",
            "  Class 9 (bottle): 35.00%\n",
            "  Class 10 (bowl): 22.00%\n",
            "  Class 11 (boy): 5.00%\n",
            "  Class 12 (bridge): 35.00%\n",
            "  Class 13 (bus): 40.00%\n",
            "  Class 14 (butterfly): 12.00%\n",
            "  Class 15 (camel): 3.00%\n",
            "  Class 16 (can): 6.00%\n",
            "  Class 17 (castle): 55.00%\n",
            "  Class 18 (caterpillar): 28.00%\n",
            "  Class 19 (cattle): 4.00%\n",
            "  Class 20 (chair): 22.00%\n",
            "  Class 21 (chimpanzee): 10.00%\n",
            "  Class 22 (clock): 17.00%\n",
            "  Class 23 (cloud): 72.00%\n",
            "  Class 24 (cockroach): 22.00%\n",
            "  Class 25 (couch): 0.00%\n",
            "  Class 26 (crab): 6.00%\n",
            "  Class 27 (crocodile): 32.00%\n",
            "  Class 28 (cup): 6.00%\n",
            "  Class 29 (dinosaur): 0.00%\n",
            "  Class 30 (dolphin): 60.00%\n",
            "  Class 31 (elephant): 26.00%\n",
            "  Class 32 (flatfish): 1.00%\n",
            "  Class 33 (forest): 26.00%\n",
            "  Class 34 (fox): 3.00%\n",
            "  Class 35 (girl): 5.00%\n",
            "  Class 36 (hamster): 45.00%\n",
            "  Class 37 (house): 19.00%\n",
            "  Class 38 (kangaroo): 14.00%\n",
            "  Class 39 (keyboard): 23.00%\n",
            "  Class 40 (lamp): 6.00%\n",
            "  Class 41 (lawn_mower): 25.00%\n",
            "  Class 42 (leopard): 40.00%\n",
            "  Class 43 (lion): 19.00%\n",
            "  Class 44 (lizard): 4.00%\n",
            "  Class 45 (lobster): 18.00%\n",
            "  Class 46 (man): 3.00%\n",
            "  Class 47 (maple_tree): 71.00%\n",
            "  Class 48 (motorcycle): 55.00%\n",
            "  Class 49 (mountain): 42.00%\n",
            "Probing with freeze_up_to_layer = fc2 for seed 0\n"
          ]
        },
        {
          "output_type": "stream",
          "name": "stderr",
          "text": []
        },
        {
          "output_type": "stream",
          "name": "stdout",
          "text": [
            "  -> Epoch 1/7 done. Loss: 3.3688, Acc: 14.49%\n"
          ]
        },
        {
          "output_type": "stream",
          "name": "stderr",
          "text": []
        },
        {
          "output_type": "stream",
          "name": "stdout",
          "text": [
            "  -> Epoch 2/7 done. Loss: 3.0720, Acc: 18.78%\n"
          ]
        },
        {
          "output_type": "stream",
          "name": "stderr",
          "text": []
        },
        {
          "output_type": "stream",
          "name": "stdout",
          "text": [
            "  -> Epoch 3/7 done. Loss: 3.0361, Acc: 19.59%\n"
          ]
        },
        {
          "output_type": "stream",
          "name": "stderr",
          "text": []
        },
        {
          "output_type": "stream",
          "name": "stdout",
          "text": [
            "  -> Epoch 4/7 done. Loss: 3.0135, Acc: 20.25%\n"
          ]
        },
        {
          "output_type": "stream",
          "name": "stderr",
          "text": []
        },
        {
          "output_type": "stream",
          "name": "stdout",
          "text": [
            "  -> Epoch 5/7 done. Loss: 2.9976, Acc: 20.45%\n"
          ]
        },
        {
          "output_type": "stream",
          "name": "stderr",
          "text": []
        },
        {
          "output_type": "stream",
          "name": "stdout",
          "text": [
            "  -> Epoch 6/7 done. Loss: 2.9790, Acc: 21.01%\n"
          ]
        },
        {
          "output_type": "stream",
          "name": "stderr",
          "text": []
        },
        {
          "output_type": "stream",
          "name": "stdout",
          "text": [
            "  -> Epoch 7/7 done. Loss: 2.9704, Acc: 21.11%\n",
            "Evaluating probed model (Overall + Per-Class):\n",
            "Overall Accuracy: 21.64%\n",
            "  Class 0 (apple): 65.00%\n",
            "  Class 1 (aquarium_fish): 36.00%\n",
            "  Class 2 (baby): 30.00%\n",
            "  Class 3 (bear): 12.00%\n",
            "  Class 4 (beaver): 0.00%\n",
            "  Class 5 (bed): 8.00%\n",
            "  Class 6 (bee): 29.00%\n",
            "  Class 7 (beetle): 3.00%\n",
            "  Class 8 (bicycle): 0.00%\n",
            "  Class 9 (bottle): 32.00%\n",
            "  Class 10 (bowl): 4.00%\n",
            "  Class 11 (boy): 0.00%\n",
            "  Class 12 (bridge): 36.00%\n",
            "  Class 13 (bus): 40.00%\n",
            "  Class 14 (butterfly): 11.00%\n",
            "  Class 15 (camel): 0.00%\n",
            "  Class 16 (can): 2.00%\n",
            "  Class 17 (castle): 56.00%\n",
            "  Class 18 (caterpillar): 34.00%\n",
            "  Class 19 (cattle): 5.00%\n",
            "  Class 20 (chair): 27.00%\n",
            "  Class 21 (chimpanzee): 11.00%\n",
            "  Class 22 (clock): 29.00%\n",
            "  Class 23 (cloud): 65.00%\n",
            "  Class 24 (cockroach): 16.00%\n",
            "  Class 25 (couch): 2.00%\n",
            "  Class 26 (crab): 12.00%\n",
            "  Class 27 (crocodile): 11.00%\n",
            "  Class 28 (cup): 9.00%\n",
            "  Class 29 (dinosaur): 0.00%\n",
            "  Class 30 (dolphin): 69.00%\n",
            "  Class 31 (elephant): 21.00%\n",
            "  Class 32 (flatfish): 0.00%\n",
            "  Class 33 (forest): 28.00%\n",
            "  Class 34 (fox): 1.00%\n",
            "  Class 35 (girl): 4.00%\n",
            "  Class 36 (hamster): 27.00%\n",
            "  Class 37 (house): 26.00%\n",
            "  Class 38 (kangaroo): 15.00%\n",
            "  Class 39 (keyboard): 17.00%\n",
            "  Class 40 (lamp): 0.00%\n",
            "  Class 41 (lawn_mower): 33.00%\n",
            "  Class 42 (leopard): 38.00%\n",
            "  Class 43 (lion): 29.00%\n",
            "  Class 44 (lizard): 2.00%\n",
            "  Class 45 (lobster): 11.00%\n",
            "  Class 46 (man): 0.00%\n",
            "  Class 47 (maple_tree): 70.00%\n",
            "  Class 48 (motorcycle): 59.00%\n",
            "  Class 49 (mountain): 47.00%\n",
            "Probing with freeze_up_to_layer = fc3 for seed 0\n"
          ]
        },
        {
          "output_type": "stream",
          "name": "stderr",
          "text": []
        },
        {
          "output_type": "stream",
          "name": "stdout",
          "text": [
            "  -> Epoch 1/7 done. Loss: 3.8186, Acc: 9.69%\n"
          ]
        },
        {
          "output_type": "stream",
          "name": "stderr",
          "text": []
        },
        {
          "output_type": "stream",
          "name": "stdout",
          "text": [
            "  -> Epoch 2/7 done. Loss: 3.1750, Acc: 17.50%\n"
          ]
        },
        {
          "output_type": "stream",
          "name": "stderr",
          "text": []
        },
        {
          "output_type": "stream",
          "name": "stdout",
          "text": [
            "  -> Epoch 3/7 done. Loss: 3.0986, Acc: 18.60%\n"
          ]
        },
        {
          "output_type": "stream",
          "name": "stderr",
          "text": []
        },
        {
          "output_type": "stream",
          "name": "stdout",
          "text": [
            "  -> Epoch 4/7 done. Loss: 3.0717, Acc: 19.27%\n"
          ]
        },
        {
          "output_type": "stream",
          "name": "stderr",
          "text": []
        },
        {
          "output_type": "stream",
          "name": "stdout",
          "text": [
            "  -> Epoch 5/7 done. Loss: 3.0569, Acc: 19.45%\n"
          ]
        },
        {
          "output_type": "stream",
          "name": "stderr",
          "text": []
        },
        {
          "output_type": "stream",
          "name": "stdout",
          "text": [
            "  -> Epoch 6/7 done. Loss: 3.0448, Acc: 19.68%\n"
          ]
        },
        {
          "output_type": "stream",
          "name": "stderr",
          "text": []
        },
        {
          "output_type": "stream",
          "name": "stdout",
          "text": [
            "  -> Epoch 7/7 done. Loss: 3.0369, Acc: 19.94%\n",
            "Evaluating probed model (Overall + Per-Class):\n",
            "Overall Accuracy: 19.84%\n",
            "  Class 0 (apple): 68.00%\n",
            "  Class 1 (aquarium_fish): 28.00%\n",
            "  Class 2 (baby): 0.00%\n",
            "  Class 3 (bear): 6.00%\n",
            "  Class 4 (beaver): 1.00%\n",
            "  Class 5 (bed): 7.00%\n",
            "  Class 6 (bee): 33.00%\n",
            "  Class 7 (beetle): 2.00%\n",
            "  Class 8 (bicycle): 0.00%\n",
            "  Class 9 (bottle): 16.00%\n",
            "  Class 10 (bowl): 8.00%\n",
            "  Class 11 (boy): 5.00%\n",
            "  Class 12 (bridge): 32.00%\n",
            "  Class 13 (bus): 45.00%\n",
            "  Class 14 (butterfly): 6.00%\n",
            "  Class 15 (camel): 2.00%\n",
            "  Class 16 (can): 12.00%\n",
            "  Class 17 (castle): 53.00%\n",
            "  Class 18 (caterpillar): 13.00%\n",
            "  Class 19 (cattle): 8.00%\n",
            "  Class 20 (chair): 23.00%\n",
            "  Class 21 (chimpanzee): 18.00%\n",
            "  Class 22 (clock): 31.00%\n",
            "  Class 23 (cloud): 63.00%\n",
            "  Class 24 (cockroach): 12.00%\n",
            "  Class 25 (couch): 2.00%\n",
            "  Class 26 (crab): 13.00%\n",
            "  Class 27 (crocodile): 14.00%\n",
            "  Class 28 (cup): 5.00%\n",
            "  Class 29 (dinosaur): 0.00%\n",
            "  Class 30 (dolphin): 73.00%\n",
            "  Class 31 (elephant): 25.00%\n",
            "  Class 32 (flatfish): 0.00%\n",
            "  Class 33 (forest): 16.00%\n",
            "  Class 34 (fox): 1.00%\n",
            "  Class 35 (girl): 12.00%\n",
            "  Class 36 (hamster): 44.00%\n",
            "  Class 37 (house): 11.00%\n",
            "  Class 38 (kangaroo): 16.00%\n",
            "  Class 39 (keyboard): 5.00%\n",
            "  Class 40 (lamp): 2.00%\n",
            "  Class 41 (lawn_mower): 5.00%\n",
            "  Class 42 (leopard): 54.00%\n",
            "  Class 43 (lion): 14.00%\n",
            "  Class 44 (lizard): 10.00%\n",
            "  Class 45 (lobster): 8.00%\n",
            "  Class 46 (man): 1.00%\n",
            "  Class 47 (maple_tree): 74.00%\n",
            "  Class 48 (motorcycle): 59.00%\n",
            "  Class 49 (mountain): 36.00%\n",
            "\n",
            "Multi-Seed Probing results (Mean ± Std):\n",
            "\n",
            "=== Frozen up to conv1 ===\n",
            "  Overall Accuracy (Mean ± Std): 46.48% ± 0.00%\n",
            "  Difference from A-before-B: 3.60%\n",
            "    Class 0 (apple): 80.00% ± 0.00%\n",
            "      Diff from A-before-B: 10.00%\n",
            "    Class 1 (aquarium_fish): 69.00% ± 0.00%\n",
            "      Diff from A-before-B: 2.00%\n",
            "    Class 2 (baby): 16.00% ± 0.00%\n",
            "      Diff from A-before-B: -17.00%\n",
            "    Class 3 (bear): 16.00% ± 0.00%\n",
            "      Diff from A-before-B: 0.00%\n",
            "    Class 4 (beaver): 24.00% ± 0.00%\n",
            "      Diff from A-before-B: 8.00%\n",
            "    Class 5 (bed): 28.00% ± 0.00%\n",
            "      Diff from A-before-B: -20.00%\n",
            "    Class 6 (bee): 49.00% ± 0.00%\n",
            "      Diff from A-before-B: 7.00%\n",
            "    Class 7 (beetle): 57.00% ± 0.00%\n",
            "      Diff from A-before-B: 23.00%\n",
            "    Class 8 (bicycle): 62.00% ± 0.00%\n",
            "      Diff from A-before-B: 24.00%\n",
            "    Class 9 (bottle): 66.00% ± 0.00%\n",
            "      Diff from A-before-B: 15.00%\n",
            "    Class 10 (bowl): 33.00% ± 0.00%\n",
            "      Diff from A-before-B: 9.00%\n",
            "    Class 11 (boy): 22.00% ± 0.00%\n",
            "      Diff from A-before-B: 1.00%\n",
            "    Class 12 (bridge): 42.00% ± 0.00%\n",
            "      Diff from A-before-B: 0.00%\n",
            "    Class 13 (bus): 59.00% ± 0.00%\n",
            "      Diff from A-before-B: -6.00%\n",
            "    Class 14 (butterfly): 47.00% ± 0.00%\n",
            "      Diff from A-before-B: 12.00%\n",
            "    Class 15 (camel): 35.00% ± 0.00%\n",
            "      Diff from A-before-B: -2.00%\n",
            "    Class 16 (can): 29.00% ± 0.00%\n",
            "      Diff from A-before-B: 2.00%\n",
            "    Class 17 (castle): 68.00% ± 0.00%\n",
            "      Diff from A-before-B: -9.00%\n",
            "    Class 18 (caterpillar): 46.00% ± 0.00%\n",
            "      Diff from A-before-B: 5.00%\n",
            "    Class 19 (cattle): 32.00% ± 0.00%\n",
            "      Diff from A-before-B: 10.00%\n",
            "    Class 20 (chair): 72.00% ± 0.00%\n",
            "      Diff from A-before-B: 6.00%\n",
            "    Class 21 (chimpanzee): 66.00% ± 0.00%\n",
            "      Diff from A-before-B: 20.00%\n",
            "    Class 22 (clock): 44.00% ± 0.00%\n",
            "      Diff from A-before-B: 6.00%\n",
            "    Class 23 (cloud): 78.00% ± 0.00%\n",
            "      Diff from A-before-B: -1.00%\n",
            "    Class 24 (cockroach): 53.00% ± 0.00%\n",
            "      Diff from A-before-B: -20.00%\n",
            "    Class 25 (couch): 27.00% ± 0.00%\n",
            "      Diff from A-before-B: 12.00%\n",
            "    Class 26 (crab): 23.00% ± 0.00%\n",
            "      Diff from A-before-B: -3.00%\n",
            "    Class 27 (crocodile): 52.00% ± 0.00%\n",
            "      Diff from A-before-B: 15.00%\n",
            "    Class 28 (cup): 69.00% ± 0.00%\n",
            "      Diff from A-before-B: 18.00%\n",
            "    Class 29 (dinosaur): 42.00% ± 0.00%\n",
            "      Diff from A-before-B: 0.00%\n",
            "    Class 30 (dolphin): 71.00% ± 0.00%\n",
            "      Diff from A-before-B: -1.00%\n",
            "    Class 31 (elephant): 40.00% ± 0.00%\n",
            "      Diff from A-before-B: 2.00%\n",
            "    Class 32 (flatfish): 48.00% ± 0.00%\n",
            "      Diff from A-before-B: 11.00%\n",
            "    Class 33 (forest): 60.00% ± 0.00%\n",
            "      Diff from A-before-B: 24.00%\n",
            "    Class 34 (fox): 28.00% ± 0.00%\n",
            "      Diff from A-before-B: -3.00%\n",
            "    Class 35 (girl): 38.00% ± 0.00%\n",
            "      Diff from A-before-B: 7.00%\n",
            "    Class 36 (hamster): 49.00% ± 0.00%\n",
            "      Diff from A-before-B: -6.00%\n",
            "    Class 37 (house): 27.00% ± 0.00%\n",
            "      Diff from A-before-B: 2.00%\n",
            "    Class 38 (kangaroo): 18.00% ± 0.00%\n",
            "      Diff from A-before-B: -15.00%\n",
            "    Class 39 (keyboard): 63.00% ± 0.00%\n",
            "      Diff from A-before-B: 12.00%\n",
            "    Class 40 (lamp): 44.00% ± 0.00%\n",
            "      Diff from A-before-B: 2.00%\n",
            "    Class 41 (lawn_mower): 65.00% ± 0.00%\n",
            "      Diff from A-before-B: 8.00%\n",
            "    Class 42 (leopard): 45.00% ± 0.00%\n",
            "      Diff from A-before-B: 9.00%\n",
            "    Class 43 (lion): 33.00% ± 0.00%\n",
            "      Diff from A-before-B: -23.00%\n",
            "    Class 44 (lizard): 15.00% ± 0.00%\n",
            "      Diff from A-before-B: -3.00%\n",
            "    Class 45 (lobster): 29.00% ± 0.00%\n",
            "      Diff from A-before-B: 14.00%\n",
            "    Class 46 (man): 23.00% ± 0.00%\n",
            "      Diff from A-before-B: -2.00%\n",
            "    Class 47 (maple_tree): 85.00% ± 0.00%\n",
            "      Diff from A-before-B: 10.00%\n",
            "    Class 48 (motorcycle): 65.00% ± 0.00%\n",
            "      Diff from A-before-B: -3.00%\n",
            "    Class 49 (mountain): 72.00% ± 0.00%\n",
            "      Diff from A-before-B: 8.00%\n",
            "\n",
            "=== Frozen up to conv2 ===\n",
            "  Overall Accuracy (Mean ± Std): 50.20% ± 0.00%\n",
            "  Difference from A-before-B: 7.32%\n",
            "    Class 0 (apple): 80.00% ± 0.00%\n",
            "      Diff from A-before-B: 10.00%\n",
            "    Class 1 (aquarium_fish): 57.00% ± 0.00%\n",
            "      Diff from A-before-B: -10.00%\n",
            "    Class 2 (baby): 37.00% ± 0.00%\n",
            "      Diff from A-before-B: 4.00%\n",
            "    Class 3 (bear): 37.00% ± 0.00%\n",
            "      Diff from A-before-B: 21.00%\n",
            "    Class 4 (beaver): 28.00% ± 0.00%\n",
            "      Diff from A-before-B: 12.00%\n",
            "    Class 5 (bed): 51.00% ± 0.00%\n",
            "      Diff from A-before-B: 3.00%\n",
            "    Class 6 (bee): 56.00% ± 0.00%\n",
            "      Diff from A-before-B: 14.00%\n",
            "    Class 7 (beetle): 46.00% ± 0.00%\n",
            "      Diff from A-before-B: 12.00%\n",
            "    Class 8 (bicycle): 71.00% ± 0.00%\n",
            "      Diff from A-before-B: 33.00%\n",
            "    Class 9 (bottle): 74.00% ± 0.00%\n",
            "      Diff from A-before-B: 23.00%\n",
            "    Class 10 (bowl): 27.00% ± 0.00%\n",
            "      Diff from A-before-B: 3.00%\n",
            "    Class 11 (boy): 24.00% ± 0.00%\n",
            "      Diff from A-before-B: 3.00%\n",
            "    Class 12 (bridge): 50.00% ± 0.00%\n",
            "      Diff from A-before-B: 8.00%\n",
            "    Class 13 (bus): 63.00% ± 0.00%\n",
            "      Diff from A-before-B: -2.00%\n",
            "    Class 14 (butterfly): 29.00% ± 0.00%\n",
            "      Diff from A-before-B: -6.00%\n",
            "    Class 15 (camel): 32.00% ± 0.00%\n",
            "      Diff from A-before-B: -5.00%\n",
            "    Class 16 (can): 60.00% ± 0.00%\n",
            "      Diff from A-before-B: 33.00%\n",
            "    Class 17 (castle): 74.00% ± 0.00%\n",
            "      Diff from A-before-B: -3.00%\n",
            "    Class 18 (caterpillar): 47.00% ± 0.00%\n",
            "      Diff from A-before-B: 6.00%\n",
            "    Class 19 (cattle): 37.00% ± 0.00%\n",
            "      Diff from A-before-B: 15.00%\n",
            "    Class 20 (chair): 74.00% ± 0.00%\n",
            "      Diff from A-before-B: 8.00%\n",
            "    Class 21 (chimpanzee): 42.00% ± 0.00%\n",
            "      Diff from A-before-B: -4.00%\n",
            "    Class 22 (clock): 49.00% ± 0.00%\n",
            "      Diff from A-before-B: 11.00%\n",
            "    Class 23 (cloud): 80.00% ± 0.00%\n",
            "      Diff from A-before-B: 1.00%\n",
            "    Class 24 (cockroach): 81.00% ± 0.00%\n",
            "      Diff from A-before-B: 8.00%\n",
            "    Class 25 (couch): 26.00% ± 0.00%\n",
            "      Diff from A-before-B: 11.00%\n",
            "    Class 26 (crab): 43.00% ± 0.00%\n",
            "      Diff from A-before-B: 17.00%\n",
            "    Class 27 (crocodile): 39.00% ± 0.00%\n",
            "      Diff from A-before-B: 2.00%\n",
            "    Class 28 (cup): 76.00% ± 0.00%\n",
            "      Diff from A-before-B: 25.00%\n",
            "    Class 29 (dinosaur): 43.00% ± 0.00%\n",
            "      Diff from A-before-B: 1.00%\n",
            "    Class 30 (dolphin): 69.00% ± 0.00%\n",
            "      Diff from A-before-B: -3.00%\n",
            "    Class 31 (elephant): 33.00% ± 0.00%\n",
            "      Diff from A-before-B: -5.00%\n",
            "    Class 32 (flatfish): 44.00% ± 0.00%\n",
            "      Diff from A-before-B: 7.00%\n",
            "    Class 33 (forest): 63.00% ± 0.00%\n",
            "      Diff from A-before-B: 27.00%\n",
            "    Class 34 (fox): 42.00% ± 0.00%\n",
            "      Diff from A-before-B: 11.00%\n",
            "    Class 35 (girl): 36.00% ± 0.00%\n",
            "      Diff from A-before-B: 5.00%\n",
            "    Class 36 (hamster): 49.00% ± 0.00%\n",
            "      Diff from A-before-B: -6.00%\n",
            "    Class 37 (house): 47.00% ± 0.00%\n",
            "      Diff from A-before-B: 22.00%\n",
            "    Class 38 (kangaroo): 40.00% ± 0.00%\n",
            "      Diff from A-before-B: 7.00%\n",
            "    Class 39 (keyboard): 53.00% ± 0.00%\n",
            "      Diff from A-before-B: 2.00%\n",
            "    Class 40 (lamp): 38.00% ± 0.00%\n",
            "      Diff from A-before-B: -4.00%\n",
            "    Class 41 (lawn_mower): 67.00% ± 0.00%\n",
            "      Diff from A-before-B: 10.00%\n",
            "    Class 42 (leopard): 35.00% ± 0.00%\n",
            "      Diff from A-before-B: -1.00%\n",
            "    Class 43 (lion): 44.00% ± 0.00%\n",
            "      Diff from A-before-B: -12.00%\n",
            "    Class 44 (lizard): 31.00% ± 0.00%\n",
            "      Diff from A-before-B: 13.00%\n",
            "    Class 45 (lobster): 27.00% ± 0.00%\n",
            "      Diff from A-before-B: 12.00%\n",
            "    Class 46 (man): 32.00% ± 0.00%\n",
            "      Diff from A-before-B: 7.00%\n",
            "    Class 47 (maple_tree): 84.00% ± 0.00%\n",
            "      Diff from A-before-B: 9.00%\n",
            "    Class 48 (motorcycle): 78.00% ± 0.00%\n",
            "      Diff from A-before-B: 10.00%\n",
            "    Class 49 (mountain): 65.00% ± 0.00%\n",
            "      Diff from A-before-B: 1.00%\n",
            "\n",
            "=== Frozen up to conv3 ===\n",
            "  Overall Accuracy (Mean ± Std): 44.52% ± 0.00%\n",
            "  Difference from A-before-B: 1.64%\n",
            "    Class 0 (apple): 63.00% ± 0.00%\n",
            "      Diff from A-before-B: -7.00%\n",
            "    Class 1 (aquarium_fish): 76.00% ± 0.00%\n",
            "      Diff from A-before-B: 9.00%\n",
            "    Class 2 (baby): 15.00% ± 0.00%\n",
            "      Diff from A-before-B: -18.00%\n",
            "    Class 3 (bear): 25.00% ± 0.00%\n",
            "      Diff from A-before-B: 9.00%\n",
            "    Class 4 (beaver): 27.00% ± 0.00%\n",
            "      Diff from A-before-B: 11.00%\n",
            "    Class 5 (bed): 46.00% ± 0.00%\n",
            "      Diff from A-before-B: -2.00%\n",
            "    Class 6 (bee): 38.00% ± 0.00%\n",
            "      Diff from A-before-B: -4.00%\n",
            "    Class 7 (beetle): 39.00% ± 0.00%\n",
            "      Diff from A-before-B: 5.00%\n",
            "    Class 8 (bicycle): 43.00% ± 0.00%\n",
            "      Diff from A-before-B: 5.00%\n",
            "    Class 9 (bottle): 55.00% ± 0.00%\n",
            "      Diff from A-before-B: 4.00%\n",
            "    Class 10 (bowl): 39.00% ± 0.00%\n",
            "      Diff from A-before-B: 15.00%\n",
            "    Class 11 (boy): 22.00% ± 0.00%\n",
            "      Diff from A-before-B: 1.00%\n",
            "    Class 12 (bridge): 62.00% ± 0.00%\n",
            "      Diff from A-before-B: 20.00%\n",
            "    Class 13 (bus): 61.00% ± 0.00%\n",
            "      Diff from A-before-B: -4.00%\n",
            "    Class 14 (butterfly): 45.00% ± 0.00%\n",
            "      Diff from A-before-B: 10.00%\n",
            "    Class 15 (camel): 19.00% ± 0.00%\n",
            "      Diff from A-before-B: -18.00%\n",
            "    Class 16 (can): 53.00% ± 0.00%\n",
            "      Diff from A-before-B: 26.00%\n",
            "    Class 17 (castle): 52.00% ± 0.00%\n",
            "      Diff from A-before-B: -25.00%\n",
            "    Class 18 (caterpillar): 48.00% ± 0.00%\n",
            "      Diff from A-before-B: 7.00%\n",
            "    Class 19 (cattle): 33.00% ± 0.00%\n",
            "      Diff from A-before-B: 11.00%\n",
            "    Class 20 (chair): 65.00% ± 0.00%\n",
            "      Diff from A-before-B: -1.00%\n",
            "    Class 21 (chimpanzee): 69.00% ± 0.00%\n",
            "      Diff from A-before-B: 23.00%\n",
            "    Class 22 (clock): 35.00% ± 0.00%\n",
            "      Diff from A-before-B: -3.00%\n",
            "    Class 23 (cloud): 82.00% ± 0.00%\n",
            "      Diff from A-before-B: 3.00%\n",
            "    Class 24 (cockroach): 72.00% ± 0.00%\n",
            "      Diff from A-before-B: -1.00%\n",
            "    Class 25 (couch): 34.00% ± 0.00%\n",
            "      Diff from A-before-B: 19.00%\n",
            "    Class 26 (crab): 52.00% ± 0.00%\n",
            "      Diff from A-before-B: 26.00%\n",
            "    Class 27 (crocodile): 56.00% ± 0.00%\n",
            "      Diff from A-before-B: 19.00%\n",
            "    Class 28 (cup): 55.00% ± 0.00%\n",
            "      Diff from A-before-B: 4.00%\n",
            "    Class 29 (dinosaur): 17.00% ± 0.00%\n",
            "      Diff from A-before-B: -25.00%\n",
            "    Class 30 (dolphin): 74.00% ± 0.00%\n",
            "      Diff from A-before-B: 2.00%\n",
            "    Class 31 (elephant): 20.00% ± 0.00%\n",
            "      Diff from A-before-B: -18.00%\n",
            "    Class 32 (flatfish): 46.00% ± 0.00%\n",
            "      Diff from A-before-B: 9.00%\n",
            "    Class 33 (forest): 61.00% ± 0.00%\n",
            "      Diff from A-before-B: 25.00%\n",
            "    Class 34 (fox): 16.00% ± 0.00%\n",
            "      Diff from A-before-B: -15.00%\n",
            "    Class 35 (girl): 16.00% ± 0.00%\n",
            "      Diff from A-before-B: -15.00%\n",
            "    Class 36 (hamster): 41.00% ± 0.00%\n",
            "      Diff from A-before-B: -14.00%\n",
            "    Class 37 (house): 31.00% ± 0.00%\n",
            "      Diff from A-before-B: 6.00%\n",
            "    Class 38 (kangaroo): 15.00% ± 0.00%\n",
            "      Diff from A-before-B: -18.00%\n",
            "    Class 39 (keyboard): 52.00% ± 0.00%\n",
            "      Diff from A-before-B: 1.00%\n",
            "    Class 40 (lamp): 37.00% ± 0.00%\n",
            "      Diff from A-before-B: -5.00%\n",
            "    Class 41 (lawn_mower): 63.00% ± 0.00%\n",
            "      Diff from A-before-B: 6.00%\n",
            "    Class 42 (leopard): 38.00% ± 0.00%\n",
            "      Diff from A-before-B: 2.00%\n",
            "    Class 43 (lion): 31.00% ± 0.00%\n",
            "      Diff from A-before-B: -25.00%\n",
            "    Class 44 (lizard): 18.00% ± 0.00%\n",
            "      Diff from A-before-B: 0.00%\n",
            "    Class 45 (lobster): 18.00% ± 0.00%\n",
            "      Diff from A-before-B: 3.00%\n",
            "    Class 46 (man): 33.00% ± 0.00%\n",
            "      Diff from A-before-B: 8.00%\n",
            "    Class 47 (maple_tree): 82.00% ± 0.00%\n",
            "      Diff from A-before-B: 7.00%\n",
            "    Class 48 (motorcycle): 81.00% ± 0.00%\n",
            "      Diff from A-before-B: 13.00%\n",
            "    Class 49 (mountain): 55.00% ± 0.00%\n",
            "      Diff from A-before-B: -9.00%\n",
            "\n",
            "=== Frozen up to fc1 ===\n",
            "  Overall Accuracy (Mean ± Std): 21.80% ± 0.00%\n",
            "  Difference from A-before-B: -21.08%\n",
            "    Class 0 (apple): 67.00% ± 0.00%\n",
            "      Diff from A-before-B: -3.00%\n",
            "    Class 1 (aquarium_fish): 27.00% ± 0.00%\n",
            "      Diff from A-before-B: -40.00%\n",
            "    Class 2 (baby): 8.00% ± 0.00%\n",
            "      Diff from A-before-B: -25.00%\n",
            "    Class 3 (bear): 7.00% ± 0.00%\n",
            "      Diff from A-before-B: -9.00%\n",
            "    Class 4 (beaver): 0.00% ± 0.00%\n",
            "      Diff from A-before-B: -16.00%\n",
            "    Class 5 (bed): 18.00% ± 0.00%\n",
            "      Diff from A-before-B: -30.00%\n",
            "    Class 6 (bee): 20.00% ± 0.00%\n",
            "      Diff from A-before-B: -22.00%\n",
            "    Class 7 (beetle): 3.00% ± 0.00%\n",
            "      Diff from A-before-B: -31.00%\n",
            "    Class 8 (bicycle): 3.00% ± 0.00%\n",
            "      Diff from A-before-B: -35.00%\n",
            "    Class 9 (bottle): 35.00% ± 0.00%\n",
            "      Diff from A-before-B: -16.00%\n",
            "    Class 10 (bowl): 22.00% ± 0.00%\n",
            "      Diff from A-before-B: -2.00%\n",
            "    Class 11 (boy): 5.00% ± 0.00%\n",
            "      Diff from A-before-B: -16.00%\n",
            "    Class 12 (bridge): 35.00% ± 0.00%\n",
            "      Diff from A-before-B: -7.00%\n",
            "    Class 13 (bus): 40.00% ± 0.00%\n",
            "      Diff from A-before-B: -25.00%\n",
            "    Class 14 (butterfly): 12.00% ± 0.00%\n",
            "      Diff from A-before-B: -23.00%\n",
            "    Class 15 (camel): 3.00% ± 0.00%\n",
            "      Diff from A-before-B: -34.00%\n",
            "    Class 16 (can): 6.00% ± 0.00%\n",
            "      Diff from A-before-B: -21.00%\n",
            "    Class 17 (castle): 55.00% ± 0.00%\n",
            "      Diff from A-before-B: -22.00%\n",
            "    Class 18 (caterpillar): 28.00% ± 0.00%\n",
            "      Diff from A-before-B: -13.00%\n",
            "    Class 19 (cattle): 4.00% ± 0.00%\n",
            "      Diff from A-before-B: -18.00%\n",
            "    Class 20 (chair): 22.00% ± 0.00%\n",
            "      Diff from A-before-B: -44.00%\n",
            "    Class 21 (chimpanzee): 10.00% ± 0.00%\n",
            "      Diff from A-before-B: -36.00%\n",
            "    Class 22 (clock): 17.00% ± 0.00%\n",
            "      Diff from A-before-B: -21.00%\n",
            "    Class 23 (cloud): 72.00% ± 0.00%\n",
            "      Diff from A-before-B: -7.00%\n",
            "    Class 24 (cockroach): 22.00% ± 0.00%\n",
            "      Diff from A-before-B: -51.00%\n",
            "    Class 25 (couch): 0.00% ± 0.00%\n",
            "      Diff from A-before-B: -15.00%\n",
            "    Class 26 (crab): 6.00% ± 0.00%\n",
            "      Diff from A-before-B: -20.00%\n",
            "    Class 27 (crocodile): 32.00% ± 0.00%\n",
            "      Diff from A-before-B: -5.00%\n",
            "    Class 28 (cup): 6.00% ± 0.00%\n",
            "      Diff from A-before-B: -45.00%\n",
            "    Class 29 (dinosaur): 0.00% ± 0.00%\n",
            "      Diff from A-before-B: -42.00%\n",
            "    Class 30 (dolphin): 60.00% ± 0.00%\n",
            "      Diff from A-before-B: -12.00%\n",
            "    Class 31 (elephant): 26.00% ± 0.00%\n",
            "      Diff from A-before-B: -12.00%\n",
            "    Class 32 (flatfish): 1.00% ± 0.00%\n",
            "      Diff from A-before-B: -36.00%\n",
            "    Class 33 (forest): 26.00% ± 0.00%\n",
            "      Diff from A-before-B: -10.00%\n",
            "    Class 34 (fox): 3.00% ± 0.00%\n",
            "      Diff from A-before-B: -28.00%\n",
            "    Class 35 (girl): 5.00% ± 0.00%\n",
            "      Diff from A-before-B: -26.00%\n",
            "    Class 36 (hamster): 45.00% ± 0.00%\n",
            "      Diff from A-before-B: -10.00%\n",
            "    Class 37 (house): 19.00% ± 0.00%\n",
            "      Diff from A-before-B: -6.00%\n",
            "    Class 38 (kangaroo): 14.00% ± 0.00%\n",
            "      Diff from A-before-B: -19.00%\n",
            "    Class 39 (keyboard): 23.00% ± 0.00%\n",
            "      Diff from A-before-B: -28.00%\n",
            "    Class 40 (lamp): 6.00% ± 0.00%\n",
            "      Diff from A-before-B: -36.00%\n",
            "    Class 41 (lawn_mower): 25.00% ± 0.00%\n",
            "      Diff from A-before-B: -32.00%\n",
            "    Class 42 (leopard): 40.00% ± 0.00%\n",
            "      Diff from A-before-B: 4.00%\n",
            "    Class 43 (lion): 19.00% ± 0.00%\n",
            "      Diff from A-before-B: -37.00%\n",
            "    Class 44 (lizard): 4.00% ± 0.00%\n",
            "      Diff from A-before-B: -14.00%\n",
            "    Class 45 (lobster): 18.00% ± 0.00%\n",
            "      Diff from A-before-B: 3.00%\n",
            "    Class 46 (man): 3.00% ± 0.00%\n",
            "      Diff from A-before-B: -22.00%\n",
            "    Class 47 (maple_tree): 71.00% ± 0.00%\n",
            "      Diff from A-before-B: -4.00%\n",
            "    Class 48 (motorcycle): 55.00% ± 0.00%\n",
            "      Diff from A-before-B: -13.00%\n",
            "    Class 49 (mountain): 42.00% ± 0.00%\n",
            "      Diff from A-before-B: -22.00%\n",
            "\n",
            "=== Frozen up to fc2 ===\n",
            "  Overall Accuracy (Mean ± Std): 21.64% ± 0.00%\n",
            "  Difference from A-before-B: -21.24%\n",
            "    Class 0 (apple): 65.00% ± 0.00%\n",
            "      Diff from A-before-B: -5.00%\n",
            "    Class 1 (aquarium_fish): 36.00% ± 0.00%\n",
            "      Diff from A-before-B: -31.00%\n",
            "    Class 2 (baby): 30.00% ± 0.00%\n",
            "      Diff from A-before-B: -3.00%\n",
            "    Class 3 (bear): 12.00% ± 0.00%\n",
            "      Diff from A-before-B: -4.00%\n",
            "    Class 4 (beaver): 0.00% ± 0.00%\n",
            "      Diff from A-before-B: -16.00%\n",
            "    Class 5 (bed): 8.00% ± 0.00%\n",
            "      Diff from A-before-B: -40.00%\n",
            "    Class 6 (bee): 29.00% ± 0.00%\n",
            "      Diff from A-before-B: -13.00%\n",
            "    Class 7 (beetle): 3.00% ± 0.00%\n",
            "      Diff from A-before-B: -31.00%\n",
            "    Class 8 (bicycle): 0.00% ± 0.00%\n",
            "      Diff from A-before-B: -38.00%\n",
            "    Class 9 (bottle): 32.00% ± 0.00%\n",
            "      Diff from A-before-B: -19.00%\n",
            "    Class 10 (bowl): 4.00% ± 0.00%\n",
            "      Diff from A-before-B: -20.00%\n",
            "    Class 11 (boy): 0.00% ± 0.00%\n",
            "      Diff from A-before-B: -21.00%\n",
            "    Class 12 (bridge): 36.00% ± 0.00%\n",
            "      Diff from A-before-B: -6.00%\n",
            "    Class 13 (bus): 40.00% ± 0.00%\n",
            "      Diff from A-before-B: -25.00%\n",
            "    Class 14 (butterfly): 11.00% ± 0.00%\n",
            "      Diff from A-before-B: -24.00%\n",
            "    Class 15 (camel): 0.00% ± 0.00%\n",
            "      Diff from A-before-B: -37.00%\n",
            "    Class 16 (can): 2.00% ± 0.00%\n",
            "      Diff from A-before-B: -25.00%\n",
            "    Class 17 (castle): 56.00% ± 0.00%\n",
            "      Diff from A-before-B: -21.00%\n",
            "    Class 18 (caterpillar): 34.00% ± 0.00%\n",
            "      Diff from A-before-B: -7.00%\n",
            "    Class 19 (cattle): 5.00% ± 0.00%\n",
            "      Diff from A-before-B: -17.00%\n",
            "    Class 20 (chair): 27.00% ± 0.00%\n",
            "      Diff from A-before-B: -39.00%\n",
            "    Class 21 (chimpanzee): 11.00% ± 0.00%\n",
            "      Diff from A-before-B: -35.00%\n",
            "    Class 22 (clock): 29.00% ± 0.00%\n",
            "      Diff from A-before-B: -9.00%\n",
            "    Class 23 (cloud): 65.00% ± 0.00%\n",
            "      Diff from A-before-B: -14.00%\n",
            "    Class 24 (cockroach): 16.00% ± 0.00%\n",
            "      Diff from A-before-B: -57.00%\n",
            "    Class 25 (couch): 2.00% ± 0.00%\n",
            "      Diff from A-before-B: -13.00%\n",
            "    Class 26 (crab): 12.00% ± 0.00%\n",
            "      Diff from A-before-B: -14.00%\n",
            "    Class 27 (crocodile): 11.00% ± 0.00%\n",
            "      Diff from A-before-B: -26.00%\n",
            "    Class 28 (cup): 9.00% ± 0.00%\n",
            "      Diff from A-before-B: -42.00%\n",
            "    Class 29 (dinosaur): 0.00% ± 0.00%\n",
            "      Diff from A-before-B: -42.00%\n",
            "    Class 30 (dolphin): 69.00% ± 0.00%\n",
            "      Diff from A-before-B: -3.00%\n",
            "    Class 31 (elephant): 21.00% ± 0.00%\n",
            "      Diff from A-before-B: -17.00%\n",
            "    Class 32 (flatfish): 0.00% ± 0.00%\n",
            "      Diff from A-before-B: -37.00%\n",
            "    Class 33 (forest): 28.00% ± 0.00%\n",
            "      Diff from A-before-B: -8.00%\n",
            "    Class 34 (fox): 1.00% ± 0.00%\n",
            "      Diff from A-before-B: -30.00%\n",
            "    Class 35 (girl): 4.00% ± 0.00%\n",
            "      Diff from A-before-B: -27.00%\n",
            "    Class 36 (hamster): 27.00% ± 0.00%\n",
            "      Diff from A-before-B: -28.00%\n",
            "    Class 37 (house): 26.00% ± 0.00%\n",
            "      Diff from A-before-B: 1.00%\n",
            "    Class 38 (kangaroo): 15.00% ± 0.00%\n",
            "      Diff from A-before-B: -18.00%\n",
            "    Class 39 (keyboard): 17.00% ± 0.00%\n",
            "      Diff from A-before-B: -34.00%\n",
            "    Class 40 (lamp): 0.00% ± 0.00%\n",
            "      Diff from A-before-B: -42.00%\n",
            "    Class 41 (lawn_mower): 33.00% ± 0.00%\n",
            "      Diff from A-before-B: -24.00%\n",
            "    Class 42 (leopard): 38.00% ± 0.00%\n",
            "      Diff from A-before-B: 2.00%\n",
            "    Class 43 (lion): 29.00% ± 0.00%\n",
            "      Diff from A-before-B: -27.00%\n",
            "    Class 44 (lizard): 2.00% ± 0.00%\n",
            "      Diff from A-before-B: -16.00%\n",
            "    Class 45 (lobster): 11.00% ± 0.00%\n",
            "      Diff from A-before-B: -4.00%\n",
            "    Class 46 (man): 0.00% ± 0.00%\n",
            "      Diff from A-before-B: -25.00%\n",
            "    Class 47 (maple_tree): 70.00% ± 0.00%\n",
            "      Diff from A-before-B: -5.00%\n",
            "    Class 48 (motorcycle): 59.00% ± 0.00%\n",
            "      Diff from A-before-B: -9.00%\n",
            "    Class 49 (mountain): 47.00% ± 0.00%\n",
            "      Diff from A-before-B: -17.00%\n",
            "\n",
            "=== Frozen up to fc3 ===\n",
            "  Overall Accuracy (Mean ± Std): 19.84% ± 0.00%\n",
            "  Difference from A-before-B: -23.04%\n",
            "    Class 0 (apple): 68.00% ± 0.00%\n",
            "      Diff from A-before-B: -2.00%\n",
            "    Class 1 (aquarium_fish): 28.00% ± 0.00%\n",
            "      Diff from A-before-B: -39.00%\n",
            "    Class 2 (baby): 0.00% ± 0.00%\n",
            "      Diff from A-before-B: -33.00%\n",
            "    Class 3 (bear): 6.00% ± 0.00%\n",
            "      Diff from A-before-B: -10.00%\n",
            "    Class 4 (beaver): 1.00% ± 0.00%\n",
            "      Diff from A-before-B: -15.00%\n",
            "    Class 5 (bed): 7.00% ± 0.00%\n",
            "      Diff from A-before-B: -41.00%\n",
            "    Class 6 (bee): 33.00% ± 0.00%\n",
            "      Diff from A-before-B: -9.00%\n",
            "    Class 7 (beetle): 2.00% ± 0.00%\n",
            "      Diff from A-before-B: -32.00%\n",
            "    Class 8 (bicycle): 0.00% ± 0.00%\n",
            "      Diff from A-before-B: -38.00%\n",
            "    Class 9 (bottle): 16.00% ± 0.00%\n",
            "      Diff from A-before-B: -35.00%\n",
            "    Class 10 (bowl): 8.00% ± 0.00%\n",
            "      Diff from A-before-B: -16.00%\n",
            "    Class 11 (boy): 5.00% ± 0.00%\n",
            "      Diff from A-before-B: -16.00%\n",
            "    Class 12 (bridge): 32.00% ± 0.00%\n",
            "      Diff from A-before-B: -10.00%\n",
            "    Class 13 (bus): 45.00% ± 0.00%\n",
            "      Diff from A-before-B: -20.00%\n",
            "    Class 14 (butterfly): 6.00% ± 0.00%\n",
            "      Diff from A-before-B: -29.00%\n",
            "    Class 15 (camel): 2.00% ± 0.00%\n",
            "      Diff from A-before-B: -35.00%\n",
            "    Class 16 (can): 12.00% ± 0.00%\n",
            "      Diff from A-before-B: -15.00%\n",
            "    Class 17 (castle): 53.00% ± 0.00%\n",
            "      Diff from A-before-B: -24.00%\n",
            "    Class 18 (caterpillar): 13.00% ± 0.00%\n",
            "      Diff from A-before-B: -28.00%\n",
            "    Class 19 (cattle): 8.00% ± 0.00%\n",
            "      Diff from A-before-B: -14.00%\n",
            "    Class 20 (chair): 23.00% ± 0.00%\n",
            "      Diff from A-before-B: -43.00%\n",
            "    Class 21 (chimpanzee): 18.00% ± 0.00%\n",
            "      Diff from A-before-B: -28.00%\n",
            "    Class 22 (clock): 31.00% ± 0.00%\n",
            "      Diff from A-before-B: -7.00%\n",
            "    Class 23 (cloud): 63.00% ± 0.00%\n",
            "      Diff from A-before-B: -16.00%\n",
            "    Class 24 (cockroach): 12.00% ± 0.00%\n",
            "      Diff from A-before-B: -61.00%\n",
            "    Class 25 (couch): 2.00% ± 0.00%\n",
            "      Diff from A-before-B: -13.00%\n",
            "    Class 26 (crab): 13.00% ± 0.00%\n",
            "      Diff from A-before-B: -13.00%\n",
            "    Class 27 (crocodile): 14.00% ± 0.00%\n",
            "      Diff from A-before-B: -23.00%\n",
            "    Class 28 (cup): 5.00% ± 0.00%\n",
            "      Diff from A-before-B: -46.00%\n",
            "    Class 29 (dinosaur): 0.00% ± 0.00%\n",
            "      Diff from A-before-B: -42.00%\n",
            "    Class 30 (dolphin): 73.00% ± 0.00%\n",
            "      Diff from A-before-B: 1.00%\n",
            "    Class 31 (elephant): 25.00% ± 0.00%\n",
            "      Diff from A-before-B: -13.00%\n",
            "    Class 32 (flatfish): 0.00% ± 0.00%\n",
            "      Diff from A-before-B: -37.00%\n",
            "    Class 33 (forest): 16.00% ± 0.00%\n",
            "      Diff from A-before-B: -20.00%\n",
            "    Class 34 (fox): 1.00% ± 0.00%\n",
            "      Diff from A-before-B: -30.00%\n",
            "    Class 35 (girl): 12.00% ± 0.00%\n",
            "      Diff from A-before-B: -19.00%\n",
            "    Class 36 (hamster): 44.00% ± 0.00%\n",
            "      Diff from A-before-B: -11.00%\n",
            "    Class 37 (house): 11.00% ± 0.00%\n",
            "      Diff from A-before-B: -14.00%\n",
            "    Class 38 (kangaroo): 16.00% ± 0.00%\n",
            "      Diff from A-before-B: -17.00%\n",
            "    Class 39 (keyboard): 5.00% ± 0.00%\n",
            "      Diff from A-before-B: -46.00%\n",
            "    Class 40 (lamp): 2.00% ± 0.00%\n",
            "      Diff from A-before-B: -40.00%\n",
            "    Class 41 (lawn_mower): 5.00% ± 0.00%\n",
            "      Diff from A-before-B: -52.00%\n",
            "    Class 42 (leopard): 54.00% ± 0.00%\n",
            "      Diff from A-before-B: 18.00%\n",
            "    Class 43 (lion): 14.00% ± 0.00%\n",
            "      Diff from A-before-B: -42.00%\n",
            "    Class 44 (lizard): 10.00% ± 0.00%\n",
            "      Diff from A-before-B: -8.00%\n",
            "    Class 45 (lobster): 8.00% ± 0.00%\n",
            "      Diff from A-before-B: -7.00%\n",
            "    Class 46 (man): 1.00% ± 0.00%\n",
            "      Diff from A-before-B: -24.00%\n",
            "    Class 47 (maple_tree): 74.00% ± 0.00%\n",
            "      Diff from A-before-B: -1.00%\n",
            "    Class 48 (motorcycle): 59.00% ± 0.00%\n",
            "      Diff from A-before-B: -9.00%\n",
            "    Class 49 (mountain): 36.00% ± 0.00%\n",
            "      Diff from A-before-B: -28.00%\n",
            "\n",
            "Task B Classes:\n",
            "  Class 50 (mouse)\n",
            "  Class 51 (mushroom)\n",
            "  Class 52 (oak_tree)\n",
            "  Class 53 (orange)\n",
            "  Class 54 (orchid)\n",
            "  Class 55 (otter)\n",
            "  Class 56 (palm_tree)\n",
            "  Class 57 (pear)\n",
            "  Class 58 (pickup_truck)\n",
            "  Class 59 (pine_tree)\n",
            "  Class 60 (plain)\n",
            "  Class 61 (plate)\n",
            "  Class 62 (poppy)\n",
            "  Class 63 (porcupine)\n",
            "  Class 64 (possum)\n",
            "  Class 65 (rabbit)\n",
            "  Class 66 (raccoon)\n",
            "  Class 67 (ray)\n",
            "  Class 68 (road)\n",
            "  Class 69 (rocket)\n",
            "  Class 70 (rose)\n",
            "  Class 71 (sea)\n",
            "  Class 72 (seal)\n",
            "  Class 73 (shark)\n",
            "  Class 74 (shrew)\n",
            "  Class 75 (skunk)\n",
            "  Class 76 (skyscraper)\n",
            "  Class 77 (snail)\n",
            "  Class 78 (snake)\n",
            "  Class 79 (spider)\n",
            "  Class 80 (squirrel)\n",
            "  Class 81 (streetcar)\n",
            "  Class 82 (sunflower)\n",
            "  Class 83 (sweet_pepper)\n",
            "  Class 84 (table)\n",
            "  Class 85 (tank)\n",
            "  Class 86 (telephone)\n",
            "  Class 87 (television)\n",
            "  Class 88 (tiger)\n",
            "  Class 89 (tractor)\n",
            "  Class 90 (train)\n",
            "  Class 91 (trout)\n",
            "  Class 92 (tulip)\n",
            "  Class 93 (turtle)\n",
            "  Class 94 (wardrobe)\n",
            "  Class 95 (whale)\n",
            "  Class 96 (willow_tree)\n",
            "  Class 97 (wolf)\n",
            "  Class 98 (woman)\n",
            "  Class 99 (worm)\n"
          ]
        },
        {
          "output_type": "display_data",
          "data": {
            "text/plain": [
              "<Figure size 800x500 with 1 Axes>"
            ],
            "image/png": "[encoded data removed]"
          },
          "metadata": {}
        }
      ],
      "source": [
        "if not_sequnetial:\n",
        "  if dataset_name == \"mnist\":\n",
        "      freeze_points=[\"conv1\",\"conv2\",\"fc1\"]\n",
        "  elif dataset_name in [\"cifar10\"]:\n",
        "      freeze_points=[\"conv1\",\"conv2\",\"fc1\"]\n",
        "\n",
        "  elif dataset_name == \"cifar100\":\n",
        "      freeze_points=[\"conv1\",\"conv2\",\"conv3\",\"fc1\",\"fc2\",\"fc3\"]\n",
        "  else:\n",
        "      freeze_points=[\"conv1\",\"conv2\",\"conv3\",\"fc1\",\"fc2\",\"fc3\"]\n",
        "\n",
        "  probe_results={fp:[] for fp in freeze_points}\n",
        "  per_class_results={fp:{c:[] for c in task_A_classes} for fp in freeze_points}\n",
        "\n",
        "  print(\"Running probing for each seed...\")\n",
        "  for seed in range(num_seeds):\n",
        "      print(f\"\\n*** Probing for Seed {seed} ***\")\n",
        "      model_state=final_models_after_B[seed]\n",
        "      for fp in freeze_points:\n",
        "          print(f\"Probing with freeze_up_to_layer = {fp} for seed {seed}\")\n",
        "          overall_acc, class_accs = overall_acc, class_accs = probe_model(freeze_up_to_layer=fp, model_state=model_state, randomize=False, sequential=False) # set to true or false\n",
        "          probe_results[fp].append(overall_acc)\n",
        "          for c in task_A_classes:\n",
        "              per_class_results[fp][c].append(class_accs[c])\n",
        "\n",
        "  avg_probe_accuracies={fp:np.mean(probe_results[fp]) for fp in freeze_points}\n",
        "  std_probe_accuracies={fp:np.std(probe_results[fp]) for fp in freeze_points}\n",
        "\n",
        "  avg_per_class_accuracies={}\n",
        "  std_per_class_accuracies={}\n",
        "  for fp in freeze_points:\n",
        "      avg_per_class_accuracies[fp]={c:np.mean(per_class_results[fp][c]) for c in task_A_classes}\n",
        "      std_per_class_accuracies[fp]={c:np.std(per_class_results[fp][c]) for c in task_A_classes}\n",
        "\n",
        "  print(\"\\nMulti-Seed Probing results (Mean ± Std):\")\n",
        "  for fp in freeze_points:\n",
        "      print(f\"\\n=== Frozen up to {fp} ===\")\n",
        "      probe_overall_mean=avg_probe_accuracies[fp]*100\n",
        "      probe_overall_std=std_probe_accuracies[fp]*100\n",
        "      print(f\"  Overall Accuracy (Mean ± Std): {probe_overall_mean:.2f}% ± {probe_overall_std:.2f}%\")\n",
        "\n",
        "      diff_from_A_before=(avg_probe_accuracies[fp]-avg_accuracy_A_before)*100\n",
        "      diff_from_A_after=(avg_probe_accuracies[fp]-avg_accuracy_A_after)*100\n",
        "      print(f\"  Difference from A-before-B: {diff_from_A_before:.2f}%\")\n",
        "\n",
        "      for c in task_A_classes:\n",
        "          mean_c=avg_per_class_accuracies[fp][c]*100\n",
        "          std_c=std_per_class_accuracies[fp][c]*100\n",
        "          class_name=class_names_full[c] if c<len(class_names_full) else f\"Class_{c}\"\n",
        "          diff_class_from_A_before=(avg_per_class_accuracies[fp][c]-np.mean(A_before_per_class[c]))*100\n",
        "          # diff_class_from_A_after=(avg_per_class_accuracies[fp][c]-np.mean(A_after_per_class[c]))*100\n",
        "          print(f\"    Class {c} ({class_name}): {mean_c:.2f}% ± {std_c:.2f}%\")\n",
        "          print(f\"      Diff from A-before-B: {diff_class_from_A_before:.2f}%\")\n",
        "\n",
        "  print(\"\\nTask B Classes:\")\n",
        "  for c in task_B_classes:\n",
        "      class_name=class_names_full[c] if c<len(class_names_full) else f\"Class_{c}\"\n",
        "      print(f\"  Class {c} ({class_name})\")\n",
        "\n",
        "  plt.figure(figsize=(8,5))\n",
        "  avg_accuracies=[avg_probe_accuracies[fp] for fp in freeze_points]\n",
        "  std_accuracies=[std_probe_accuracies[fp] for fp in freeze_points]\n",
        "  plt.bar(freeze_points, avg_accuracies, yerr=std_accuracies, color='skyblue', capsize=5)\n",
        "  plt.ylabel('Average Overall Accuracy on Task A')\n",
        "  plt.title('Multi-Seed Probing Performance from Final Model (post-B Training) - Overall')\n",
        "  plt.show()"
      ]
    },
    {
      "cell_type": "code",
      "source": [
        "# Cell 1: Task and DataLoader Setup\n",
        "# Run this cell once to set up the tasks and create dataloaders\n",
        "tasks = [\n",
        "    list(range(0, 10)),    # Classes 0-9\n",
        "    list(range(10, 20)),   # Classes 10-19\n",
        "    list(range(20, 30)),   # Classes 20-29\n",
        "    list(range(30, 40)),   # Classes 30-39\n",
        "    list(range(40, 50)),   # Classes 40-49\n",
        "    list(range(50, 60)),   # Classes 50-59\n",
        "    list(range(60, 70)),   # Classes 60-69\n",
        "    list(range(70, 80)),   # Classes 70-79\n",
        "    list(range(80, 90)),   # Classes 80-89\n",
        "    list(range(90, 100))   # Classes 90-99\n",
        "]\n",
        "\n",
        "# To use single-class tasks instead, uncomment this:\n",
        "# tasks = [[i] for i in range(100)]\n",
        "\n",
        "def get_sequential_dataloaders(tasks):\n",
        "    \"\"\"Create data loaders for each task\"\"\"\n",
        "    train_loaders = []\n",
        "    test_loaders = []\n",
        "\n",
        "    for task_classes in tasks:\n",
        "        train_indices = get_class_indices(train_dataset, task_classes)\n",
        "        test_indices = get_class_indices(test_dataset, task_classes)\n",
        "\n",
        "        train_loader = DataLoader(\n",
        "            Subset(train_dataset, train_indices),\n",
        "            batch_size=batch_size,\n",
        "            shuffle=True\n",
        "        )\n",
        "        test_loader = DataLoader(\n",
        "            Subset(test_dataset, test_indices),\n",
        "            batch_size=batch_size,\n",
        "            shuffle=False\n",
        "        )\n",
        "\n",
        "        train_loaders.append(train_loader)\n",
        "        test_loaders.append(test_loader)\n",
        "\n",
        "    return train_loaders, test_loaders\n",
        "\n",
        "# Create the dataloaders\n",
        "train_loaders, test_loaders = get_sequential_dataloaders(tasks)\n",
        "print(\"Dataloaders created for\", len(tasks), \"tasks\")"
      ],
      "metadata": {
        "colab": {
          "base_uri": "https://localhost:8080/"
        },
        "id": "K1XUo80wt02F",
        "outputId": "3e8ad0fe-f43f-4f9a-a544-9a94cdf558c9"
      },
      "execution_count": 39,
      "outputs": [
        {
          "output_type": "stream",
          "name": "stdout",
          "text": [
            "Dataloaders created for 10 tasks\n"
          ]
        }
      ]
    },
    {
      "cell_type": "code",
      "source": [
        "# Cell 2: Training and Analysis Functions\n",
        "def sequential_training(train_loaders, test_loaders, tasks, num_seeds=1, epochs_per_task=7):\n",
        "    \"\"\"Train sequentially on multiple tasks and store results\"\"\"\n",
        "    results = {\n",
        "        'accuracies_during_training': [],  # Accuracies after each task\n",
        "        'final_models': [],                # Final model states\n",
        "        'per_task_per_class': {}          # Per-class accuracies for each task\n",
        "    }\n",
        "\n",
        "    for task_idx in range(len(tasks)):\n",
        "        results['per_task_per_class'][task_idx] = {c: [] for c in tasks[task_idx]}\n",
        "\n",
        "    for seed in range(num_seeds):\n",
        "        print(f\"\\n=== Seed {seed} ===\")\n",
        "        torch.manual_seed(seed)\n",
        "        np.random.seed(seed)\n",
        "\n",
        "        # Initialize model\n",
        "        model = SimpleCNN(num_classes=len(class_names_full)).to(device)\n",
        "        optimizer = optim.Adam(model.parameters(), lr=0.001)\n",
        "        criterion = nn.CrossEntropyLoss()\n",
        "\n",
        "        # Store accuracies for this seed\n",
        "        seed_accuracies = []\n",
        "\n",
        "        # Sequential training\n",
        "        for task_idx, (train_loader, test_loader) in enumerate(zip(train_loaders, test_loaders)):\n",
        "            print(f\"\\nTraining on Task {task_idx} (classes: {tasks[task_idx]})...\")\n",
        "            train_model(model, train_loader, optimizer, criterion, epochs=epochs_per_task, verbose=True)\n",
        "\n",
        "            # Evaluate on all previous tasks\n",
        "            task_accuracies = []\n",
        "            for prev_idx in range(task_idx + 1):\n",
        "                acc, class_accs = evaluate_model_per_class(\n",
        "                    model,\n",
        "                    test_loaders[prev_idx],\n",
        "                    classes=tasks[prev_idx],\n",
        "                    verbose=False\n",
        "                )\n",
        "                task_accuracies.append(acc)\n",
        "\n",
        "                # Store per-class accuracies for the current task\n",
        "                if prev_idx == task_idx:\n",
        "                    for c in tasks[task_idx]:\n",
        "                        if len(results['per_task_per_class'][task_idx][c]) <= seed:\n",
        "                            results['per_task_per_class'][task_idx][c].append(class_accs[c])\n",
        "\n",
        "            print(f\"Accuracies after Task {task_idx}:\")\n",
        "            for prev_idx, acc in enumerate(task_accuracies):\n",
        "                print(f\"  Task {prev_idx}: {acc*100:.2f}%\")\n",
        "\n",
        "            seed_accuracies.append(task_accuracies)\n",
        "\n",
        "        # Store final model state\n",
        "        final_state = model.state_dict()\n",
        "        final_state_copy = {k: v.cpu().clone() for k, v in final_state.items()}\n",
        "        results['final_models'].append(final_state_copy)\n",
        "        results['accuracies_during_training'].append(seed_accuracies)\n",
        "\n",
        "    return results\n",
        "\n",
        "def analyze_sequential_results(results, tasks):\n",
        "    \"\"\"Analyze and print results from sequential training\"\"\"\n",
        "    num_tasks = len(tasks)\n",
        "    num_seeds = len(results['accuracies_during_training'])\n",
        "\n",
        "    print(\"\\n=== Sequential Training Results ===\")\n",
        "\n",
        "    # For each seed, accuracies_during_training contains lists of varying length\n",
        "    # We need to handle this carefully\n",
        "    for task_idx in range(num_tasks):\n",
        "        print(f\"\\nTask {task_idx} (classes: {tasks[task_idx]}):\")\n",
        "        print(\"  Performance over time (mean ± std):\")\n",
        "\n",
        "        # For each time point after this task\n",
        "        for time_idx in range(task_idx, num_tasks):\n",
        "            # Collect accuracies for this task at this time point across all seeds\n",
        "            accs = []\n",
        "            for seed in range(num_seeds):\n",
        "                seed_accuracies = results['accuracies_during_training'][seed]\n",
        "                if time_idx < len(seed_accuracies):  # Check if we have data for this time point\n",
        "                    task_accuracies = seed_accuracies[time_idx]\n",
        "                    if task_idx < len(task_accuracies):  # Check if we have data for this task\n",
        "                        accs.append(task_accuracies[task_idx])\n",
        "\n",
        "            if accs:  # Only calculate statistics if we have data\n",
        "                mean_acc = np.mean(accs) * 100\n",
        "                std_acc = np.std(accs) * 100 if len(accs) > 1 else 0\n",
        "                print(f\"    After Task {time_idx}: {mean_acc:.2f}% ± {std_acc:.2f}%\")\n",
        "\n",
        "        print(\"\\n  Per-class final performance:\")\n",
        "        for c in tasks[task_idx]:\n",
        "            class_accs = results['per_task_per_class'][task_idx][c]\n",
        "            if class_accs:  # Only calculate statistics if we have data\n",
        "                mean_c = np.mean(class_accs) * 100\n",
        "                std_c = np.std(class_accs) * 100 if len(class_accs) > 1 else 0\n",
        "                class_name = class_names_full[c] if c < len(class_names_full) else f\"Class_{c}\"\n",
        "                print(f\"    Class {c} ({class_name}): {mean_c:.2f}% ± {std_c:.2f}%\")\n",
        "\n",
        "def visualize_probing_results(probe_results, per_class_results, tasks, freeze_points, num_seeds):\n",
        "    \"\"\"Create visualizations for probing results with consistent scaling and improved formatting\"\"\"\n",
        "\n",
        "    # Create figure with adjusted size and spacing\n",
        "    fig = plt.figure(figsize=(25, 10))\n",
        "    gs = fig.add_gridspec(2, 5, hspace=0.4, wspace=0.3)\n",
        "    axes = gs.subplots()\n",
        "    axes = axes.flatten()\n",
        "\n",
        "    # Color for bars\n",
        "    bar_color = '#1f77b4'\n",
        "\n",
        "    # Find maximum accuracy for consistent y-axis scaling\n",
        "    max_accuracy = 0\n",
        "    for task_idx, task_classes in enumerate(tasks):\n",
        "        for fp in freeze_points:\n",
        "            task_accs = []\n",
        "            for seed in range(num_seeds):\n",
        "                acc_sum = 0\n",
        "                count = 0\n",
        "                for c in task_classes:\n",
        "                    if c in per_class_results[fp] and len(per_class_results[fp][c]) > seed:\n",
        "                        acc_sum += per_class_results[fp][c][seed]\n",
        "                        count += 1\n",
        "                if count > 0:\n",
        "                    task_accs.append(acc_sum / count)\n",
        "            if task_accs:\n",
        "                max_accuracy = max(max_accuracy, np.mean(task_accs) * 100)\n",
        "\n",
        "    # Round up max_accuracy to nearest 10 for nice y-axis limits\n",
        "    y_max = np.ceil(max_accuracy / 10) * 10\n",
        "\n",
        "    for task_idx, task_classes in enumerate(tasks):\n",
        "        ax = axes[task_idx]\n",
        "\n",
        "        # Calculate mean and std for this task set\n",
        "        task_means = []\n",
        "        task_stds = []\n",
        "\n",
        "        for fp in freeze_points:\n",
        "            task_accs = []\n",
        "            for seed in range(num_seeds):\n",
        "                acc_sum = 0\n",
        "                count = 0\n",
        "                for c in task_classes:\n",
        "                    if c in per_class_results[fp] and len(per_class_results[fp][c]) > seed:\n",
        "                        acc_sum += per_class_results[fp][c][seed]\n",
        "                        count += 1\n",
        "                if count > 0:\n",
        "                    task_accs.append(acc_sum / count)\n",
        "\n",
        "            if task_accs:\n",
        "                task_means.append(np.mean(task_accs) * 100)\n",
        "                task_stds.append(np.std(task_accs) * 100 if len(task_accs) > 1 else 0)\n",
        "            else:\n",
        "                task_means.append(0)\n",
        "                task_stds.append(0)\n",
        "\n",
        "        # Create bar plot\n",
        "        x_positions = np.arange(len(freeze_points))\n",
        "        bars = ax.bar(x_positions, task_means, yerr=task_stds, capsize=5, color=bar_color)\n",
        "\n",
        "        # Customize subplot\n",
        "        ax.set_xticks(x_positions)\n",
        "        ax.set_xticklabels(freeze_points, rotation=45)\n",
        "        ax.set_title(f'Classes {task_classes[0]}-{task_classes[-1]}', pad=10)\n",
        "        ax.set_ylabel('Accuracy (%)')\n",
        "\n",
        "        # Set y-axis limits\n",
        "        ax.set_ylim(0, y_max)\n",
        "\n",
        "        # Add value labels\n",
        "        for bar in bars:\n",
        "            height = bar.get_height()\n",
        "            if height > 0:\n",
        "                ax.text(bar.get_x() + bar.get_width()/2., height,\n",
        "                       f'{height:.1f}%',\n",
        "                       ha='center', va='bottom',\n",
        "                       fontsize=8)\n",
        "\n",
        "        # Add grid\n",
        "        ax.grid(True, axis='y', linestyle='--', alpha=0.7)\n",
        "\n",
        "    plt.show()\n",
        "\n",
        "    # Overall results plot\n",
        "    plt.figure(figsize=(12, 6))\n",
        "    avg_accuracies = [np.mean(probe_results[fp]) * 100 for fp in freeze_points]\n",
        "    std_accuracies = [np.std(probe_results[fp]) * 100 if len(probe_results[fp]) > 1 else 0\n",
        "                      for fp in freeze_points]\n",
        "\n",
        "    bars = plt.bar(range(len(freeze_points)), avg_accuracies, yerr=std_accuracies,\n",
        "                  capsize=5, color=bar_color)\n",
        "\n",
        "    for bar in bars:\n",
        "        height = bar.get_height()\n",
        "        if height > 0:\n",
        "            plt.text(bar.get_x() + bar.get_width()/2., height,\n",
        "                    f'{height:.1f}%',\n",
        "                    ha='center', va='bottom')\n",
        "\n",
        "    plt.xticks(range(len(freeze_points)), freeze_points, rotation=45)\n",
        "    plt.ylabel('Average Accuracy (%)')\n",
        "    plt.title('Overall Probing Performance After Sequential Training')\n",
        "    plt.grid(True, axis='y', linestyle='--', alpha=0.7)\n",
        "    plt.tight_layout()\n",
        "    plt.show()\n",
        "\n",
        "def analyze_probing(results, tasks, freeze_points, num_seeds):\n",
        "    \"\"\"Perform probing analysis on the final models without visualization\"\"\"\n",
        "    print(\"\\n=== Probing Analysis on Final Models ===\")\n",
        "    probe_results = {fp: [] for fp in freeze_points}\n",
        "    per_class_results = {fp: {c: [] for task in tasks for c in task} for fp in freeze_points}\n",
        "\n",
        "    for seed in range(num_seeds):\n",
        "        print(f\"\\n*** Probing for Seed {seed} ***\")\n",
        "        model_state = results['final_models'][seed]\n",
        "\n",
        "        for fp in freeze_points:\n",
        "            print(f\"Probing with freeze_up_to_layer = {fp}\")\n",
        "            # Create a combined test loader for all tasks\n",
        "            all_classes = [c for task in tasks for c in task]\n",
        "            overall_acc, class_accs = probe_model(freeze_up_to_layer=fp, model_state=model_state, randomize=False, sequential=True)\n",
        "            probe_results[fp].append(overall_acc)\n",
        "\n",
        "            # Store per-class results\n",
        "            for c in all_classes:\n",
        "                if c in class_accs:\n",
        "                    per_class_results[fp][c].append(class_accs[c])\n",
        "\n",
        "            # Print summary statistics for this freeze point\n",
        "            mean_acc = np.mean(probe_results[fp]) * 100\n",
        "            std_acc = np.std(probe_results[fp]) * 100 if len(probe_results[fp]) > 1 else 0\n",
        "            print(f\"  Overall accuracy: {mean_acc:.2f}% ± {std_acc:.2f}%\")\n",
        "\n",
        "    # Print final summary\n",
        "    print(\"\\nFinal Probing Results Summary:\")\n",
        "    for fp in freeze_points:\n",
        "        mean_acc = np.mean(probe_results[fp]) * 100\n",
        "        std_acc = np.std(probe_results[fp]) * 100 if len(probe_results[fp]) > 1 else 0\n",
        "        print(f\"\\nFreeze point {fp}:\")\n",
        "        print(f\"  Overall accuracy: {mean_acc:.2f}% ± {std_acc:.2f}%\")\n",
        "\n",
        "        # Print per-task summaries\n",
        "        for task_idx, task_classes in enumerate(tasks):\n",
        "            task_accs = []\n",
        "            for seed in range(num_seeds):\n",
        "                acc_sum = 0\n",
        "                count = 0\n",
        "                for c in task_classes:\n",
        "                    if c in per_class_results[fp] and len(per_class_results[fp][c]) > seed:\n",
        "                        acc_sum += per_class_results[fp][c][seed]\n",
        "                        count += 1\n",
        "                if count > 0:\n",
        "                    task_accs.append(acc_sum / count)\n",
        "\n",
        "            if task_accs:\n",
        "                task_mean = np.mean(task_accs) * 100\n",
        "                task_std = np.std(task_accs) * 100 if len(task_accs) > 1 else 0\n",
        "                print(f\"    Task {task_idx} (Classes {task_classes[0]}-{task_classes[-1]}): {task_mean:.2f}% ± {task_std:.2f}%\")\n",
        "\n",
        "    return probe_results, per_class_results"
      ],
      "metadata": {
        "id": "S_GDAfcIxr29"
      },
      "execution_count": 40,
      "outputs": []
    },
    {
      "cell_type": "code",
      "source": [
        "# Cell 3: Run Training\n",
        "# You can modify these parameters and rerun this cell without rerunning the dataloader setup\n",
        "epochs_per_task = 7  # Change this as needed\n",
        "num_seeds = 1        # Change this as needed\n",
        "\n",
        "print(\"Starting Sequential Training Experiment...\")\n",
        "results = sequential_training(train_loaders, test_loaders, tasks,\n",
        "                            num_seeds=num_seeds,\n",
        "                            epochs_per_task=epochs_per_task)\n",
        "analyze_sequential_results(results, tasks)"
      ],
      "metadata": {
        "colab": {
          "base_uri": "https://localhost:8080/"
        },
        "id": "TAGKsh2gxykA",
        "outputId": "d1f249f1-4e16-4eac-98ed-af7458c5cc60"
      },
      "execution_count": 41,
      "outputs": [
        {
          "output_type": "stream",
          "name": "stdout",
          "text": [
            "Starting Sequential Training Experiment...\n",
            "\n",
            "=== Seed 0 ===\n",
            "\n",
            "Training on Task 0 (classes: [0, 1, 2, 3, 4, 5, 6, 7, 8, 9])...\n"
          ]
        },
        {
          "output_type": "stream",
          "name": "stderr",
          "text": []
        },
        {
          "output_type": "stream",
          "name": "stdout",
          "text": [
            "  -> Epoch 1/7 done. Loss: 2.8120, Acc: 13.52%\n"
          ]
        },
        {
          "output_type": "stream",
          "name": "stderr",
          "text": []
        },
        {
          "output_type": "stream",
          "name": "stdout",
          "text": [
            "  -> Epoch 2/7 done. Loss: 1.9366, Acc: 30.74%\n"
          ]
        },
        {
          "output_type": "stream",
          "name": "stderr",
          "text": []
        },
        {
          "output_type": "stream",
          "name": "stdout",
          "text": [
            "  -> Epoch 3/7 done. Loss: 1.7082, Acc: 40.36%\n"
          ]
        },
        {
          "output_type": "stream",
          "name": "stderr",
          "text": []
        },
        {
          "output_type": "stream",
          "name": "stdout",
          "text": [
            "  -> Epoch 4/7 done. Loss: 1.5936, Acc: 44.62%\n"
          ]
        },
        {
          "output_type": "stream",
          "name": "stderr",
          "text": []
        },
        {
          "output_type": "stream",
          "name": "stdout",
          "text": [
            "  -> Epoch 5/7 done. Loss: 1.4605, Acc: 49.82%\n"
          ]
        },
        {
          "output_type": "stream",
          "name": "stderr",
          "text": []
        },
        {
          "output_type": "stream",
          "name": "stdout",
          "text": [
            "  -> Epoch 6/7 done. Loss: 1.3335, Acc: 53.56%\n"
          ]
        },
        {
          "output_type": "stream",
          "name": "stderr",
          "text": []
        },
        {
          "output_type": "stream",
          "name": "stdout",
          "text": [
            "  -> Epoch 7/7 done. Loss: 1.2802, Acc: 55.06%\n",
            "Accuracies after Task 0:\n",
            "  Task 0: 55.40%\n",
            "\n",
            "Training on Task 1 (classes: [10, 11, 12, 13, 14, 15, 16, 17, 18, 19])...\n"
          ]
        },
        {
          "output_type": "stream",
          "name": "stderr",
          "text": []
        },
        {
          "output_type": "stream",
          "name": "stdout",
          "text": [
            "  -> Epoch 1/7 done. Loss: 3.3972, Acc: 9.66%\n"
          ]
        },
        {
          "output_type": "stream",
          "name": "stderr",
          "text": []
        },
        {
          "output_type": "stream",
          "name": "stdout",
          "text": [
            "  -> Epoch 2/7 done. Loss: 2.0987, Acc: 22.82%\n"
          ]
        },
        {
          "output_type": "stream",
          "name": "stderr",
          "text": []
        },
        {
          "output_type": "stream",
          "name": "stdout",
          "text": [
            "  -> Epoch 3/7 done. Loss: 1.8378, Acc: 33.52%\n"
          ]
        },
        {
          "output_type": "stream",
          "name": "stderr",
          "text": []
        },
        {
          "output_type": "stream",
          "name": "stdout",
          "text": [
            "  -> Epoch 4/7 done. Loss: 1.7251, Acc: 36.86%\n"
          ]
        },
        {
          "output_type": "stream",
          "name": "stderr",
          "text": []
        },
        {
          "output_type": "stream",
          "name": "stdout",
          "text": [
            "  -> Epoch 5/7 done. Loss: 1.6325, Acc: 42.10%\n"
          ]
        },
        {
          "output_type": "stream",
          "name": "stderr",
          "text": []
        },
        {
          "output_type": "stream",
          "name": "stdout",
          "text": [
            "  -> Epoch 6/7 done. Loss: 1.5693, Acc: 44.44%\n"
          ]
        },
        {
          "output_type": "stream",
          "name": "stderr",
          "text": []
        },
        {
          "output_type": "stream",
          "name": "stdout",
          "text": [
            "  -> Epoch 7/7 done. Loss: 1.4967, Acc: 46.54%\n",
            "Accuracies after Task 1:\n",
            "  Task 0: 0.00%\n",
            "  Task 1: 44.90%\n",
            "\n",
            "Training on Task 2 (classes: [20, 21, 22, 23, 24, 25, 26, 27, 28, 29])...\n"
          ]
        },
        {
          "output_type": "stream",
          "name": "stderr",
          "text": []
        },
        {
          "output_type": "stream",
          "name": "stdout",
          "text": [
            "  -> Epoch 1/7 done. Loss: 3.7141, Acc: 8.30%\n"
          ]
        },
        {
          "output_type": "stream",
          "name": "stderr",
          "text": []
        },
        {
          "output_type": "stream",
          "name": "stdout",
          "text": [
            "  -> Epoch 2/7 done. Loss: 2.0779, Acc: 23.48%\n"
          ]
        },
        {
          "output_type": "stream",
          "name": "stderr",
          "text": []
        },
        {
          "output_type": "stream",
          "name": "stdout",
          "text": [
            "  -> Epoch 3/7 done. Loss: 1.8347, Acc: 34.52%\n"
          ]
        },
        {
          "output_type": "stream",
          "name": "stderr",
          "text": []
        },
        {
          "output_type": "stream",
          "name": "stdout",
          "text": [
            "  -> Epoch 4/7 done. Loss: 1.6517, Acc: 41.68%\n"
          ]
        },
        {
          "output_type": "stream",
          "name": "stderr",
          "text": []
        },
        {
          "output_type": "stream",
          "name": "stdout",
          "text": [
            "  -> Epoch 5/7 done. Loss: 1.4513, Acc: 49.42%\n"
          ]
        },
        {
          "output_type": "stream",
          "name": "stderr",
          "text": []
        },
        {
          "output_type": "stream",
          "name": "stdout",
          "text": [
            "  -> Epoch 6/7 done. Loss: 1.2751, Acc: 57.82%\n"
          ]
        },
        {
          "output_type": "stream",
          "name": "stderr",
          "text": []
        },
        {
          "output_type": "stream",
          "name": "stdout",
          "text": [
            "  -> Epoch 7/7 done. Loss: 1.1398, Acc: 61.30%\n",
            "Accuracies after Task 2:\n",
            "  Task 0: 0.00%\n",
            "  Task 1: 0.00%\n",
            "  Task 2: 60.10%\n",
            "\n",
            "Training on Task 3 (classes: [30, 31, 32, 33, 34, 35, 36, 37, 38, 39])...\n"
          ]
        },
        {
          "output_type": "stream",
          "name": "stderr",
          "text": []
        },
        {
          "output_type": "stream",
          "name": "stdout",
          "text": [
            "  -> Epoch 1/7 done. Loss: 4.1921, Acc: 7.48%\n"
          ]
        },
        {
          "output_type": "stream",
          "name": "stderr",
          "text": []
        },
        {
          "output_type": "stream",
          "name": "stdout",
          "text": [
            "  -> Epoch 2/7 done. Loss: 2.0095, Acc: 27.44%\n"
          ]
        },
        {
          "output_type": "stream",
          "name": "stderr",
          "text": []
        },
        {
          "output_type": "stream",
          "name": "stdout",
          "text": [
            "  -> Epoch 3/7 done. Loss: 1.7710, Acc: 35.74%\n"
          ]
        },
        {
          "output_type": "stream",
          "name": "stderr",
          "text": []
        },
        {
          "output_type": "stream",
          "name": "stdout",
          "text": [
            "  -> Epoch 4/7 done. Loss: 1.6443, Acc: 41.82%\n"
          ]
        },
        {
          "output_type": "stream",
          "name": "stderr",
          "text": []
        },
        {
          "output_type": "stream",
          "name": "stdout",
          "text": [
            "  -> Epoch 5/7 done. Loss: 1.5604, Acc: 45.12%\n"
          ]
        },
        {
          "output_type": "stream",
          "name": "stderr",
          "text": []
        },
        {
          "output_type": "stream",
          "name": "stdout",
          "text": [
            "  -> Epoch 6/7 done. Loss: 1.4554, Acc: 49.58%\n"
          ]
        },
        {
          "output_type": "stream",
          "name": "stderr",
          "text": []
        },
        {
          "output_type": "stream",
          "name": "stdout",
          "text": [
            "  -> Epoch 7/7 done. Loss: 1.3666, Acc: 52.44%\n",
            "Accuracies after Task 3:\n",
            "  Task 0: 0.00%\n",
            "  Task 1: 0.00%\n",
            "  Task 2: 0.00%\n",
            "  Task 3: 52.40%\n",
            "\n",
            "Training on Task 4 (classes: [40, 41, 42, 43, 44, 45, 46, 47, 48, 49])...\n"
          ]
        },
        {
          "output_type": "stream",
          "name": "stderr",
          "text": []
        },
        {
          "output_type": "stream",
          "name": "stdout",
          "text": [
            "  -> Epoch 1/7 done. Loss: 4.3063, Acc: 5.36%\n"
          ]
        },
        {
          "output_type": "stream",
          "name": "stderr",
          "text": []
        },
        {
          "output_type": "stream",
          "name": "stdout",
          "text": [
            "  -> Epoch 2/7 done. Loss: 2.3097, Acc: 11.14%\n"
          ]
        },
        {
          "output_type": "stream",
          "name": "stderr",
          "text": []
        },
        {
          "output_type": "stream",
          "name": "stdout",
          "text": [
            "  -> Epoch 3/7 done. Loss: 2.2179, Acc: 15.78%\n"
          ]
        },
        {
          "output_type": "stream",
          "name": "stderr",
          "text": []
        },
        {
          "output_type": "stream",
          "name": "stdout",
          "text": [
            "  -> Epoch 4/7 done. Loss: 2.0135, Acc: 28.46%\n"
          ]
        },
        {
          "output_type": "stream",
          "name": "stderr",
          "text": []
        },
        {
          "output_type": "stream",
          "name": "stdout",
          "text": [
            "  -> Epoch 5/7 done. Loss: 1.8420, Acc: 33.66%\n"
          ]
        },
        {
          "output_type": "stream",
          "name": "stderr",
          "text": []
        },
        {
          "output_type": "stream",
          "name": "stdout",
          "text": [
            "  -> Epoch 6/7 done. Loss: 1.7344, Acc: 38.70%\n"
          ]
        },
        {
          "output_type": "stream",
          "name": "stderr",
          "text": []
        },
        {
          "output_type": "stream",
          "name": "stdout",
          "text": [
            "  -> Epoch 7/7 done. Loss: 1.6945, Acc: 39.14%\n",
            "Accuracies after Task 4:\n",
            "  Task 0: 0.00%\n",
            "  Task 1: 0.00%\n",
            "  Task 2: 0.00%\n",
            "  Task 3: 0.00%\n",
            "  Task 4: 39.10%\n",
            "\n",
            "Training on Task 5 (classes: [50, 51, 52, 53, 54, 55, 56, 57, 58, 59])...\n"
          ]
        },
        {
          "output_type": "stream",
          "name": "stderr",
          "text": []
        },
        {
          "output_type": "stream",
          "name": "stdout",
          "text": [
            "  -> Epoch 1/7 done. Loss: 4.2446, Acc: 7.20%\n"
          ]
        },
        {
          "output_type": "stream",
          "name": "stderr",
          "text": []
        },
        {
          "output_type": "stream",
          "name": "stdout",
          "text": [
            "  -> Epoch 2/7 done. Loss: 1.7924, Acc: 30.84%\n"
          ]
        },
        {
          "output_type": "stream",
          "name": "stderr",
          "text": []
        },
        {
          "output_type": "stream",
          "name": "stdout",
          "text": [
            "  -> Epoch 3/7 done. Loss: 1.5250, Acc: 42.54%\n"
          ]
        },
        {
          "output_type": "stream",
          "name": "stderr",
          "text": []
        },
        {
          "output_type": "stream",
          "name": "stdout",
          "text": [
            "  -> Epoch 4/7 done. Loss: 1.4074, Acc: 47.52%\n"
          ]
        },
        {
          "output_type": "stream",
          "name": "stderr",
          "text": []
        },
        {
          "output_type": "stream",
          "name": "stdout",
          "text": [
            "  -> Epoch 5/7 done. Loss: 1.3193, Acc: 51.34%\n"
          ]
        },
        {
          "output_type": "stream",
          "name": "stderr",
          "text": []
        },
        {
          "output_type": "stream",
          "name": "stdout",
          "text": [
            "  -> Epoch 6/7 done. Loss: 1.2347, Acc: 54.32%\n"
          ]
        },
        {
          "output_type": "stream",
          "name": "stderr",
          "text": []
        },
        {
          "output_type": "stream",
          "name": "stdout",
          "text": [
            "  -> Epoch 7/7 done. Loss: 1.1812, Acc: 57.66%\n",
            "Accuracies after Task 5:\n",
            "  Task 0: 0.00%\n",
            "  Task 1: 0.00%\n",
            "  Task 2: 0.00%\n",
            "  Task 3: 0.00%\n",
            "  Task 4: 0.00%\n",
            "  Task 5: 53.40%\n",
            "\n",
            "Training on Task 6 (classes: [60, 61, 62, 63, 64, 65, 66, 67, 68, 69])...\n"
          ]
        },
        {
          "output_type": "stream",
          "name": "stderr",
          "text": []
        },
        {
          "output_type": "stream",
          "name": "stdout",
          "text": [
            "  -> Epoch 1/7 done. Loss: 4.6442, Acc: 5.18%\n"
          ]
        },
        {
          "output_type": "stream",
          "name": "stderr",
          "text": []
        },
        {
          "output_type": "stream",
          "name": "stdout",
          "text": [
            "  -> Epoch 2/7 done. Loss: 1.9595, Acc: 26.64%\n"
          ]
        },
        {
          "output_type": "stream",
          "name": "stderr",
          "text": []
        },
        {
          "output_type": "stream",
          "name": "stdout",
          "text": [
            "  -> Epoch 3/7 done. Loss: 1.7450, Acc: 34.70%\n"
          ]
        },
        {
          "output_type": "stream",
          "name": "stderr",
          "text": []
        },
        {
          "output_type": "stream",
          "name": "stdout",
          "text": [
            "  -> Epoch 4/7 done. Loss: 1.5990, Acc: 41.24%\n"
          ]
        },
        {
          "output_type": "stream",
          "name": "stderr",
          "text": []
        },
        {
          "output_type": "stream",
          "name": "stdout",
          "text": [
            "  -> Epoch 5/7 done. Loss: 1.5172, Acc: 46.36%\n"
          ]
        },
        {
          "output_type": "stream",
          "name": "stderr",
          "text": []
        },
        {
          "output_type": "stream",
          "name": "stdout",
          "text": [
            "  -> Epoch 6/7 done. Loss: 1.4175, Acc: 47.94%\n"
          ]
        },
        {
          "output_type": "stream",
          "name": "stderr",
          "text": []
        },
        {
          "output_type": "stream",
          "name": "stdout",
          "text": [
            "  -> Epoch 7/7 done. Loss: 1.3323, Acc: 52.30%\n",
            "Accuracies after Task 6:\n",
            "  Task 0: 0.00%\n",
            "  Task 1: 0.00%\n",
            "  Task 2: 0.00%\n",
            "  Task 3: 0.00%\n",
            "  Task 4: 0.00%\n",
            "  Task 5: 0.00%\n",
            "  Task 6: 53.20%\n",
            "\n",
            "Training on Task 7 (classes: [70, 71, 72, 73, 74, 75, 76, 77, 78, 79])...\n"
          ]
        },
        {
          "output_type": "stream",
          "name": "stderr",
          "text": []
        },
        {
          "output_type": "stream",
          "name": "stdout",
          "text": [
            "  -> Epoch 1/7 done. Loss: 4.9669, Acc: 7.72%\n"
          ]
        },
        {
          "output_type": "stream",
          "name": "stderr",
          "text": []
        },
        {
          "output_type": "stream",
          "name": "stdout",
          "text": [
            "  -> Epoch 2/7 done. Loss: 1.9638, Acc: 27.38%\n"
          ]
        },
        {
          "output_type": "stream",
          "name": "stderr",
          "text": []
        },
        {
          "output_type": "stream",
          "name": "stdout",
          "text": [
            "  -> Epoch 3/7 done. Loss: 1.7010, Acc: 34.92%\n"
          ]
        },
        {
          "output_type": "stream",
          "name": "stderr",
          "text": []
        },
        {
          "output_type": "stream",
          "name": "stdout",
          "text": [
            "  -> Epoch 4/7 done. Loss: 1.5912, Acc: 39.80%\n"
          ]
        },
        {
          "output_type": "stream",
          "name": "stderr",
          "text": []
        },
        {
          "output_type": "stream",
          "name": "stdout",
          "text": [
            "  -> Epoch 5/7 done. Loss: 1.4902, Acc: 43.60%\n"
          ]
        },
        {
          "output_type": "stream",
          "name": "stderr",
          "text": []
        },
        {
          "output_type": "stream",
          "name": "stdout",
          "text": [
            "  -> Epoch 6/7 done. Loss: 1.4394, Acc: 45.56%\n"
          ]
        },
        {
          "output_type": "stream",
          "name": "stderr",
          "text": []
        },
        {
          "output_type": "stream",
          "name": "stdout",
          "text": [
            "  -> Epoch 7/7 done. Loss: 1.3852, Acc: 48.88%\n",
            "Accuracies after Task 7:\n",
            "  Task 0: 0.00%\n",
            "  Task 1: 0.00%\n",
            "  Task 2: 0.00%\n",
            "  Task 3: 0.00%\n",
            "  Task 4: 0.00%\n",
            "  Task 5: 0.00%\n",
            "  Task 6: 0.00%\n",
            "  Task 7: 50.20%\n",
            "\n",
            "Training on Task 8 (classes: [80, 81, 82, 83, 84, 85, 86, 87, 88, 89])...\n"
          ]
        },
        {
          "output_type": "stream",
          "name": "stderr",
          "text": []
        },
        {
          "output_type": "stream",
          "name": "stdout",
          "text": [
            "  -> Epoch 1/7 done. Loss: 5.4709, Acc: 3.34%\n"
          ]
        },
        {
          "output_type": "stream",
          "name": "stderr",
          "text": []
        },
        {
          "output_type": "stream",
          "name": "stdout",
          "text": [
            "  -> Epoch 2/7 done. Loss: 2.3674, Acc: 10.00%\n"
          ]
        },
        {
          "output_type": "stream",
          "name": "stderr",
          "text": []
        },
        {
          "output_type": "stream",
          "name": "stdout",
          "text": [
            "  -> Epoch 3/7 done. Loss: 2.2908, Acc: 11.98%\n"
          ]
        },
        {
          "output_type": "stream",
          "name": "stderr",
          "text": []
        },
        {
          "output_type": "stream",
          "name": "stdout",
          "text": [
            "  -> Epoch 4/7 done. Loss: 2.2263, Acc: 15.94%\n"
          ]
        },
        {
          "output_type": "stream",
          "name": "stderr",
          "text": []
        },
        {
          "output_type": "stream",
          "name": "stdout",
          "text": [
            "  -> Epoch 5/7 done. Loss: 2.1267, Acc: 21.24%\n"
          ]
        },
        {
          "output_type": "stream",
          "name": "stderr",
          "text": []
        },
        {
          "output_type": "stream",
          "name": "stdout",
          "text": [
            "  -> Epoch 6/7 done. Loss: 2.0072, Acc: 25.66%\n"
          ]
        },
        {
          "output_type": "stream",
          "name": "stderr",
          "text": []
        },
        {
          "output_type": "stream",
          "name": "stdout",
          "text": [
            "  -> Epoch 7/7 done. Loss: 1.8821, Acc: 28.10%\n",
            "Accuracies after Task 8:\n",
            "  Task 0: 0.00%\n",
            "  Task 1: 0.00%\n",
            "  Task 2: 0.00%\n",
            "  Task 3: 0.00%\n",
            "  Task 4: 0.00%\n",
            "  Task 5: 0.00%\n",
            "  Task 6: 0.00%\n",
            "  Task 7: 0.00%\n",
            "  Task 8: 34.10%\n",
            "\n",
            "Training on Task 9 (classes: [90, 91, 92, 93, 94, 95, 96, 97, 98, 99])...\n"
          ]
        },
        {
          "output_type": "stream",
          "name": "stderr",
          "text": []
        },
        {
          "output_type": "stream",
          "name": "stdout",
          "text": [
            "  -> Epoch 1/7 done. Loss: 5.0368, Acc: 3.58%\n"
          ]
        },
        {
          "output_type": "stream",
          "name": "stderr",
          "text": []
        },
        {
          "output_type": "stream",
          "name": "stdout",
          "text": [
            "  -> Epoch 2/7 done. Loss: 2.2879, Acc: 12.54%\n"
          ]
        },
        {
          "output_type": "stream",
          "name": "stderr",
          "text": []
        },
        {
          "output_type": "stream",
          "name": "stdout",
          "text": [
            "  -> Epoch 3/7 done. Loss: 2.0161, Acc: 23.00%\n"
          ]
        },
        {
          "output_type": "stream",
          "name": "stderr",
          "text": []
        },
        {
          "output_type": "stream",
          "name": "stdout",
          "text": [
            "  -> Epoch 4/7 done. Loss: 1.8431, Acc: 31.74%\n"
          ]
        },
        {
          "output_type": "stream",
          "name": "stderr",
          "text": []
        },
        {
          "output_type": "stream",
          "name": "stdout",
          "text": [
            "  -> Epoch 5/7 done. Loss: 1.6817, Acc: 38.56%\n"
          ]
        },
        {
          "output_type": "stream",
          "name": "stderr",
          "text": []
        },
        {
          "output_type": "stream",
          "name": "stdout",
          "text": [
            "  -> Epoch 6/7 done. Loss: 1.5504, Acc: 43.84%\n"
          ]
        },
        {
          "output_type": "stream",
          "name": "stderr",
          "text": []
        },
        {
          "output_type": "stream",
          "name": "stdout",
          "text": [
            "  -> Epoch 7/7 done. Loss: 1.4190, Acc: 50.04%\n",
            "Accuracies after Task 9:\n",
            "  Task 0: 0.00%\n",
            "  Task 1: 0.00%\n",
            "  Task 2: 0.00%\n",
            "  Task 3: 0.00%\n",
            "  Task 4: 0.00%\n",
            "  Task 5: 0.00%\n",
            "  Task 6: 0.00%\n",
            "  Task 7: 0.00%\n",
            "  Task 8: 0.00%\n",
            "  Task 9: 49.60%\n",
            "\n",
            "=== Sequential Training Results ===\n",
            "\n",
            "Task 0 (classes: [0, 1, 2, 3, 4, 5, 6, 7, 8, 9]):\n",
            "  Performance over time (mean ± std):\n",
            "    After Task 0: 55.40% ± 0.00%\n",
            "    After Task 1: 0.00% ± 0.00%\n",
            "    After Task 2: 0.00% ± 0.00%\n",
            "    After Task 3: 0.00% ± 0.00%\n",
            "    After Task 4: 0.00% ± 0.00%\n",
            "    After Task 5: 0.00% ± 0.00%\n",
            "    After Task 6: 0.00% ± 0.00%\n",
            "    After Task 7: 0.00% ± 0.00%\n",
            "    After Task 8: 0.00% ± 0.00%\n",
            "    After Task 9: 0.00% ± 0.00%\n",
            "\n",
            "  Per-class final performance:\n",
            "    Class 0 (apple): 82.00% ± 0.00%\n",
            "    Class 1 (aquarium_fish): 79.00% ± 0.00%\n",
            "    Class 2 (baby): 33.00% ± 0.00%\n",
            "    Class 3 (bear): 8.00% ± 0.00%\n",
            "    Class 4 (beaver): 85.00% ± 0.00%\n",
            "    Class 5 (bed): 71.00% ± 0.00%\n",
            "    Class 6 (bee): 41.00% ± 0.00%\n",
            "    Class 7 (beetle): 55.00% ± 0.00%\n",
            "    Class 8 (bicycle): 64.00% ± 0.00%\n",
            "    Class 9 (bottle): 36.00% ± 0.00%\n",
            "\n",
            "Task 1 (classes: [10, 11, 12, 13, 14, 15, 16, 17, 18, 19]):\n",
            "  Performance over time (mean ± std):\n",
            "    After Task 1: 44.90% ± 0.00%\n",
            "    After Task 2: 0.00% ± 0.00%\n",
            "    After Task 3: 0.00% ± 0.00%\n",
            "    After Task 4: 0.00% ± 0.00%\n",
            "    After Task 5: 0.00% ± 0.00%\n",
            "    After Task 6: 0.00% ± 0.00%\n",
            "    After Task 7: 0.00% ± 0.00%\n",
            "    After Task 8: 0.00% ± 0.00%\n",
            "    After Task 9: 0.00% ± 0.00%\n",
            "\n",
            "  Per-class final performance:\n",
            "    Class 10 (bowl): 3.00% ± 0.00%\n",
            "    Class 11 (boy): 48.00% ± 0.00%\n",
            "    Class 12 (bridge): 52.00% ± 0.00%\n",
            "    Class 13 (bus): 57.00% ± 0.00%\n",
            "    Class 14 (butterfly): 54.00% ± 0.00%\n",
            "    Class 15 (camel): 39.00% ± 0.00%\n",
            "    Class 16 (can): 51.00% ± 0.00%\n",
            "    Class 17 (castle): 64.00% ± 0.00%\n",
            "    Class 18 (caterpillar): 67.00% ± 0.00%\n",
            "    Class 19 (cattle): 14.00% ± 0.00%\n",
            "\n",
            "Task 2 (classes: [20, 21, 22, 23, 24, 25, 26, 27, 28, 29]):\n",
            "  Performance over time (mean ± std):\n",
            "    After Task 2: 60.10% ± 0.00%\n",
            "    After Task 3: 0.00% ± 0.00%\n",
            "    After Task 4: 0.00% ± 0.00%\n",
            "    After Task 5: 0.00% ± 0.00%\n",
            "    After Task 6: 0.00% ± 0.00%\n",
            "    After Task 7: 0.00% ± 0.00%\n",
            "    After Task 8: 0.00% ± 0.00%\n",
            "    After Task 9: 0.00% ± 0.00%\n",
            "\n",
            "  Per-class final performance:\n",
            "    Class 20 (chair): 67.00% ± 0.00%\n",
            "    Class 21 (chimpanzee): 73.00% ± 0.00%\n",
            "    Class 22 (clock): 41.00% ± 0.00%\n",
            "    Class 23 (cloud): 76.00% ± 0.00%\n",
            "    Class 24 (cockroach): 72.00% ± 0.00%\n",
            "    Class 25 (couch): 28.00% ± 0.00%\n",
            "    Class 26 (crab): 69.00% ± 0.00%\n",
            "    Class 27 (crocodile): 53.00% ± 0.00%\n",
            "    Class 28 (cup): 65.00% ± 0.00%\n",
            "    Class 29 (dinosaur): 57.00% ± 0.00%\n",
            "\n",
            "Task 3 (classes: [30, 31, 32, 33, 34, 35, 36, 37, 38, 39]):\n",
            "  Performance over time (mean ± std):\n",
            "    After Task 3: 52.40% ± 0.00%\n",
            "    After Task 4: 0.00% ± 0.00%\n",
            "    After Task 5: 0.00% ± 0.00%\n",
            "    After Task 6: 0.00% ± 0.00%\n",
            "    After Task 7: 0.00% ± 0.00%\n",
            "    After Task 8: 0.00% ± 0.00%\n",
            "    After Task 9: 0.00% ± 0.00%\n",
            "\n",
            "  Per-class final performance:\n",
            "    Class 30 (dolphin): 86.00% ± 0.00%\n",
            "    Class 31 (elephant): 38.00% ± 0.00%\n",
            "    Class 32 (flatfish): 42.00% ± 0.00%\n",
            "    Class 33 (forest): 68.00% ± 0.00%\n",
            "    Class 34 (fox): 48.00% ± 0.00%\n",
            "    Class 35 (girl): 57.00% ± 0.00%\n",
            "    Class 36 (hamster): 42.00% ± 0.00%\n",
            "    Class 37 (house): 65.00% ± 0.00%\n",
            "    Class 38 (kangaroo): 26.00% ± 0.00%\n",
            "    Class 39 (keyboard): 52.00% ± 0.00%\n",
            "\n",
            "Task 4 (classes: [40, 41, 42, 43, 44, 45, 46, 47, 48, 49]):\n",
            "  Performance over time (mean ± std):\n",
            "    After Task 4: 39.10% ± 0.00%\n",
            "    After Task 5: 0.00% ± 0.00%\n",
            "    After Task 6: 0.00% ± 0.00%\n",
            "    After Task 7: 0.00% ± 0.00%\n",
            "    After Task 8: 0.00% ± 0.00%\n",
            "    After Task 9: 0.00% ± 0.00%\n",
            "\n",
            "  Per-class final performance:\n",
            "    Class 40 (lamp): 22.00% ± 0.00%\n",
            "    Class 41 (lawn_mower): 43.00% ± 0.00%\n",
            "    Class 42 (leopard): 1.00% ± 0.00%\n",
            "    Class 43 (lion): 55.00% ± 0.00%\n",
            "    Class 44 (lizard): 2.00% ± 0.00%\n",
            "    Class 45 (lobster): 30.00% ± 0.00%\n",
            "    Class 46 (man): 11.00% ± 0.00%\n",
            "    Class 47 (maple_tree): 82.00% ± 0.00%\n",
            "    Class 48 (motorcycle): 61.00% ± 0.00%\n",
            "    Class 49 (mountain): 84.00% ± 0.00%\n",
            "\n",
            "Task 5 (classes: [50, 51, 52, 53, 54, 55, 56, 57, 58, 59]):\n",
            "  Performance over time (mean ± std):\n",
            "    After Task 5: 53.40% ± 0.00%\n",
            "    After Task 6: 0.00% ± 0.00%\n",
            "    After Task 7: 0.00% ± 0.00%\n",
            "    After Task 8: 0.00% ± 0.00%\n",
            "    After Task 9: 0.00% ± 0.00%\n",
            "\n",
            "  Per-class final performance:\n",
            "    Class 50 (mouse): 27.00% ± 0.00%\n",
            "    Class 51 (mushroom): 65.00% ± 0.00%\n",
            "    Class 52 (oak_tree): 57.00% ± 0.00%\n",
            "    Class 53 (orange): 92.00% ± 0.00%\n",
            "    Class 54 (orchid): 54.00% ± 0.00%\n",
            "    Class 55 (otter): 38.00% ± 0.00%\n",
            "    Class 56 (palm_tree): 62.00% ± 0.00%\n",
            "    Class 57 (pear): 58.00% ± 0.00%\n",
            "    Class 58 (pickup_truck): 57.00% ± 0.00%\n",
            "    Class 59 (pine_tree): 24.00% ± 0.00%\n",
            "\n",
            "Task 6 (classes: [60, 61, 62, 63, 64, 65, 66, 67, 68, 69]):\n",
            "  Performance over time (mean ± std):\n",
            "    After Task 6: 53.20% ± 0.00%\n",
            "    After Task 7: 0.00% ± 0.00%\n",
            "    After Task 8: 0.00% ± 0.00%\n",
            "    After Task 9: 0.00% ± 0.00%\n",
            "\n",
            "  Per-class final performance:\n",
            "    Class 60 (plain): 79.00% ± 0.00%\n",
            "    Class 61 (plate): 68.00% ± 0.00%\n",
            "    Class 62 (poppy): 83.00% ± 0.00%\n",
            "    Class 63 (porcupine): 41.00% ± 0.00%\n",
            "    Class 64 (possum): 39.00% ± 0.00%\n",
            "    Class 65 (rabbit): 10.00% ± 0.00%\n",
            "    Class 66 (raccoon): 45.00% ± 0.00%\n",
            "    Class 67 (ray): 50.00% ± 0.00%\n",
            "    Class 68 (road): 59.00% ± 0.00%\n",
            "    Class 69 (rocket): 58.00% ± 0.00%\n",
            "\n",
            "Task 7 (classes: [70, 71, 72, 73, 74, 75, 76, 77, 78, 79]):\n",
            "  Performance over time (mean ± std):\n",
            "    After Task 7: 50.20% ± 0.00%\n",
            "    After Task 8: 0.00% ± 0.00%\n",
            "    After Task 9: 0.00% ± 0.00%\n",
            "\n",
            "  Per-class final performance:\n",
            "    Class 70 (rose): 92.00% ± 0.00%\n",
            "    Class 71 (sea): 50.00% ± 0.00%\n",
            "    Class 72 (seal): 29.00% ± 0.00%\n",
            "    Class 73 (shark): 73.00% ± 0.00%\n",
            "    Class 74 (shrew): 25.00% ± 0.00%\n",
            "    Class 75 (skunk): 80.00% ± 0.00%\n",
            "    Class 76 (skyscraper): 78.00% ± 0.00%\n",
            "    Class 77 (snail): 41.00% ± 0.00%\n",
            "    Class 78 (snake): 31.00% ± 0.00%\n",
            "    Class 79 (spider): 3.00% ± 0.00%\n",
            "\n",
            "Task 8 (classes: [80, 81, 82, 83, 84, 85, 86, 87, 88, 89]):\n",
            "  Performance over time (mean ± std):\n",
            "    After Task 8: 34.10% ± 0.00%\n",
            "    After Task 9: 0.00% ± 0.00%\n",
            "\n",
            "  Per-class final performance:\n",
            "    Class 80 (squirrel): 0.00% ± 0.00%\n",
            "    Class 81 (streetcar): 13.00% ± 0.00%\n",
            "    Class 82 (sunflower): 59.00% ± 0.00%\n",
            "    Class 83 (sweet_pepper): 34.00% ± 0.00%\n",
            "    Class 84 (table): 18.00% ± 0.00%\n",
            "    Class 85 (tank): 45.00% ± 0.00%\n",
            "    Class 86 (telephone): 58.00% ± 0.00%\n",
            "    Class 87 (television): 27.00% ± 0.00%\n",
            "    Class 88 (tiger): 40.00% ± 0.00%\n",
            "    Class 89 (tractor): 47.00% ± 0.00%\n",
            "\n",
            "Task 9 (classes: [90, 91, 92, 93, 94, 95, 96, 97, 98, 99]):\n",
            "  Performance over time (mean ± std):\n",
            "    After Task 9: 49.60% ± 0.00%\n",
            "\n",
            "  Per-class final performance:\n",
            "    Class 90 (train): 74.00% ± 0.00%\n",
            "    Class 91 (trout): 66.00% ± 0.00%\n",
            "    Class 92 (tulip): 60.00% ± 0.00%\n",
            "    Class 93 (turtle): 0.00% ± 0.00%\n",
            "    Class 94 (wardrobe): 67.00% ± 0.00%\n",
            "    Class 95 (whale): 70.00% ± 0.00%\n",
            "    Class 96 (willow_tree): 64.00% ± 0.00%\n",
            "    Class 97 (wolf): 38.00% ± 0.00%\n",
            "    Class 98 (woman): 31.00% ± 0.00%\n",
            "    Class 99 (worm): 26.00% ± 0.00%\n"
          ]
        }
      ]
    },
    {
      "cell_type": "code",
      "source": [
        "# Cell 4: Run Enhanced Probing Analysis\n",
        "# Run once to get results:\n",
        "probe_results, per_class_results = analyze_probing(results, tasks, freeze_points, num_seeds)\n",
        "\n"
      ],
      "metadata": {
        "colab": {
          "base_uri": "https://localhost:8080/"
        },
        "id": "yor86x_Hx4_-",
        "outputId": "3acb8df3-e4bc-4056-9a08-e0affda4e53e"
      },
      "execution_count": 42,
      "outputs": [
        {
          "output_type": "stream",
          "name": "stdout",
          "text": [
            "\n",
            "=== Probing Analysis on Final Models ===\n",
            "\n",
            "*** Probing for Seed 0 ***\n",
            "Probing with freeze_up_to_layer = conv1\n"
          ]
        },
        {
          "output_type": "stream",
          "name": "stderr",
          "text": []
        },
        {
          "output_type": "stream",
          "name": "stdout",
          "text": [
            "  -> Epoch 1/7 done. Loss: 3.9863, Acc: 8.62%\n"
          ]
        },
        {
          "output_type": "stream",
          "name": "stderr",
          "text": []
        },
        {
          "output_type": "stream",
          "name": "stdout",
          "text": [
            "  -> Epoch 2/7 done. Loss: 3.2933, Acc: 19.44%\n"
          ]
        },
        {
          "output_type": "stream",
          "name": "stderr",
          "text": []
        },
        {
          "output_type": "stream",
          "name": "stdout",
          "text": [
            "  -> Epoch 3/7 done. Loss: 2.8642, Acc: 27.59%\n"
          ]
        },
        {
          "output_type": "stream",
          "name": "stderr",
          "text": []
        },
        {
          "output_type": "stream",
          "name": "stdout",
          "text": [
            "  -> Epoch 4/7 done. Loss: 2.5610, Acc: 33.88%\n"
          ]
        },
        {
          "output_type": "stream",
          "name": "stderr",
          "text": []
        },
        {
          "output_type": "stream",
          "name": "stdout",
          "text": [
            "  -> Epoch 5/7 done. Loss: 2.3248, Acc: 38.93%\n"
          ]
        },
        {
          "output_type": "stream",
          "name": "stderr",
          "text": []
        },
        {
          "output_type": "stream",
          "name": "stdout",
          "text": [
            "  -> Epoch 6/7 done. Loss: 2.1266, Acc: 43.22%\n"
          ]
        },
        {
          "output_type": "stream",
          "name": "stderr",
          "text": []
        },
        {
          "output_type": "stream",
          "name": "stdout",
          "text": [
            "  -> Epoch 7/7 done. Loss: 1.9392, Acc: 47.53%\n",
            "Evaluating probed model (Overall + Per-Class):\n",
            "Overall Accuracy: 38.86%\n",
            "  Class 0 (apple): 69.00%\n",
            "  Class 1 (aquarium_fish): 58.00%\n",
            "  Class 2 (baby): 38.00%\n",
            "  Class 3 (bear): 22.00%\n",
            "  Class 4 (beaver): 19.00%\n",
            "  Class 5 (bed): 48.00%\n",
            "  Class 6 (bee): 46.00%\n",
            "  Class 7 (beetle): 34.00%\n",
            "  Class 8 (bicycle): 47.00%\n",
            "  Class 9 (bottle): 47.00%\n",
            "  Class 10 (bowl): 27.00%\n",
            "  Class 11 (boy): 16.00%\n",
            "  Class 12 (bridge): 34.00%\n",
            "  Class 13 (bus): 26.00%\n",
            "  Class 14 (butterfly): 21.00%\n",
            "  Class 15 (camel): 23.00%\n",
            "  Class 16 (can): 37.00%\n",
            "  Class 17 (castle): 62.00%\n",
            "  Class 18 (caterpillar): 31.00%\n",
            "  Class 19 (cattle): 24.00%\n",
            "  Class 20 (chair): 72.00%\n",
            "  Class 21 (chimpanzee): 49.00%\n",
            "  Class 22 (clock): 30.00%\n",
            "  Class 23 (cloud): 57.00%\n",
            "  Class 24 (cockroach): 69.00%\n",
            "  Class 25 (couch): 24.00%\n",
            "  Class 26 (crab): 26.00%\n",
            "  Class 27 (crocodile): 29.00%\n",
            "  Class 28 (cup): 59.00%\n",
            "  Class 29 (dinosaur): 32.00%\n",
            "  Class 30 (dolphin): 19.00%\n",
            "  Class 31 (elephant): 38.00%\n",
            "  Class 32 (flatfish): 33.00%\n",
            "  Class 33 (forest): 34.00%\n",
            "  Class 34 (fox): 31.00%\n",
            "  Class 35 (girl): 21.00%\n",
            "  Class 36 (hamster): 49.00%\n",
            "  Class 37 (house): 37.00%\n",
            "  Class 38 (kangaroo): 39.00%\n",
            "  Class 39 (keyboard): 33.00%\n",
            "  Class 40 (lamp): 33.00%\n",
            "  Class 41 (lawn_mower): 56.00%\n",
            "  Class 42 (leopard): 40.00%\n",
            "  Class 43 (lion): 36.00%\n",
            "  Class 44 (lizard): 21.00%\n",
            "  Class 45 (lobster): 21.00%\n",
            "  Class 46 (man): 30.00%\n",
            "  Class 47 (maple_tree): 55.00%\n",
            "  Class 48 (motorcycle): 79.00%\n",
            "  Class 49 (mountain): 41.00%\n",
            "  Class 50 (mouse): 10.00%\n",
            "  Class 51 (mushroom): 41.00%\n",
            "  Class 52 (oak_tree): 64.00%\n",
            "  Class 53 (orange): 61.00%\n",
            "  Class 54 (orchid): 42.00%\n",
            "  Class 55 (otter): 3.00%\n",
            "  Class 56 (palm_tree): 62.00%\n",
            "  Class 57 (pear): 50.00%\n",
            "  Class 58 (pickup_truck): 56.00%\n",
            "  Class 59 (pine_tree): 37.00%\n",
            "  Class 60 (plain): 78.00%\n",
            "  Class 61 (plate): 37.00%\n",
            "  Class 62 (poppy): 40.00%\n",
            "  Class 63 (porcupine): 26.00%\n",
            "  Class 64 (possum): 8.00%\n",
            "  Class 65 (rabbit): 13.00%\n",
            "  Class 66 (raccoon): 29.00%\n",
            "  Class 67 (ray): 42.00%\n",
            "  Class 68 (road): 73.00%\n",
            "  Class 69 (rocket): 51.00%\n",
            "  Class 70 (rose): 41.00%\n",
            "  Class 71 (sea): 54.00%\n",
            "  Class 72 (seal): 17.00%\n",
            "  Class 73 (shark): 49.00%\n",
            "  Class 74 (shrew): 21.00%\n",
            "  Class 75 (skunk): 64.00%\n",
            "  Class 76 (skyscraper): 75.00%\n",
            "  Class 77 (snail): 16.00%\n",
            "  Class 78 (snake): 14.00%\n",
            "  Class 79 (spider): 47.00%\n",
            "  Class 80 (squirrel): 15.00%\n",
            "  Class 81 (streetcar): 39.00%\n",
            "  Class 82 (sunflower): 65.00%\n",
            "  Class 83 (sweet_pepper): 32.00%\n",
            "  Class 84 (table): 23.00%\n",
            "  Class 85 (tank): 54.00%\n",
            "  Class 86 (telephone): 52.00%\n",
            "  Class 87 (television): 40.00%\n",
            "  Class 88 (tiger): 33.00%\n",
            "  Class 89 (tractor): 42.00%\n",
            "  Class 90 (train): 31.00%\n",
            "  Class 91 (trout): 41.00%\n",
            "  Class 92 (tulip): 30.00%\n",
            "  Class 93 (turtle): 24.00%\n",
            "  Class 94 (wardrobe): 68.00%\n",
            "  Class 95 (whale): 48.00%\n",
            "  Class 96 (willow_tree): 26.00%\n",
            "  Class 97 (wolf): 40.00%\n",
            "  Class 98 (woman): 21.00%\n",
            "  Class 99 (worm): 19.00%\n",
            "  Overall accuracy: 38.86% ± 0.00%\n",
            "Probing with freeze_up_to_layer = conv2\n"
          ]
        },
        {
          "output_type": "stream",
          "name": "stderr",
          "text": []
        },
        {
          "output_type": "stream",
          "name": "stdout",
          "text": [
            "  -> Epoch 1/7 done. Loss: 3.8749, Acc: 10.60%\n"
          ]
        },
        {
          "output_type": "stream",
          "name": "stderr",
          "text": []
        },
        {
          "output_type": "stream",
          "name": "stdout",
          "text": [
            "  -> Epoch 2/7 done. Loss: 3.2360, Acc: 20.78%\n"
          ]
        },
        {
          "output_type": "stream",
          "name": "stderr",
          "text": []
        },
        {
          "output_type": "stream",
          "name": "stdout",
          "text": [
            "  -> Epoch 3/7 done. Loss: 2.9318, Acc: 26.72%\n"
          ]
        },
        {
          "output_type": "stream",
          "name": "stderr",
          "text": []
        },
        {
          "output_type": "stream",
          "name": "stdout",
          "text": [
            "  -> Epoch 4/7 done. Loss: 2.7185, Acc: 30.71%\n"
          ]
        },
        {
          "output_type": "stream",
          "name": "stderr",
          "text": []
        },
        {
          "output_type": "stream",
          "name": "stdout",
          "text": [
            "  -> Epoch 5/7 done. Loss: 2.5394, Acc: 34.44%\n"
          ]
        },
        {
          "output_type": "stream",
          "name": "stderr",
          "text": []
        },
        {
          "output_type": "stream",
          "name": "stdout",
          "text": [
            "  -> Epoch 6/7 done. Loss: 2.3814, Acc: 37.89%\n"
          ]
        },
        {
          "output_type": "stream",
          "name": "stderr",
          "text": []
        },
        {
          "output_type": "stream",
          "name": "stdout",
          "text": [
            "  -> Epoch 7/7 done. Loss: 2.2284, Acc: 40.85%\n",
            "Evaluating probed model (Overall + Per-Class):\n",
            "Overall Accuracy: 33.37%\n",
            "  Class 0 (apple): 68.00%\n",
            "  Class 1 (aquarium_fish): 48.00%\n",
            "  Class 2 (baby): 15.00%\n",
            "  Class 3 (bear): 15.00%\n",
            "  Class 4 (beaver): 13.00%\n",
            "  Class 5 (bed): 33.00%\n",
            "  Class 6 (bee): 27.00%\n",
            "  Class 7 (beetle): 13.00%\n",
            "  Class 8 (bicycle): 47.00%\n",
            "  Class 9 (bottle): 47.00%\n",
            "  Class 10 (bowl): 17.00%\n",
            "  Class 11 (boy): 23.00%\n",
            "  Class 12 (bridge): 33.00%\n",
            "  Class 13 (bus): 23.00%\n",
            "  Class 14 (butterfly): 17.00%\n",
            "  Class 15 (camel): 25.00%\n",
            "  Class 16 (can): 25.00%\n",
            "  Class 17 (castle): 70.00%\n",
            "  Class 18 (caterpillar): 28.00%\n",
            "  Class 19 (cattle): 27.00%\n",
            "  Class 20 (chair): 67.00%\n",
            "  Class 21 (chimpanzee): 47.00%\n",
            "  Class 22 (clock): 21.00%\n",
            "  Class 23 (cloud): 53.00%\n",
            "  Class 24 (cockroach): 61.00%\n",
            "  Class 25 (couch): 20.00%\n",
            "  Class 26 (crab): 27.00%\n",
            "  Class 27 (crocodile): 33.00%\n",
            "  Class 28 (cup): 51.00%\n",
            "  Class 29 (dinosaur): 35.00%\n",
            "  Class 30 (dolphin): 42.00%\n",
            "  Class 31 (elephant): 39.00%\n",
            "  Class 32 (flatfish): 23.00%\n",
            "  Class 33 (forest): 61.00%\n",
            "  Class 34 (fox): 19.00%\n",
            "  Class 35 (girl): 31.00%\n",
            "  Class 36 (hamster): 36.00%\n",
            "  Class 37 (house): 31.00%\n",
            "  Class 38 (kangaroo): 8.00%\n",
            "  Class 39 (keyboard): 36.00%\n",
            "  Class 40 (lamp): 27.00%\n",
            "  Class 41 (lawn_mower): 55.00%\n",
            "  Class 42 (leopard): 36.00%\n",
            "  Class 43 (lion): 38.00%\n",
            "  Class 44 (lizard): 10.00%\n",
            "  Class 45 (lobster): 10.00%\n",
            "  Class 46 (man): 22.00%\n",
            "  Class 47 (maple_tree): 53.00%\n",
            "  Class 48 (motorcycle): 52.00%\n",
            "  Class 49 (mountain): 44.00%\n",
            "  Class 50 (mouse): 11.00%\n",
            "  Class 51 (mushroom): 33.00%\n",
            "  Class 52 (oak_tree): 42.00%\n",
            "  Class 53 (orange): 66.00%\n",
            "  Class 54 (orchid): 31.00%\n",
            "  Class 55 (otter): 1.00%\n",
            "  Class 56 (palm_tree): 52.00%\n",
            "  Class 57 (pear): 31.00%\n",
            "  Class 58 (pickup_truck): 41.00%\n",
            "  Class 59 (pine_tree): 34.00%\n",
            "  Class 60 (plain): 60.00%\n",
            "  Class 61 (plate): 45.00%\n",
            "  Class 62 (poppy): 53.00%\n",
            "  Class 63 (porcupine): 43.00%\n",
            "  Class 64 (possum): 12.00%\n",
            "  Class 65 (rabbit): 16.00%\n",
            "  Class 66 (raccoon): 30.00%\n",
            "  Class 67 (ray): 37.00%\n",
            "  Class 68 (road): 70.00%\n",
            "  Class 69 (rocket): 49.00%\n",
            "  Class 70 (rose): 28.00%\n",
            "  Class 71 (sea): 37.00%\n",
            "  Class 72 (seal): 7.00%\n",
            "  Class 73 (shark): 24.00%\n",
            "  Class 74 (shrew): 20.00%\n",
            "  Class 75 (skunk): 52.00%\n",
            "  Class 76 (skyscraper): 63.00%\n",
            "  Class 77 (snail): 14.00%\n",
            "  Class 78 (snake): 10.00%\n",
            "  Class 79 (spider): 24.00%\n",
            "  Class 80 (squirrel): 14.00%\n",
            "  Class 81 (streetcar): 48.00%\n",
            "  Class 82 (sunflower): 51.00%\n",
            "  Class 83 (sweet_pepper): 19.00%\n",
            "  Class 84 (table): 17.00%\n",
            "  Class 85 (tank): 48.00%\n",
            "  Class 86 (telephone): 34.00%\n",
            "  Class 87 (television): 39.00%\n",
            "  Class 88 (tiger): 22.00%\n",
            "  Class 89 (tractor): 42.00%\n",
            "  Class 90 (train): 22.00%\n",
            "  Class 91 (trout): 48.00%\n",
            "  Class 92 (tulip): 17.00%\n",
            "  Class 93 (turtle): 15.00%\n",
            "  Class 94 (wardrobe): 67.00%\n",
            "  Class 95 (whale): 29.00%\n",
            "  Class 96 (willow_tree): 18.00%\n",
            "  Class 97 (wolf): 31.00%\n",
            "  Class 98 (woman): 4.00%\n",
            "  Class 99 (worm): 14.00%\n",
            "  Overall accuracy: 33.37% ± 0.00%\n",
            "Probing with freeze_up_to_layer = conv3\n"
          ]
        },
        {
          "output_type": "stream",
          "name": "stderr",
          "text": []
        },
        {
          "output_type": "stream",
          "name": "stdout",
          "text": [
            "  -> Epoch 1/7 done. Loss: 3.9351, Acc: 9.89%\n"
          ]
        },
        {
          "output_type": "stream",
          "name": "stderr",
          "text": []
        },
        {
          "output_type": "stream",
          "name": "stdout",
          "text": [
            "  -> Epoch 2/7 done. Loss: 3.4285, Acc: 17.56%\n"
          ]
        },
        {
          "output_type": "stream",
          "name": "stderr",
          "text": []
        },
        {
          "output_type": "stream",
          "name": "stdout",
          "text": [
            "  -> Epoch 3/7 done. Loss: 3.2205, Acc: 21.23%\n"
          ]
        },
        {
          "output_type": "stream",
          "name": "stderr",
          "text": []
        },
        {
          "output_type": "stream",
          "name": "stdout",
          "text": [
            "  -> Epoch 4/7 done. Loss: 3.0924, Acc: 23.63%\n"
          ]
        },
        {
          "output_type": "stream",
          "name": "stderr",
          "text": []
        },
        {
          "output_type": "stream",
          "name": "stdout",
          "text": [
            "  -> Epoch 5/7 done. Loss: 2.9969, Acc: 25.40%\n"
          ]
        },
        {
          "output_type": "stream",
          "name": "stderr",
          "text": []
        },
        {
          "output_type": "stream",
          "name": "stdout",
          "text": [
            "  -> Epoch 6/7 done. Loss: 2.9146, Acc: 27.18%\n"
          ]
        },
        {
          "output_type": "stream",
          "name": "stderr",
          "text": []
        },
        {
          "output_type": "stream",
          "name": "stdout",
          "text": [
            "  -> Epoch 7/7 done. Loss: 2.8567, Acc: 28.23%\n",
            "Evaluating probed model (Overall + Per-Class):\n",
            "Overall Accuracy: 25.92%\n",
            "  Class 0 (apple): 62.00%\n",
            "  Class 1 (aquarium_fish): 29.00%\n",
            "  Class 2 (baby): 6.00%\n",
            "  Class 3 (bear): 12.00%\n",
            "  Class 4 (beaver): 15.00%\n",
            "  Class 5 (bed): 19.00%\n",
            "  Class 6 (bee): 26.00%\n",
            "  Class 7 (beetle): 20.00%\n",
            "  Class 8 (bicycle): 24.00%\n",
            "  Class 9 (bottle): 35.00%\n",
            "  Class 10 (bowl): 1.00%\n",
            "  Class 11 (boy): 17.00%\n",
            "  Class 12 (bridge): 7.00%\n",
            "  Class 13 (bus): 23.00%\n",
            "  Class 14 (butterfly): 13.00%\n",
            "  Class 15 (camel): 19.00%\n",
            "  Class 16 (can): 19.00%\n",
            "  Class 17 (castle): 45.00%\n",
            "  Class 18 (caterpillar): 16.00%\n",
            "  Class 19 (cattle): 16.00%\n",
            "  Class 20 (chair): 53.00%\n",
            "  Class 21 (chimpanzee): 34.00%\n",
            "  Class 22 (clock): 15.00%\n",
            "  Class 23 (cloud): 21.00%\n",
            "  Class 24 (cockroach): 67.00%\n",
            "  Class 25 (couch): 14.00%\n",
            "  Class 26 (crab): 5.00%\n",
            "  Class 27 (crocodile): 27.00%\n",
            "  Class 28 (cup): 38.00%\n",
            "  Class 29 (dinosaur): 28.00%\n",
            "  Class 30 (dolphin): 19.00%\n",
            "  Class 31 (elephant): 24.00%\n",
            "  Class 32 (flatfish): 19.00%\n",
            "  Class 33 (forest): 28.00%\n",
            "  Class 34 (fox): 14.00%\n",
            "  Class 35 (girl): 14.00%\n",
            "  Class 36 (hamster): 42.00%\n",
            "  Class 37 (house): 20.00%\n",
            "  Class 38 (kangaroo): 3.00%\n",
            "  Class 39 (keyboard): 21.00%\n",
            "  Class 40 (lamp): 8.00%\n",
            "  Class 41 (lawn_mower): 47.00%\n",
            "  Class 42 (leopard): 44.00%\n",
            "  Class 43 (lion): 36.00%\n",
            "  Class 44 (lizard): 8.00%\n",
            "  Class 45 (lobster): 5.00%\n",
            "  Class 46 (man): 27.00%\n",
            "  Class 47 (maple_tree): 42.00%\n",
            "  Class 48 (motorcycle): 45.00%\n",
            "  Class 49 (mountain): 14.00%\n",
            "  Class 50 (mouse): 8.00%\n",
            "  Class 51 (mushroom): 13.00%\n",
            "  Class 52 (oak_tree): 77.00%\n",
            "  Class 53 (orange): 70.00%\n",
            "  Class 54 (orchid): 34.00%\n",
            "  Class 55 (otter): 1.00%\n",
            "  Class 56 (palm_tree): 42.00%\n",
            "  Class 57 (pear): 23.00%\n",
            "  Class 58 (pickup_truck): 25.00%\n",
            "  Class 59 (pine_tree): 10.00%\n",
            "  Class 60 (plain): 76.00%\n",
            "  Class 61 (plate): 31.00%\n",
            "  Class 62 (poppy): 35.00%\n",
            "  Class 63 (porcupine): 45.00%\n",
            "  Class 64 (possum): 9.00%\n",
            "  Class 65 (rabbit): 3.00%\n",
            "  Class 66 (raccoon): 8.00%\n",
            "  Class 67 (ray): 30.00%\n",
            "  Class 68 (road): 48.00%\n",
            "  Class 69 (rocket): 40.00%\n",
            "  Class 70 (rose): 45.00%\n",
            "  Class 71 (sea): 40.00%\n",
            "  Class 72 (seal): 4.00%\n",
            "  Class 73 (shark): 34.00%\n",
            "  Class 74 (shrew): 20.00%\n",
            "  Class 75 (skunk): 48.00%\n",
            "  Class 76 (skyscraper): 47.00%\n",
            "  Class 77 (snail): 5.00%\n",
            "  Class 78 (snake): 11.00%\n",
            "  Class 79 (spider): 30.00%\n",
            "  Class 80 (squirrel): 7.00%\n",
            "  Class 81 (streetcar): 21.00%\n",
            "  Class 82 (sunflower): 61.00%\n",
            "  Class 83 (sweet_pepper): 23.00%\n",
            "  Class 84 (table): 4.00%\n",
            "  Class 85 (tank): 45.00%\n",
            "  Class 86 (telephone): 23.00%\n",
            "  Class 87 (television): 40.00%\n",
            "  Class 88 (tiger): 17.00%\n",
            "  Class 89 (tractor): 26.00%\n",
            "  Class 90 (train): 10.00%\n",
            "  Class 91 (trout): 36.00%\n",
            "  Class 92 (tulip): 4.00%\n",
            "  Class 93 (turtle): 10.00%\n",
            "  Class 94 (wardrobe): 60.00%\n",
            "  Class 95 (whale): 40.00%\n",
            "  Class 96 (willow_tree): 13.00%\n",
            "  Class 97 (wolf): 18.00%\n",
            "  Class 98 (woman): 9.00%\n",
            "  Class 99 (worm): 7.00%\n",
            "  Overall accuracy: 25.92% ± 0.00%\n",
            "Probing with freeze_up_to_layer = fc1\n"
          ]
        },
        {
          "output_type": "stream",
          "name": "stderr",
          "text": []
        },
        {
          "output_type": "stream",
          "name": "stdout",
          "text": [
            "  -> Epoch 1/7 done. Loss: 3.9796, Acc: 9.08%\n"
          ]
        },
        {
          "output_type": "stream",
          "name": "stderr",
          "text": []
        },
        {
          "output_type": "stream",
          "name": "stdout",
          "text": [
            "  -> Epoch 2/7 done. Loss: 3.6486, Acc: 13.72%\n"
          ]
        },
        {
          "output_type": "stream",
          "name": "stderr",
          "text": []
        },
        {
          "output_type": "stream",
          "name": "stdout",
          "text": [
            "  -> Epoch 3/7 done. Loss: 3.5399, Acc: 15.54%\n"
          ]
        },
        {
          "output_type": "stream",
          "name": "stderr",
          "text": []
        },
        {
          "output_type": "stream",
          "name": "stdout",
          "text": [
            "  -> Epoch 4/7 done. Loss: 3.4759, Acc: 16.62%\n"
          ]
        },
        {
          "output_type": "stream",
          "name": "stderr",
          "text": []
        },
        {
          "output_type": "stream",
          "name": "stdout",
          "text": [
            "  -> Epoch 5/7 done. Loss: 3.4302, Acc: 17.57%\n"
          ]
        },
        {
          "output_type": "stream",
          "name": "stderr",
          "text": []
        },
        {
          "output_type": "stream",
          "name": "stdout",
          "text": [
            "  -> Epoch 6/7 done. Loss: 3.3839, Acc: 18.27%\n"
          ]
        },
        {
          "output_type": "stream",
          "name": "stderr",
          "text": []
        },
        {
          "output_type": "stream",
          "name": "stdout",
          "text": [
            "  -> Epoch 7/7 done. Loss: 3.3531, Acc: 18.85%\n",
            "Evaluating probed model (Overall + Per-Class):\n",
            "Overall Accuracy: 18.63%\n",
            "  Class 0 (apple): 27.00%\n",
            "  Class 1 (aquarium_fish): 22.00%\n",
            "  Class 2 (baby): 5.00%\n",
            "  Class 3 (bear): 3.00%\n",
            "  Class 4 (beaver): 9.00%\n",
            "  Class 5 (bed): 7.00%\n",
            "  Class 6 (bee): 16.00%\n",
            "  Class 7 (beetle): 19.00%\n",
            "  Class 8 (bicycle): 22.00%\n",
            "  Class 9 (bottle): 26.00%\n",
            "  Class 10 (bowl): 2.00%\n",
            "  Class 11 (boy): 7.00%\n",
            "  Class 12 (bridge): 8.00%\n",
            "  Class 13 (bus): 13.00%\n",
            "  Class 14 (butterfly): 6.00%\n",
            "  Class 15 (camel): 3.00%\n",
            "  Class 16 (can): 6.00%\n",
            "  Class 17 (castle): 18.00%\n",
            "  Class 18 (caterpillar): 22.00%\n",
            "  Class 19 (cattle): 1.00%\n",
            "  Class 20 (chair): 37.00%\n",
            "  Class 21 (chimpanzee): 34.00%\n",
            "  Class 22 (clock): 12.00%\n",
            "  Class 23 (cloud): 28.00%\n",
            "  Class 24 (cockroach): 45.00%\n",
            "  Class 25 (couch): 4.00%\n",
            "  Class 26 (crab): 6.00%\n",
            "  Class 27 (crocodile): 29.00%\n",
            "  Class 28 (cup): 21.00%\n",
            "  Class 29 (dinosaur): 28.00%\n",
            "  Class 30 (dolphin): 52.00%\n",
            "  Class 31 (elephant): 16.00%\n",
            "  Class 32 (flatfish): 4.00%\n",
            "  Class 33 (forest): 4.00%\n",
            "  Class 34 (fox): 1.00%\n",
            "  Class 35 (girl): 13.00%\n",
            "  Class 36 (hamster): 24.00%\n",
            "  Class 37 (house): 9.00%\n",
            "  Class 38 (kangaroo): 5.00%\n",
            "  Class 39 (keyboard): 32.00%\n",
            "  Class 40 (lamp): 7.00%\n",
            "  Class 41 (lawn_mower): 41.00%\n",
            "  Class 42 (leopard): 29.00%\n",
            "  Class 43 (lion): 15.00%\n",
            "  Class 44 (lizard): 4.00%\n",
            "  Class 45 (lobster): 3.00%\n",
            "  Class 46 (man): 7.00%\n",
            "  Class 47 (maple_tree): 26.00%\n",
            "  Class 48 (motorcycle): 43.00%\n",
            "  Class 49 (mountain): 18.00%\n",
            "  Class 50 (mouse): 4.00%\n",
            "  Class 51 (mushroom): 10.00%\n",
            "  Class 52 (oak_tree): 73.00%\n",
            "  Class 53 (orange): 56.00%\n",
            "  Class 54 (orchid): 26.00%\n",
            "  Class 55 (otter): 0.00%\n",
            "  Class 56 (palm_tree): 29.00%\n",
            "  Class 57 (pear): 16.00%\n",
            "  Class 58 (pickup_truck): 11.00%\n",
            "  Class 59 (pine_tree): 9.00%\n",
            "  Class 60 (plain): 62.00%\n",
            "  Class 61 (plate): 11.00%\n",
            "  Class 62 (poppy): 23.00%\n",
            "  Class 63 (porcupine): 22.00%\n",
            "  Class 64 (possum): 5.00%\n",
            "  Class 65 (rabbit): 5.00%\n",
            "  Class 66 (raccoon): 9.00%\n",
            "  Class 67 (ray): 16.00%\n",
            "  Class 68 (road): 36.00%\n",
            "  Class 69 (rocket): 26.00%\n",
            "  Class 70 (rose): 48.00%\n",
            "  Class 71 (sea): 22.00%\n",
            "  Class 72 (seal): 3.00%\n",
            "  Class 73 (shark): 12.00%\n",
            "  Class 74 (shrew): 13.00%\n",
            "  Class 75 (skunk): 37.00%\n",
            "  Class 76 (skyscraper): 30.00%\n",
            "  Class 77 (snail): 0.00%\n",
            "  Class 78 (snake): 6.00%\n",
            "  Class 79 (spider): 13.00%\n",
            "  Class 80 (squirrel): 11.00%\n",
            "  Class 81 (streetcar): 4.00%\n",
            "  Class 82 (sunflower): 51.00%\n",
            "  Class 83 (sweet_pepper): 16.00%\n",
            "  Class 84 (table): 0.00%\n",
            "  Class 85 (tank): 44.00%\n",
            "  Class 86 (telephone): 26.00%\n",
            "  Class 87 (television): 15.00%\n",
            "  Class 88 (tiger): 22.00%\n",
            "  Class 89 (tractor): 29.00%\n",
            "  Class 90 (train): 1.00%\n",
            "  Class 91 (trout): 35.00%\n",
            "  Class 92 (tulip): 11.00%\n",
            "  Class 93 (turtle): 1.00%\n",
            "  Class 94 (wardrobe): 48.00%\n",
            "  Class 95 (whale): 25.00%\n",
            "  Class 96 (willow_tree): 32.00%\n",
            "  Class 97 (wolf): 7.00%\n",
            "  Class 98 (woman): 4.00%\n",
            "  Class 99 (worm): 9.00%\n",
            "  Overall accuracy: 18.63% ± 0.00%\n",
            "Probing with freeze_up_to_layer = fc2\n"
          ]
        },
        {
          "output_type": "stream",
          "name": "stderr",
          "text": []
        },
        {
          "output_type": "stream",
          "name": "stdout",
          "text": [
            "  -> Epoch 1/7 done. Loss: 4.1435, Acc: 7.28%\n"
          ]
        },
        {
          "output_type": "stream",
          "name": "stderr",
          "text": []
        },
        {
          "output_type": "stream",
          "name": "stdout",
          "text": [
            "  -> Epoch 2/7 done. Loss: 3.8310, Acc: 10.86%\n"
          ]
        },
        {
          "output_type": "stream",
          "name": "stderr",
          "text": []
        },
        {
          "output_type": "stream",
          "name": "stdout",
          "text": [
            "  -> Epoch 3/7 done. Loss: 3.7529, Acc: 12.17%\n"
          ]
        },
        {
          "output_type": "stream",
          "name": "stderr",
          "text": []
        },
        {
          "output_type": "stream",
          "name": "stdout",
          "text": [
            "  -> Epoch 4/7 done. Loss: 3.7104, Acc: 12.64%\n"
          ]
        },
        {
          "output_type": "stream",
          "name": "stderr",
          "text": []
        },
        {
          "output_type": "stream",
          "name": "stdout",
          "text": [
            "  -> Epoch 5/7 done. Loss: 3.6746, Acc: 13.30%\n"
          ]
        },
        {
          "output_type": "stream",
          "name": "stderr",
          "text": []
        },
        {
          "output_type": "stream",
          "name": "stdout",
          "text": [
            "  -> Epoch 6/7 done. Loss: 3.6506, Acc: 13.69%\n"
          ]
        },
        {
          "output_type": "stream",
          "name": "stderr",
          "text": []
        },
        {
          "output_type": "stream",
          "name": "stdout",
          "text": [
            "  -> Epoch 7/7 done. Loss: 3.6262, Acc: 14.15%\n",
            "Evaluating probed model (Overall + Per-Class):\n",
            "Overall Accuracy: 14.31%\n",
            "  Class 0 (apple): 23.00%\n",
            "  Class 1 (aquarium_fish): 25.00%\n",
            "  Class 2 (baby): 0.00%\n",
            "  Class 3 (bear): 6.00%\n",
            "  Class 4 (beaver): 5.00%\n",
            "  Class 5 (bed): 5.00%\n",
            "  Class 6 (bee): 7.00%\n",
            "  Class 7 (beetle): 2.00%\n",
            "  Class 8 (bicycle): 13.00%\n",
            "  Class 9 (bottle): 8.00%\n",
            "  Class 10 (bowl): 0.00%\n",
            "  Class 11 (boy): 10.00%\n",
            "  Class 12 (bridge): 19.00%\n",
            "  Class 13 (bus): 17.00%\n",
            "  Class 14 (butterfly): 3.00%\n",
            "  Class 15 (camel): 6.00%\n",
            "  Class 16 (can): 10.00%\n",
            "  Class 17 (castle): 34.00%\n",
            "  Class 18 (caterpillar): 4.00%\n",
            "  Class 19 (cattle): 3.00%\n",
            "  Class 20 (chair): 36.00%\n",
            "  Class 21 (chimpanzee): 33.00%\n",
            "  Class 22 (clock): 7.00%\n",
            "  Class 23 (cloud): 41.00%\n",
            "  Class 24 (cockroach): 40.00%\n",
            "  Class 25 (couch): 6.00%\n",
            "  Class 26 (crab): 3.00%\n",
            "  Class 27 (crocodile): 6.00%\n",
            "  Class 28 (cup): 4.00%\n",
            "  Class 29 (dinosaur): 8.00%\n",
            "  Class 30 (dolphin): 16.00%\n",
            "  Class 31 (elephant): 13.00%\n",
            "  Class 32 (flatfish): 1.00%\n",
            "  Class 33 (forest): 9.00%\n",
            "  Class 34 (fox): 2.00%\n",
            "  Class 35 (girl): 3.00%\n",
            "  Class 36 (hamster): 33.00%\n",
            "  Class 37 (house): 11.00%\n",
            "  Class 38 (kangaroo): 0.00%\n",
            "  Class 39 (keyboard): 1.00%\n",
            "  Class 40 (lamp): 0.00%\n",
            "  Class 41 (lawn_mower): 33.00%\n",
            "  Class 42 (leopard): 15.00%\n",
            "  Class 43 (lion): 30.00%\n",
            "  Class 44 (lizard): 0.00%\n",
            "  Class 45 (lobster): 1.00%\n",
            "  Class 46 (man): 10.00%\n",
            "  Class 47 (maple_tree): 19.00%\n",
            "  Class 48 (motorcycle): 45.00%\n",
            "  Class 49 (mountain): 25.00%\n",
            "  Class 50 (mouse): 0.00%\n",
            "  Class 51 (mushroom): 3.00%\n",
            "  Class 52 (oak_tree): 79.00%\n",
            "  Class 53 (orange): 38.00%\n",
            "  Class 54 (orchid): 37.00%\n",
            "  Class 55 (otter): 0.00%\n",
            "  Class 56 (palm_tree): 24.00%\n",
            "  Class 57 (pear): 7.00%\n",
            "  Class 58 (pickup_truck): 15.00%\n",
            "  Class 59 (pine_tree): 0.00%\n",
            "  Class 60 (plain): 44.00%\n",
            "  Class 61 (plate): 28.00%\n",
            "  Class 62 (poppy): 22.00%\n",
            "  Class 63 (porcupine): 12.00%\n",
            "  Class 64 (possum): 4.00%\n",
            "  Class 65 (rabbit): 1.00%\n",
            "  Class 66 (raccoon): 7.00%\n",
            "  Class 67 (ray): 0.00%\n",
            "  Class 68 (road): 18.00%\n",
            "  Class 69 (rocket): 1.00%\n",
            "  Class 70 (rose): 22.00%\n",
            "  Class 71 (sea): 6.00%\n",
            "  Class 72 (seal): 0.00%\n",
            "  Class 73 (shark): 18.00%\n",
            "  Class 74 (shrew): 4.00%\n",
            "  Class 75 (skunk): 9.00%\n",
            "  Class 76 (skyscraper): 21.00%\n",
            "  Class 77 (snail): 2.00%\n",
            "  Class 78 (snake): 3.00%\n",
            "  Class 79 (spider): 0.00%\n",
            "  Class 80 (squirrel): 16.00%\n",
            "  Class 81 (streetcar): 2.00%\n",
            "  Class 82 (sunflower): 30.00%\n",
            "  Class 83 (sweet_pepper): 15.00%\n",
            "  Class 84 (table): 0.00%\n",
            "  Class 85 (tank): 35.00%\n",
            "  Class 86 (telephone): 19.00%\n",
            "  Class 87 (television): 3.00%\n",
            "  Class 88 (tiger): 9.00%\n",
            "  Class 89 (tractor): 5.00%\n",
            "  Class 90 (train): 6.00%\n",
            "  Class 91 (trout): 46.00%\n",
            "  Class 92 (tulip): 10.00%\n",
            "  Class 93 (turtle): 1.00%\n",
            "  Class 94 (wardrobe): 44.00%\n",
            "  Class 95 (whale): 43.00%\n",
            "  Class 96 (willow_tree): 17.00%\n",
            "  Class 97 (wolf): 35.00%\n",
            "  Class 98 (woman): 15.00%\n",
            "  Class 99 (worm): 4.00%\n",
            "  Overall accuracy: 14.31% ± 0.00%\n",
            "Probing with freeze_up_to_layer = fc3\n"
          ]
        },
        {
          "output_type": "stream",
          "name": "stderr",
          "text": []
        },
        {
          "output_type": "stream",
          "name": "stdout",
          "text": [
            "  -> Epoch 1/7 done. Loss: 4.7433, Acc: 3.60%\n"
          ]
        },
        {
          "output_type": "stream",
          "name": "stderr",
          "text": []
        },
        {
          "output_type": "stream",
          "name": "stdout",
          "text": [
            "  -> Epoch 2/7 done. Loss: 4.0740, Acc: 7.17%\n"
          ]
        },
        {
          "output_type": "stream",
          "name": "stderr",
          "text": []
        },
        {
          "output_type": "stream",
          "name": "stdout",
          "text": [
            "  -> Epoch 3/7 done. Loss: 4.0004, Acc: 8.26%\n"
          ]
        },
        {
          "output_type": "stream",
          "name": "stderr",
          "text": []
        },
        {
          "output_type": "stream",
          "name": "stdout",
          "text": [
            "  -> Epoch 4/7 done. Loss: 3.9666, Acc: 8.72%\n"
          ]
        },
        {
          "output_type": "stream",
          "name": "stderr",
          "text": []
        },
        {
          "output_type": "stream",
          "name": "stdout",
          "text": [
            "  -> Epoch 5/7 done. Loss: 3.9448, Acc: 9.07%\n"
          ]
        },
        {
          "output_type": "stream",
          "name": "stderr",
          "text": []
        },
        {
          "output_type": "stream",
          "name": "stdout",
          "text": [
            "  -> Epoch 6/7 done. Loss: 3.9311, Acc: 9.23%\n"
          ]
        },
        {
          "output_type": "stream",
          "name": "stderr",
          "text": []
        },
        {
          "output_type": "stream",
          "name": "stdout",
          "text": [
            "  -> Epoch 7/7 done. Loss: 3.9179, Acc: 9.25%\n",
            "Evaluating probed model (Overall + Per-Class):\n",
            "Overall Accuracy: 9.63%\n",
            "  Class 0 (apple): 13.00%\n",
            "  Class 1 (aquarium_fish): 21.00%\n",
            "  Class 2 (baby): 4.00%\n",
            "  Class 3 (bear): 0.00%\n",
            "  Class 4 (beaver): 0.00%\n",
            "  Class 5 (bed): 1.00%\n",
            "  Class 6 (bee): 6.00%\n",
            "  Class 7 (beetle): 0.00%\n",
            "  Class 8 (bicycle): 0.00%\n",
            "  Class 9 (bottle): 10.00%\n",
            "  Class 10 (bowl): 0.00%\n",
            "  Class 11 (boy): 2.00%\n",
            "  Class 12 (bridge): 30.00%\n",
            "  Class 13 (bus): 26.00%\n",
            "  Class 14 (butterfly): 1.00%\n",
            "  Class 15 (camel): 0.00%\n",
            "  Class 16 (can): 0.00%\n",
            "  Class 17 (castle): 7.00%\n",
            "  Class 18 (caterpillar): 0.00%\n",
            "  Class 19 (cattle): 0.00%\n",
            "  Class 20 (chair): 26.00%\n",
            "  Class 21 (chimpanzee): 8.00%\n",
            "  Class 22 (clock): 0.00%\n",
            "  Class 23 (cloud): 4.00%\n",
            "  Class 24 (cockroach): 51.00%\n",
            "  Class 25 (couch): 0.00%\n",
            "  Class 26 (crab): 0.00%\n",
            "  Class 27 (crocodile): 4.00%\n",
            "  Class 28 (cup): 1.00%\n",
            "  Class 29 (dinosaur): 0.00%\n",
            "  Class 30 (dolphin): 0.00%\n",
            "  Class 31 (elephant): 12.00%\n",
            "  Class 32 (flatfish): 1.00%\n",
            "  Class 33 (forest): 13.00%\n",
            "  Class 34 (fox): 0.00%\n",
            "  Class 35 (girl): 0.00%\n",
            "  Class 36 (hamster): 9.00%\n",
            "  Class 37 (house): 0.00%\n",
            "  Class 38 (kangaroo): 0.00%\n",
            "  Class 39 (keyboard): 6.00%\n",
            "  Class 40 (lamp): 0.00%\n",
            "  Class 41 (lawn_mower): 5.00%\n",
            "  Class 42 (leopard): 0.00%\n",
            "  Class 43 (lion): 10.00%\n",
            "  Class 44 (lizard): 0.00%\n",
            "  Class 45 (lobster): 0.00%\n",
            "  Class 46 (man): 12.00%\n",
            "  Class 47 (maple_tree): 9.00%\n",
            "  Class 48 (motorcycle): 4.00%\n",
            "  Class 49 (mountain): 0.00%\n",
            "  Class 50 (mouse): 1.00%\n",
            "  Class 51 (mushroom): 0.00%\n",
            "  Class 52 (oak_tree): 59.00%\n",
            "  Class 53 (orange): 19.00%\n",
            "  Class 54 (orchid): 0.00%\n",
            "  Class 55 (otter): 0.00%\n",
            "  Class 56 (palm_tree): 6.00%\n",
            "  Class 57 (pear): 0.00%\n",
            "  Class 58 (pickup_truck): 1.00%\n",
            "  Class 59 (pine_tree): 6.00%\n",
            "  Class 60 (plain): 62.00%\n",
            "  Class 61 (plate): 26.00%\n",
            "  Class 62 (poppy): 24.00%\n",
            "  Class 63 (porcupine): 14.00%\n",
            "  Class 64 (possum): 4.00%\n",
            "  Class 65 (rabbit): 0.00%\n",
            "  Class 66 (raccoon): 0.00%\n",
            "  Class 67 (ray): 0.00%\n",
            "  Class 68 (road): 3.00%\n",
            "  Class 69 (rocket): 1.00%\n",
            "  Class 70 (rose): 46.00%\n",
            "  Class 71 (sea): 3.00%\n",
            "  Class 72 (seal): 0.00%\n",
            "  Class 73 (shark): 38.00%\n",
            "  Class 74 (shrew): 17.00%\n",
            "  Class 75 (skunk): 36.00%\n",
            "  Class 76 (skyscraper): 6.00%\n",
            "  Class 77 (snail): 0.00%\n",
            "  Class 78 (snake): 0.00%\n",
            "  Class 79 (spider): 0.00%\n",
            "  Class 80 (squirrel): 0.00%\n",
            "  Class 81 (streetcar): 0.00%\n",
            "  Class 82 (sunflower): 36.00%\n",
            "  Class 83 (sweet_pepper): 0.00%\n",
            "  Class 84 (table): 0.00%\n",
            "  Class 85 (tank): 11.00%\n",
            "  Class 86 (telephone): 2.00%\n",
            "  Class 87 (television): 0.00%\n",
            "  Class 88 (tiger): 2.00%\n",
            "  Class 89 (tractor): 6.00%\n",
            "  Class 90 (train): 0.00%\n",
            "  Class 91 (trout): 35.00%\n",
            "  Class 92 (tulip): 21.00%\n",
            "  Class 93 (turtle): 0.00%\n",
            "  Class 94 (wardrobe): 62.00%\n",
            "  Class 95 (whale): 43.00%\n",
            "  Class 96 (willow_tree): 26.00%\n",
            "  Class 97 (wolf): 36.00%\n",
            "  Class 98 (woman): 15.00%\n",
            "  Class 99 (worm): 0.00%\n",
            "  Overall accuracy: 9.63% ± 0.00%\n",
            "\n",
            "Final Probing Results Summary:\n",
            "\n",
            "Freeze point conv1:\n",
            "  Overall accuracy: 38.86% ± 0.00%\n",
            "    Task 0 (Classes 0-9): 42.80% ± 0.00%\n",
            "    Task 1 (Classes 10-19): 30.10% ± 0.00%\n",
            "    Task 2 (Classes 20-29): 44.70% ± 0.00%\n",
            "    Task 3 (Classes 30-39): 33.40% ± 0.00%\n",
            "    Task 4 (Classes 40-49): 41.20% ± 0.00%\n",
            "    Task 5 (Classes 50-59): 42.60% ± 0.00%\n",
            "    Task 6 (Classes 60-69): 39.70% ± 0.00%\n",
            "    Task 7 (Classes 70-79): 39.80% ± 0.00%\n",
            "    Task 8 (Classes 80-89): 39.50% ± 0.00%\n",
            "    Task 9 (Classes 90-99): 34.80% ± 0.00%\n",
            "\n",
            "Freeze point conv2:\n",
            "  Overall accuracy: 33.37% ± 0.00%\n",
            "    Task 0 (Classes 0-9): 32.60% ± 0.00%\n",
            "    Task 1 (Classes 10-19): 28.80% ± 0.00%\n",
            "    Task 2 (Classes 20-29): 41.50% ± 0.00%\n",
            "    Task 3 (Classes 30-39): 32.60% ± 0.00%\n",
            "    Task 4 (Classes 40-49): 34.70% ± 0.00%\n",
            "    Task 5 (Classes 50-59): 34.20% ± 0.00%\n",
            "    Task 6 (Classes 60-69): 41.50% ± 0.00%\n",
            "    Task 7 (Classes 70-79): 27.90% ± 0.00%\n",
            "    Task 8 (Classes 80-89): 33.40% ± 0.00%\n",
            "    Task 9 (Classes 90-99): 26.50% ± 0.00%\n",
            "\n",
            "Freeze point conv3:\n",
            "  Overall accuracy: 25.92% ± 0.00%\n",
            "    Task 0 (Classes 0-9): 24.80% ± 0.00%\n",
            "    Task 1 (Classes 10-19): 17.60% ± 0.00%\n",
            "    Task 2 (Classes 20-29): 30.20% ± 0.00%\n",
            "    Task 3 (Classes 30-39): 20.40% ± 0.00%\n",
            "    Task 4 (Classes 40-49): 27.60% ± 0.00%\n",
            "    Task 5 (Classes 50-59): 30.30% ± 0.00%\n",
            "    Task 6 (Classes 60-69): 32.50% ± 0.00%\n",
            "    Task 7 (Classes 70-79): 28.40% ± 0.00%\n",
            "    Task 8 (Classes 80-89): 26.70% ± 0.00%\n",
            "    Task 9 (Classes 90-99): 20.70% ± 0.00%\n",
            "\n",
            "Freeze point fc1:\n",
            "  Overall accuracy: 18.63% ± 0.00%\n",
            "    Task 0 (Classes 0-9): 15.60% ± 0.00%\n",
            "    Task 1 (Classes 10-19): 8.60% ± 0.00%\n",
            "    Task 2 (Classes 20-29): 24.40% ± 0.00%\n",
            "    Task 3 (Classes 30-39): 16.00% ± 0.00%\n",
            "    Task 4 (Classes 40-49): 19.30% ± 0.00%\n",
            "    Task 5 (Classes 50-59): 23.40% ± 0.00%\n",
            "    Task 6 (Classes 60-69): 21.50% ± 0.00%\n",
            "    Task 7 (Classes 70-79): 18.40% ± 0.00%\n",
            "    Task 8 (Classes 80-89): 21.80% ± 0.00%\n",
            "    Task 9 (Classes 90-99): 17.30% ± 0.00%\n",
            "\n",
            "Freeze point fc2:\n",
            "  Overall accuracy: 14.31% ± 0.00%\n",
            "    Task 0 (Classes 0-9): 9.40% ± 0.00%\n",
            "    Task 1 (Classes 10-19): 10.60% ± 0.00%\n",
            "    Task 2 (Classes 20-29): 18.40% ± 0.00%\n",
            "    Task 3 (Classes 30-39): 8.90% ± 0.00%\n",
            "    Task 4 (Classes 40-49): 17.80% ± 0.00%\n",
            "    Task 5 (Classes 50-59): 20.30% ± 0.00%\n",
            "    Task 6 (Classes 60-69): 13.70% ± 0.00%\n",
            "    Task 7 (Classes 70-79): 8.50% ± 0.00%\n",
            "    Task 8 (Classes 80-89): 13.40% ± 0.00%\n",
            "    Task 9 (Classes 90-99): 22.10% ± 0.00%\n",
            "\n",
            "Freeze point fc3:\n",
            "  Overall accuracy: 9.63% ± 0.00%\n",
            "    Task 0 (Classes 0-9): 5.50% ± 0.00%\n",
            "    Task 1 (Classes 10-19): 6.60% ± 0.00%\n",
            "    Task 2 (Classes 20-29): 9.40% ± 0.00%\n",
            "    Task 3 (Classes 30-39): 4.10% ± 0.00%\n",
            "    Task 4 (Classes 40-49): 4.00% ± 0.00%\n",
            "    Task 5 (Classes 50-59): 9.20% ± 0.00%\n",
            "    Task 6 (Classes 60-69): 13.40% ± 0.00%\n",
            "    Task 7 (Classes 70-79): 14.60% ± 0.00%\n",
            "    Task 8 (Classes 80-89): 5.70% ± 0.00%\n",
            "    Task 9 (Classes 90-99): 23.80% ± 0.00%\n"
          ]
        }
      ]
    },
    {
      "cell_type": "code",
      "source": [
        "# Run as many times as needed to adjust visualization:\n",
        "visualize_probing_results(probe_results, per_class_results, tasks, freeze_points, num_seeds)"
      ],
      "metadata": {
        "colab": {
          "base_uri": "https://localhost:8080/",
          "height": 1000
        },
        "id": "edk9bFy43ubn",
        "outputId": "2994e3f1-416a-4da1-809d-f98ab9b738d1"
      },
      "execution_count": 43,
      "outputs": [
        {
          "output_type": "display_data",
          "data": {
            "text/plain": [
              "<Figure size 2500x1000 with 10 Axes>"
            ],
            "image/png": "[encoded data removed]"
          },
          "metadata": {}
        },
        {
          "output_type": "display_data",
          "data": {
            "text/plain": [
              "<Figure size 1200x600 with 1 Axes>"
            ],
            "image/png": "[encoded data removed]"
          },
          "metadata": {}
        }
      ]
    }
  ],
  "metadata": {
    "accelerator": "GPU",
    "colab": {
      "gpuType": "T4",
      "provenance": []
    },
    "kernelspec": {
      "display_name": "Python 3",
      "name": "python3"
    },
    "language_info": {
      "name": "python"
    }
  },
  "nbformat": 4,
  "nbformat_minor": 0
}